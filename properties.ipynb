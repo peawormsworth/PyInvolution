{
 "cells": [
  {
   "cell_type": "markdown",
   "metadata": {},
   "source": [
    "# Algebraic Properties of Multi-dimensional numbers\n",
    "\n",
    "by Jeffrey B Anderson - <truejeffanderson@gmail.com>\n",
    "\n",
    "source: https://github.com/peawormsworth/PyInvolution"
   ]
  },
  {
   "cell_type": "markdown",
   "metadata": {},
   "source": [
    "### confirm the algebraic properties of Cayley-Dickson constructions using involution\n",
    "\n",
    "Techniques for testing algebraic properties of multicomplex numbers using <b>*involution*</b> on python3.\n",
    "\n",
    "We can confirm the conjugate and conjugate properties of Quaternion, Octonion and their split cousins the Split Quaternion and Split Octonion.\n",
    "\n",
    "The Quaternion has an additional metric space and a well known dot product formula. While the Split Quaternions have interesting nilpotents and idempotents.\n",
    "\n",
    "Finally, the commutative property, power associativity, weak alternative property, Moufang conditions and the Diophantus identity are verified for common algebraic constructions."
   ]
  },
  {
   "cell_type": "markdown",
   "metadata": {},
   "source": [
    "## Quaternion Conjugate Product\n",
    "\n",
    "Quaternion conjugation is often achieved by reversing the sign of (negating) the imaginary components, while leaving the real component untouched. Alternatively, there is also a formula which can be used to achieve the same result. \n",
    "\n",
    "given the quaternion:\n",
    "\n",
    "$$q = a+bi+cj+dk)$$\n",
    "\n",
    "its conjugate is the negation of its imaginary components:\n",
    "\n",
    "$$q^{*}=a-bi-cj-dk)$$\n",
    "\n",
    "But also, the quaternion conjugate is found using this formula:\n",
    "\n",
    "$$q^{*}=-{\\frac {1}{2}}(q+iqi+jqj+kqk)$$"
   ]
  },
  {
   "cell_type": "code",
   "execution_count": 1,
   "metadata": {
    "collapsed": false
   },
   "outputs": [
    {
     "name": "stdout",
     "output_type": "stream",
     "text": [
      "given a random quaternion like... \n",
      "\n",
      "\n",
      "(0.2987310829831106+0.7190081402902484i+0.19796664937861497j+0.22188572715876598k)\n",
      "\n",
      "\n",
      "the calculated conjugate is...    \n",
      "\n",
      "\n",
      "(0.2987310829831106-0.7190081402902484i-0.19796664937861497j-0.22188572715876598k)\n",
      "\n",
      "\n",
      "and the conjugate formula gives...\n",
      "\n",
      "\n",
      "(0.2987310829831106-0.7190081402902484i-0.19796664937861497j-0.22188572715876598k)\n",
      "\n",
      "\n",
      "\n",
      "Success: conjugates are equal.\n"
     ]
    }
   ],
   "source": [
    "from involution.algebra import Quaternion\n",
    "from jupyter_test import unit_list, random_vector\n",
    "\n",
    "# from any random quaternion...\n",
    "q = random_vector(Quaternion)\n",
    "\n",
    "# calculate the conjugate using involution...\n",
    "calculate = q.conj()\n",
    "\n",
    "# and generate \"one\" and the quaternion imaginary units i,j and k...\n",
    "o,i,j,k = unit_list(Quaternion)\n",
    "\n",
    "# to find the conjugate using this formula...\n",
    "formula = -1/2*( q + (i*q)*i + (j*q)*j + (k*q)*k )\n",
    "\n",
    "# output the results...\n",
    "print('given a random quaternion like... ', q,\n",
    "      'the calculated conjugate is...    ', calculate,\n",
    "      'and the conjugate formula gives...', formula, \n",
    "      '',sep=\"\\n\\n\\n\")\n",
    "\n",
    "# print success or dump the fail...\n",
    "assert calculate == formula, 'involution did not calculate the conjugate and its formula in the same way'\n",
    "print('Success: conjugates are equal.')\n"
   ]
  },
  {
   "cell_type": "markdown",
   "metadata": {},
   "source": [
    "## Quaternion Conjugate Product\n",
    "\n",
    "Quaternion conjugation product is defined here as the product of the quaternion with its conjugate.\n",
    "This product is equal to the square of the absolute magnitude (norm) of the Quaternion.\n",
    "It is also equal to the sum of the squares of the coefficients of the Quaternion.\n",
    "\n",
    "given the quaternion:\n",
    "\n",
    "$$q = a + bi + cj + dk$$\n",
    "\n",
    "This equality holds:\n",
    "\n",
    "$$q \\times q^{*}=a^2+b^2+c^2+d^2$$\n",
    "\n",
    "Which is also:\n",
    "\n",
    "$$|q|^2$$"
   ]
  },
  {
   "cell_type": "code",
   "execution_count": 2,
   "metadata": {
    "collapsed": false
   },
   "outputs": [
    {
     "name": "stdout",
     "output_type": "stream",
     "text": [
      "given a random quaternion like...\n",
      "\n",
      "\n",
      "(0.9292912265747254+0.4417163504698627i+0.32727788175440986j+0.47969718578916765k)\n",
      "\n",
      "\n",
      "the calculated conjugate product is...\n",
      "\n",
      "\n",
      "1.3959157200008727\n",
      "\n",
      "\n",
      "while the conjugate product formula gives...\n",
      "\n",
      "\n",
      "1.3959157200008727\n",
      "\n",
      "\n",
      "and the square of its absolute magnitude is...\n",
      "\n",
      "\n",
      "1.3959157200008725\n",
      "\n",
      "\n",
      "\n",
      "Success: the conjugate products equal the square of its absolute magnitude.\n"
     ]
    }
   ],
   "source": [
    "from involution.algebra import Quaternion\n",
    "from jupyter_test import *\n",
    "\n",
    "# from any random quaternion...\n",
    "q = random_vector(Quaternion)\n",
    "\n",
    "# calculate the product of itself with its conjugate...\n",
    "calculate = q * q.conj()\n",
    "\n",
    "# and find the sum of the square of its coefficients...\n",
    "a,b,c,d = q[:]\n",
    "formula = a**2 + b**2 + c**2 + d**2\n",
    "\n",
    "# equals the square of its absolute value...\n",
    "abs_square = abs(q) ** 2\n",
    "\n",
    "# output the results...\n",
    "print('given a random quaternion like...'           , q,\n",
    "      'the calculated conjugate product is...'      , calculate,\n",
    "      'while the conjugate product formula gives...', formula, \n",
    "      'and the square of its absolute magnitude is...', abs_square, \n",
    "      '',sep=\"\\n\\n\\n\")\n",
    "\n",
    "# print success or dump the fail...\n",
    "assert calculate == formula, 'involution did not calculate the conjugate product and its formula in the same way'\n",
    "print('Success: the conjugate products equal the square of its absolute magnitude.')"
   ]
  },
  {
   "cell_type": "markdown",
   "metadata": {},
   "source": [
    "## Quaternion Addition Metric Space\n",
    "\n",
    "The norm (absolute magnitude) of a quaternion has a square matrix determinant form.\n",
    "From the multiplicative property of determinants of square matrices, this norm makes it possible to define the distance between two quaternions, p and q, as the norm of their difference:\n",
    "\n",
    "$${\\displaystyle d(p,q)= | p-q | }$$\n",
    "\n",
    "This makes the quaternions a metric space, having addition and multiplication are continuous in the metric topology. And so, for any positive scalar, like <b>*a*</b>, it holds that...\n",
    "\n",
    "$${\\displaystyle | (p+ap_{1}+q+aq_{1})-(p+q) | =a | p_{1}+q_{1} | }$$"
   ]
  },
  {
   "cell_type": "code",
   "execution_count": 3,
   "metadata": {
    "collapsed": false
   },
   "outputs": [
    {
     "name": "stdout",
     "output_type": "stream",
     "text": [
      "given four random quaternion like...\n",
      "\n",
      "\n",
      "(0.4326737771203206+0.944487455325347i+0.4967667122453375j+0.2000234130641425k)\n",
      "\n",
      "\n",
      "(0.7703716335920227+0.03775755230275768i+0.824583743191314j+0.04260526106781104k)\n",
      "\n",
      "\n",
      "(0.30331470286785944+0.7907948798018299i+0.05620479541594037j+0.8738219791530774k)\n",
      "\n",
      "\n",
      "(0.1308782341616852+0.39286634510072527i+0.9542085673091416j+0.31236354977665315k)\n",
      "\n",
      "\n",
      "and a scalar value like...\n",
      "\n",
      "\n",
      "3.829168834501546\n",
      "\n",
      "\n",
      "the left side of the formula becomes...\n",
      "\n",
      "\n",
      "7.929055019706535\n",
      "\n",
      "\n",
      "the right side of the formula becomes...\n",
      "\n",
      "\n",
      "7.929055019706535\n",
      "\n",
      "\n",
      "\n",
      "Success: the conjugate products equal the square of its absolute magnitude.\n"
     ]
    }
   ],
   "source": [
    "from involution.algebra import Quaternion\n",
    "from jupyter_test import *\n",
    "\n",
    "# from any four random quaternion...\n",
    "p1 = random_vector(Quaternion)\n",
    "p2 = random_vector(Quaternion)\n",
    "q1 = random_vector(Quaternion)\n",
    "q2 = random_vector(Quaternion)\n",
    "\n",
    "# and any random scalar value...\n",
    "a  = uniform(0,10)\n",
    "\n",
    "# calculate the left side of the equation...\n",
    "left_side = abs((p1 + a*p2 + q1 + a*q2) - (p1+q1))\n",
    "\n",
    "# to compare with the right side...\n",
    "right_side = a*abs(p2+q2)\n",
    "\n",
    "# output the results...\n",
    "print('given four random quaternion like...', p1, p2, q1, q2,\n",
    "      'and a scalar value like...'         , a,\n",
    "      'the left side of the formula becomes...' , left_side,\n",
    "      'the right side of the formula becomes...', right_side,\n",
    "      '',sep=\"\\n\\n\\n\")\n",
    "\n",
    "# print success or dump the fail...\n",
    "assert left_side - right_side < 10 ** -12, \\\n",
    "    'involution did not calculate the conjugate product and its formula in the same way'\n",
    "print('Success: the conjugate products equal the square of its absolute magnitude.')"
   ]
  },
  {
   "cell_type": "markdown",
   "metadata": {},
   "source": [
    "## Quaternion Dot Product\n",
    "\n",
    "Operations such as the vector dot and cross products can be defined in terms of quaternions, and this makes it possible to apply quaternion techniques wherever spatial vectors arise.\n",
    "\n",
    "For two vector quaternions $p = b_{1}i + c_{1}j + d_{1}k$ and $q = b_{2}i + c_{2}j + d_{2}k$ their dot product is\n",
    "\n",
    "$$p\\cdot q=b_{1}b_{2}+c_{1}c_{2}+d_{1}d_{2}$$\n",
    "\n",
    "The dot product of a quaternion can be expressed in a component free manner as...\n",
    "\n",
    "$$q=\\textstyle {\\frac {1}{2}}(p^{*}q+q^{*}p)=\\textstyle {\\frac {1}{2}}(pq^{*}+qp^{*})$$"
   ]
  },
  {
   "cell_type": "code",
   "execution_count": 4,
   "metadata": {
    "collapsed": false
   },
   "outputs": [
    {
     "name": "stdout",
     "output_type": "stream",
     "text": [
      "given two random quaternion like...\n",
      "\n",
      "\n",
      "(0.9730739444129086i+0.6181562089367106j+0.7464652684065232k)\n",
      "\n",
      "\n",
      "(0.9102310385514113i+0.05668178201936025j+0.2892330516295203k)\n",
      "\n",
      "\n",
      "the first dot product result is...\n",
      "\n",
      "\n",
      "1.1366627300158125\n",
      "\n",
      "\n",
      "the second dot product result is...\n",
      "\n",
      "\n",
      "1.1366627300158125\n",
      "\n",
      "\n",
      "and the component dot product is...\n",
      "\n",
      "\n",
      "1.1366627300158125\n",
      "\n",
      "\n",
      "\n",
      "1st success: quaternion dot split quaterion dot product calculations are equal\n",
      "\n",
      "2nd success: the conjugate products equal the square of its absolute magnitude.\n",
      "\n"
     ]
    }
   ],
   "source": [
    "from involution.algebra import Quaternion\n",
    "from jupyter_test import *\n",
    "\n",
    "# from any two random quaternion...\n",
    "p = random_imaginary_vector(Quaternion)\n",
    "q = random_imaginary_vector(Quaternion)\n",
    "\n",
    "# compute the component free dot product...\n",
    "c1_dot_prod = 1/2*(p.conj()*q + q.conj()*p)\n",
    "c2_dot_prod = 1/2*(p*q.conj() + q*p.conj())\n",
    "\n",
    "# then extract their imaginary components (their i,j and k values)\n",
    "b1,c1,d1 = p[1:]\n",
    "b2,c2,d2 = q[1:]\n",
    "\n",
    "# and calculate the dot product using their components...\n",
    "cf_dot_prod = b1 * b2 + c1 * c2 + d1 * d2\n",
    "\n",
    "# output the results...\n",
    "print('given two random quaternion like...', p, q,\n",
    "      'the first dot product result is...' , c1_dot_prod,\n",
    "      'the second dot product result is...', c2_dot_prod,\n",
    "      'and the component dot product is...', cf_dot_prod,\n",
    "      '',sep=\"\\n\\n\\n\")\n",
    "\n",
    "# print success or dump the fail...\n",
    "assert c1_dot_prod == c2_dot_prod, 'dot product calculations did not match'\n",
    "print('1st success: quaternion dot split quaterion dot product calculations are equal\\n')\n",
    "\n",
    "assert c1_dot_prod[0] == cf_dot_prod, 'involution did not match the conjugate products to square of its absolute value.'\n",
    "print('2nd success: the conjugate products equal the square of its absolute magnitude.\\n')\n"
   ]
  },
  {
   "cell_type": "markdown",
   "metadata": {},
   "source": [
    "## Octonion Conjugation\n",
    "Like the quaternion, the Octonion conjugate is found by reversing the sign (negating) its imaginary components, while leaving the real component untouched. The Octonions have a second formula which can be used to achieve the same result.\n",
    "\n",
    "given the octonion:\n",
    "\n",
    "$$x = (a,b,c,d,e,f,g,h)$$\n",
    "\n",
    "its conjugate is the negation of its imaginary components:\n",
    "\n",
    "$${\\displaystyle x^{*}=(a,-b,-c,-d,-e,-f,-g,-h)}$$\n",
    "\n",
    "But also, the octonion conjugate is found using this equation:\n",
    "\n",
    "$${\\displaystyle x^{*}=-{\\frac {1}{6}}(x+(ix)\\,i+(jx)\\,j+(kx)\\,k+(lx)\\,l+(mx)\\,m+(nx)\\,n+(ox)\\,o)}$$\n",
    "\n",
    "*where $i,j,k,l,m,n,o$ are the imaginary octonion units*"
   ]
  },
  {
   "cell_type": "code",
   "execution_count": 5,
   "metadata": {
    "collapsed": false
   },
   "outputs": [
    {
     "name": "stdout",
     "output_type": "stream",
     "text": [
      "given a random octonion like...     \n",
      "\n",
      "\n",
      "(0.39316355712618534+0.773352135720441i+0.4261106997610852j+0.9153756241478849k+0.8641449588476808l+0.55229923088663m+0.7370686544087902n+0.4699038143435825o)\n",
      "\n",
      "\n",
      "the calculated conjugate is...      \n",
      "\n",
      "\n",
      "(0.39316355712618534-0.773352135720441i-0.4261106997610852j-0.9153756241478849k-0.8641449588476808l-0.55229923088663m-0.7370686544087902n-0.4699038143435825o)\n",
      "\n",
      "\n",
      "while the conjugate formula gives...\n",
      "\n",
      "\n",
      "(0.39316355712618534-0.7733521357204409i-0.4261106997610851j-0.9153756241478848k-0.8641449588476808l-0.5522992308866299m-0.7370686544087902n-0.4699038143435824o)\n",
      "\n",
      "\n",
      "\n",
      "Success: octonion conjugates are equal.\n"
     ]
    }
   ],
   "source": [
    "from involution.algebra import Octonion\n",
    "from jupyter_test import unit_list, random_vector\n",
    "\n",
    "# from any random octonion...\n",
    "x = random_vector(Octonion)\n",
    "\n",
    "# calculate the conjugate using involution...\n",
    "calculate = x.conj()\n",
    "\n",
    "# and generate \"one\" and the quaternion imaginary units i,j and k...\n",
    "o,i,j,k,l,m,n,o = unit_list(Octonion)\n",
    "\n",
    "# to find the conjugate using this formula...\n",
    "formula = -1/6*( x + (i*x)*i + (j*x)*j + (k*x)*k + (l*x)*l + (m*x)*m + (n*x)*n + (o*x)*o )\n",
    "\n",
    "# output the results...\n",
    "print('given a random octonion like...     ', x,\n",
    "      'the calculated conjugate is...      ', calculate,\n",
    "      'while the conjugate formula gives...', formula, \n",
    "      '',sep=\"\\n\\n\\n\")\n",
    "\n",
    "# print success or dump the fail...\n",
    "assert calculate == formula, 'involution did not calculate the conjugate and its formula in the same way'\n",
    "print('Success: octonion conjugates are equal.')\n"
   ]
  },
  {
   "cell_type": "markdown",
   "metadata": {},
   "source": [
    "## Octonion Conjugate Product"
   ]
  },
  {
   "cell_type": "markdown",
   "metadata": {},
   "source": [
    "Octonion conjugation product is defined here as the product of the Octonion with its conjugate.\n",
    "This product is equal to the square of the absolute magnitude (norm) of the Octonion.\n",
    "It is also equal to the sum of the squares of the coefficients of the Octonion.\n",
    "\n",
    "given the octonion:\n",
    "\n",
    "$$z=a+bi+cj+dk+el+fm+gn+ho$$\n",
    "\n",
    "This equality holds:\n",
    "\n",
    "$$z \\times z^{*}=a^2+b^2+c^2+d^2+e^2+f^2+g^2+h^2$$\n",
    "\n",
    "Which is also:\n",
    "\n",
    "$$|z|^2$$"
   ]
  },
  {
   "cell_type": "code",
   "execution_count": 6,
   "metadata": {
    "collapsed": false
   },
   "outputs": [
    {
     "name": "stdout",
     "output_type": "stream",
     "text": [
      "given a random octonion like...\n",
      "\n",
      "\n",
      "(0.7925766806752317+0.9303304015626097i+0.466913236662286j+0.9490833112451292k+0.10782507391204599l+0.9754504926810043m+0.9437558976612229n+0.1415573768582814o)\n",
      "\n",
      "\n",
      "the calculated conjugate product is...\n",
      "\n",
      "\n",
      "4.486303148625376\n",
      "\n",
      "\n",
      "while the conjugate product formula gives...\n",
      "\n",
      "\n",
      "4.486303148625376\n",
      "\n",
      "\n",
      "and the square of its absolute magnitude is...\n",
      "\n",
      "\n",
      "4.486303148625376\n",
      "\n",
      "\n",
      "\n",
      "Success: the conjugate products equal the square of its absolute magnitude.\n"
     ]
    }
   ],
   "source": [
    "from involution.algebra import Octonion\n",
    "from jupyter_test import *\n",
    "\n",
    "# from any random quaternion...\n",
    "o = random_vector(Octonion)\n",
    "\n",
    "# calculate the product of itself with its conjugate...\n",
    "calculate = o * o.conj()\n",
    "\n",
    "# and find the sum of the square of its coefficients...\n",
    "a,b,c,d,e,f,g,h = o[:]\n",
    "formula = a**2 + b**2 + c**2 + d**2 + e**2 + f**2 + g**2 + h**2\n",
    "\n",
    "# equals the square of its absolute value...\n",
    "abs_square = abs(o) ** 2\n",
    "\n",
    "# output the results...\n",
    "print('given a random octonion like...'             , o,\n",
    "      'the calculated conjugate product is...'      , calculate,\n",
    "      'while the conjugate product formula gives...', formula, \n",
    "      'and the square of its absolute magnitude is...', abs_square, \n",
    "      '',sep=\"\\n\\n\\n\")\n",
    "\n",
    "# print success or dump the fail...\n",
    "assert calculate == formula, 'involution did not calculate the conjugate product and its formula in the same way'\n",
    "print('Success: the conjugate products equal the square of its absolute magnitude.')"
   ]
  },
  {
   "cell_type": "markdown",
   "metadata": {},
   "source": [
    "## Split Quaternion Complex Generation\n",
    "\n",
    "The split quaternion conjugation product is defined here as the product of the quaternion with its conjugate.\n",
    "This product is equal to the square of the absolute magnitude (norm).\n",
    "It is also equal to the sum of the squares of the coefficients of the split quaternion.\n",
    "\n",
    "given the split quaternion:\n",
    "\n",
    "$$q = a + bi + cj + dk$$\n",
    "\n",
    "This equality holds:\n",
    "\n",
    "$$q \\times q^{*}=a^2+b^2-c^2-d^2$$\n",
    "\n",
    "Which is also:\n",
    "\n",
    "$$|q|^2$$"
   ]
  },
  {
   "cell_type": "code",
   "execution_count": 7,
   "metadata": {
    "collapsed": false
   },
   "outputs": [
    {
     "name": "stdout",
     "output_type": "stream",
     "text": [
      "given a random split quaternion like...\n",
      "\n",
      "\n",
      "(0.04070159539547813+0.9986018727542764i+0.02454799478324532j+0.3642385282296584k)\n",
      "\n",
      "\n",
      "the calculated conjugate product is...\n",
      "\n",
      "\n",
      "0.8655900106412993\n",
      "\n",
      "\n",
      "while the conjugate product formula gives...\n",
      "\n",
      "\n",
      "0.8655900106412993\n",
      "\n",
      "\n",
      "and the square of its absolute magnitude is...\n",
      "\n",
      "\n",
      "0.8655900106412994\n",
      "\n",
      "\n",
      "\n",
      "1st success: split quaterion conjugate product is equat to the sum of the square of its coefficients.\n",
      "\n",
      "2nd success: the conjugate products equal the square of its absolute magnitude.\n",
      "\n"
     ]
    }
   ],
   "source": [
    "from involution.algebra import SplitQuaternion\n",
    "from jupyter_test import *\n",
    "\n",
    "# from any random split quaternion...\n",
    "q = random_vector(SplitQuaternion)\n",
    "\n",
    "# calculate the product of itself with its conjugate...\n",
    "calculate = q * q.conj()\n",
    "\n",
    "# and find the sum of the square of its coefficients...\n",
    "a,b,c,d = q[:]\n",
    "formula = a**2 + b**2 - c**2 - d**2\n",
    "\n",
    "\n",
    "# equals the square of its absolute value...\n",
    "try:\n",
    "    abs_square = abs(q) ** 2\n",
    "except ValueError:\n",
    "    print(\"Some split quaternions do not have an absolute value\")\n",
    "\n",
    "# output the results...\n",
    "print('given a random split quaternion like...'     , q,\n",
    "      'the calculated conjugate product is...'      , calculate,\n",
    "      'while the conjugate product formula gives...', formula, \n",
    "      'and the square of its absolute magnitude is...', abs_square, \n",
    "      '',sep=\"\\n\\n\\n\")\n",
    "\n",
    "# print success or dump the fail...\n",
    "assert calculate == formula, 'involution did not match the '\n",
    "print('1st success: split quaterion conjugate product is equat to the sum of the square of its coefficients.\\n')\n",
    "\n",
    "try:\n",
    "    assert abs(formula - abs_square) < 10**-9, 'involution did not match the conjugate products to square of its absolute value.'\n",
    "    print('2nd success: the conjugate products equal the square of its absolute magnitude.\\n')\n",
    "except AssertionError as e:\n",
    "    print('\\n2nd error: {}\\n'.format(e))\n",
    "    print('This happens when the imaginary products are greater than its real product and so the absolute value is \\\n",
    "          the root of a negative number and is not considered to be the answer.')"
   ]
  },
  {
   "cell_type": "markdown",
   "metadata": {},
   "source": [
    "## Split Quaternion Nilpotent\n",
    "\n",
    "A nilpotent is a number that squares to zero.\n",
    "Zero itself is a trivial nilpotent because its square is also 0.\n",
    "\n",
    "Split-quaternions contain nontrivial nilpotent elements.\n",
    "\n",
    "Several split quaternion nilpotents are verified below."
   ]
  },
  {
   "cell_type": "code",
   "execution_count": 8,
   "metadata": {
    "collapsed": false
   },
   "outputs": [
    {
     "name": "stdout",
     "output_type": "stream",
     "text": [
      "confirm the split quaternion (i+k) is a nilpotent\n",
      "\n",
      "Success: (i+k)² = 0\n",
      "\n",
      "\n",
      "confirm the split quaternion (i+j) is a nilpotent\n",
      "\n",
      "Success: (i+j)² = 0\n",
      "\n",
      "\n",
      "confirm the split quaternion (i-k) is a nilpotent\n",
      "\n",
      "Success: (i-k)² = 0\n",
      "\n",
      "\n",
      "confirm the split quaternion (i-j) is a nilpotent\n",
      "\n",
      "Success: (i-j)² = 0\n",
      "\n",
      "\n"
     ]
    }
   ],
   "source": [
    "from involution.algebra import SplitQuaternion\n",
    "from jupyter_test import *\n",
    "\n",
    "zero = SplitQuaternion([0,0,0,0])\n",
    "\n",
    "#Test Split Quaternion nilpotent - a number whose square is zero\n",
    "o,i,j,k = unit_list(SplitQuaternion)\n",
    "for unit in [-k, -j, k, j]:\n",
    "    q = i - unit\n",
    "    calculate = q*q\n",
    "    formula = zero\n",
    "\n",
    "    # output the results...\n",
    "    print('confirm the split quaternion {} is a nilpotent\\n'.format(q))\n",
    "\n",
    "    # print success or dump the fail...\n",
    "    assert calculate == formula, '{} is not a splitquaternion nilpotent element' % q\n",
    "    print('Success: {}² = {}\\n\\n'.format(q,q*q))\n"
   ]
  },
  {
   "cell_type": "markdown",
   "metadata": {},
   "source": [
    "## Split Quaternion Idempotent\n",
    "\n",
    "A number that squares to itself is idempotent.\n",
    "\n",
    "One is a trivial idempotent because it squares to itself ($1= 1^2$).\n",
    "\n",
    "The split-quaternions contain nontrivial nilpotent elements.\n",
    "\n",
    "Several split quaternion nilpotents are verified below."
   ]
  },
  {
   "cell_type": "code",
   "execution_count": 9,
   "metadata": {
    "collapsed": false
   },
   "outputs": [
    {
     "name": "stdout",
     "output_type": "stream",
     "text": [
      "verify that split quaternion (0.5+0.5j) is a nilpotent\n",
      "\n",
      "Success: (0.5+0.5j)² = (0.5+0.5j)\n",
      "\n",
      "\n"
     ]
    }
   ],
   "source": [
    "from involution.algebra import SplitQuaternion    \n",
    "\n",
    "zero = SplitQuaternion([0,0,0,0])\n",
    "\n",
    "#Test Split Quaternion nilpotent - a number whose square is zero\n",
    "o,i,j,k = unit_list(SplitQuaternion)\n",
    "\n",
    "q = 1/2*(o+j)\n",
    "square = q*q\n",
    "original = q\n",
    "\n",
    "# output the results...\n",
    "print('verify that split quaternion {} is a nilpotent\\n'.format(q))\n",
    "\n",
    "# print success or dump the fail...\n",
    "assert square == original, '{} is not a splitquaternion nilpotent element' % q\n",
    "print('Success: {}² = {}\\n\\n'.format(q,q*q))"
   ]
  },
  {
   "cell_type": "markdown",
   "metadata": {},
   "source": [
    "## Split Octonion Conjugation"
   ]
  },
  {
   "cell_type": "code",
   "execution_count": 10,
   "metadata": {
    "collapsed": false
   },
   "outputs": [
    {
     "name": "stdout",
     "output_type": "stream",
     "text": [
      "100 loops\n",
      " \n",
      "\n",
      "=== Split Octonion Conjugation test\n",
      "\n",
      "Comparing conjugate against this formula:\n",
      "\n",
      "  conjugate(x) = -1/6*( x + (i*x)*i + (j*x)*j + (k*x)*k + (l*x)*l + (m*x)*m + (n*x)*n + (o*x)*o )\n",
      "\n",
      "\n",
      "\n",
      "These should be equal...\n",
      "\n",
      "   calc = (0.5014411501241893-0.1667919148132837i-0.7754894247281525j-0.6779461529476982k-0.2486513146091479l-0.2689667262722203m-0.497744254780898n-0.27313679126833235o)\n",
      " expect = (0.5014411501241893-0.1667919148132837i-0.7754894247281525j-0.6779461529476982k-0.2486513146091479l-0.2689667262722203m-0.497744254780898n-0.27313679126833235o)\n",
      "\n",
      "    \n"
     ]
    }
   ],
   "source": [
    "so.test_conjugation()"
   ]
  },
  {
   "cell_type": "markdown",
   "metadata": {},
   "source": [
    "## Split Octonion Conjugate Product"
   ]
  },
  {
   "cell_type": "code",
   "execution_count": 11,
   "metadata": {
    "collapsed": false
   },
   "outputs": [
    {
     "name": "stdout",
     "output_type": "stream",
     "text": [
      "100 loops\n",
      "\n",
      "\n",
      "These should be equal...\n",
      "\n",
      "   calc = (-0.8323052604525527)\n",
      " expect = -0.8323052604525527\n",
      "\n",
      "    \n"
     ]
    }
   ],
   "source": [
    "so.test_conjugate_product()"
   ]
  },
  {
   "cell_type": "markdown",
   "metadata": {},
   "source": [
    "## Complex Commutative property"
   ]
  },
  {
   "cell_type": "code",
   "execution_count": 12,
   "metadata": {
    "collapsed": false
   },
   "outputs": [
    {
     "name": "stdout",
     "output_type": "stream",
     "text": [
      "5000 loops\n",
      "\n",
      "\n",
      "=== Complex Commutative Property test\n",
      "\n",
      "These should be equal...\n",
      "\n",
      "     x × y = (-0.05824683235592741+0.19818975803587174i)\n",
      "     y × x = (-0.05824683235592741+0.19818975803587174i)\n",
      "\n"
     ]
    }
   ],
   "source": [
    "cm.test_complex()"
   ]
  },
  {
   "cell_type": "markdown",
   "metadata": {},
   "source": [
    "## Quaternion Commutative property"
   ]
  },
  {
   "cell_type": "code",
   "execution_count": 13,
   "metadata": {
    "collapsed": false
   },
   "outputs": [
    {
     "name": "stdout",
     "output_type": "stream",
     "text": [
      "1000 loops\n",
      "\n",
      "\n",
      "=== Quaternion Commutative Property test\n",
      "\n",
      "These should NOT be equal...\n",
      "\n",
      "     x × y = (-0.7762792352148493+0.7952839013501454i+0.8188276745743059j+0.5620118385076022k)\n",
      "     y × x = (-0.7762792352148493+0.1520679843812165i-0.06901472227167305j+1.261318693770201k)\n",
      "\n"
     ]
    }
   ],
   "source": [
    "cm.test_quaternion()"
   ]
  },
  {
   "cell_type": "markdown",
   "metadata": {},
   "source": [
    "## Octontion Commutative property"
   ]
  },
  {
   "cell_type": "code",
   "execution_count": 14,
   "metadata": {
    "collapsed": false
   },
   "outputs": [
    {
     "name": "stdout",
     "output_type": "stream",
     "text": [
      "300 loops\n",
      "\n",
      "\n",
      "=== Octonion Commutative Property test\n",
      "\n",
      "These should NOT be equal...\n",
      "\n",
      "     x × y = (-1.302147460832876+0.8217722519026317i+0.713052882632037j+0.22943468761759642k+0.32541320937446494l+0.3082252572532323m+0.04623234324375003n+0.40553611932670686o)\n",
      "     y × x = (-1.302147460832876+0.20789422617628145i+0.3776011065707783j-0.016982062162527373k+0.11631700683423057l+1.1307225597217707m+0.2570810184551562n+0.24421929572614842o)\n",
      "\n"
     ]
    }
   ],
   "source": [
    "cm.test_octonion()"
   ]
  },
  {
   "cell_type": "markdown",
   "metadata": {},
   "source": [
    "## Non-commutative Sedenion"
   ]
  },
  {
   "cell_type": "code",
   "execution_count": 15,
   "metadata": {
    "collapsed": false
   },
   "outputs": [
    {
     "name": "stdout",
     "output_type": "stream",
     "text": [
      "100 loops\n",
      "\n",
      "\n",
      "=== Sedenion Commutative Property test\n",
      "\n",
      "These should NOT be equal...\n",
      "\n",
      "     x × y = (-5.698594087735675-0.46990425263792496i-0.655090475795019j-0.8378533304837441k+1.13236331107879l+0.7032168510590733m+1.5384767356298619n+0.3386004925016953o+0.12957677785244837p+1.193306620036927q+0.15081957107161537r+1.5492638651847974s+1.0257232539826462t-1.4544937920455325u+1.7848158230313103v+1.025585158210482w)\n",
      "     y × x = (-5.698594087735675+1.6700392559656188i+1.540550696660727j+1.632941711171631k-0.5060375445391082l+0.14743090458094554m-0.569103776289832n+0.798770261574946o+0.4206643530482923p-0.26972444773598847q+0.8318508149342736r-0.6377469997517212s-0.5462979307016935t+2.0272198405299138u-1.426141148754036v-0.14200651109955753w)\n",
      "\n"
     ]
    }
   ],
   "source": [
    "cm.test_sedenion()"
   ]
  },
  {
   "cell_type": "markdown",
   "metadata": {},
   "source": [
    "## Non-Commutative in 32 dimensions"
   ]
  },
  {
   "cell_type": "code",
   "execution_count": 16,
   "metadata": {
    "collapsed": false
   },
   "outputs": [
    {
     "name": "stdout",
     "output_type": "stream",
     "text": [
      "50 loops\n",
      "\n",
      "\n",
      "=== Cd32 Commutative Property test\n",
      "\n",
      "These should NOT be equal...\n",
      "\n",
      "     x × y = (-6.575177270969094+1.0748935397120696b+1.766836840776914c+1.4310330261742326d+1.7318530395542981e-0.16303091114806118f+1.2455394577970542g-0.882595453159474h+1.1572539166171714i-0.8076070431424658j+1.1569678911882604k-0.007989236036828218l+1.751518497804963m+2.5371021832449854n-0.6709382702360706o-0.47462142407757235p+0.02263457399075719q+1.7541253322007166r+1.8204025045329344s+1.2845937511716419t-0.3298307410452842u+0.21901552495908205v+0.8002209810046942w+0.6763717398984144x+0.7600786758193877y+0.31336285944657927z+0.3428826618318999A+1.193268402136038B-0.7698916954115613C+0.7284008813318685D+1.4660932473786623E+1.992711866065882F)\n",
      "     y × x = (-6.575177270969094+0.41822101200240036b-0.7022837706281091c-0.8004979790384323d+0.4761335157894613e+1.359870376410479f+0.8028458641743494g+2.083055062431109h-0.07902341149591408i+3.4219047717758833j+0.2562721085050548k+1.2220803103021245l+1.0010304366121874m-1.4603970777755118n+2.039870259323043o+0.7914985244711757p+1.3590542986296859q+0.7739467693718114r-0.28648783010332024s-0.16176230953908777t+1.186274299309766u+1.274858073996813v+0.6242609735751561w+0.5153526523377512x+0.21429310352583797y+1.5426322648010475z+0.16682067351710106A+0.1647342192134571B+1.0732909551140692C+1.6021047684960685D+0.19530602348765674E-1.379602729221702F)\n",
      "\n"
     ]
    }
   ],
   "source": [
    "cm.test_cd32()"
   ]
  },
  {
   "cell_type": "markdown",
   "metadata": {},
   "source": [
    "## Weak Alternative"
   ]
  },
  {
   "cell_type": "code",
   "execution_count": 17,
   "metadata": {
    "collapsed": false
   },
   "outputs": [
    {
     "name": "stdout",
     "output_type": "stream",
     "text": [
      "1000 loops\n",
      "\n",
      "\n",
      "=== Complex weak alternative condition test\n",
      "\n",
      "Given:\n",
      "\n",
      "           x  = (0.2667788395158456+0.4920258212343336i)\n",
      "           y  = (0.7747458249356661+0.11240102786695982i)\n",
      "\n",
      "These should be equal...\n",
      "\n",
      " (y × x) × x  = (-0.16192634782371895+0.18417808265246713i)\n",
      " y ×(x  × x)  = (-0.16192634782371895+0.18417808265246718i)\n",
      "\n",
      "These should be equal...\n",
      "\n",
      " (x × y) × x  = (-0.16192634782371895+0.18417808265246713i)\n",
      "  x ×(y  × x  = (-0.16192634782371895+0.18417808265246713i)\n",
      "\n",
      "These should be equal...\n",
      "\n",
      " (x × x) × y  = (-0.16192634782371895+0.18417808265246718i)\n",
      "  x ×(x  × y) = (-0.16192634782371895+0.18417808265246713i)\n",
      "\n",
      "These should be equal...\n",
      "\n",
      " (x × y) × y  = (0.07106506445838856+0.33557633771399326i)\n",
      "  x ×(y  × y) = (0.07106506445838859+0.33557633771399326i)\n",
      "\n",
      "These should be equal...\n",
      "\n",
      " (y × x) × y  = (0.07106506445838856+0.33557633771399326i)\n",
      "  y ×(x  × y) = (0.07106506445838856+0.33557633771399326i)\n",
      "\n",
      "These should be equal...\n",
      "\n",
      " (y × y) × x  = (0.07106506445838859+0.33557633771399326i)\n",
      "  y ×(y  × x) = (0.07106506445838856+0.33557633771399326i)\n",
      "\n"
     ]
    }
   ],
   "source": [
    "wa.test_complex()"
   ]
  },
  {
   "cell_type": "markdown",
   "metadata": {},
   "source": [
    "## Diophantus Identity"
   ]
  },
  {
   "cell_type": "code",
   "execution_count": 18,
   "metadata": {
    "collapsed": false
   },
   "outputs": [
    {
     "name": "stdout",
     "output_type": "stream",
     "text": [
      "20000 loops\n",
      "\n",
      "\n",
      "=== Diophantus (Brahmagupta-Fibonacci) Identity test\n",
      "\n",
      "Given:\n",
      "\n",
      "             x = (0.5906821119050687+0.35549592196255686i)\n",
      "             y = (0.5277731812829847+0.5957637325156315i)\n",
      "\n",
      "Having absolute values\n",
      "\n",
      "        abs(x) = 0.6894075049320543\n",
      "        abs(y) = 0.795913912343866\n",
      "\n",
      "These should be equal...\n",
      "\n",
      " abs(x)×abs(y) = 0.5487090244496944\n",
      "      abs(x×y) = 0.5487090244496944\n",
      "\n",
      "\n"
     ]
    }
   ],
   "source": [
    "di.test_complex()"
   ]
  },
  {
   "cell_type": "markdown",
   "metadata": {},
   "source": [
    "## Moufang Condition"
   ]
  },
  {
   "cell_type": "code",
   "execution_count": 19,
   "metadata": {
    "collapsed": false
   },
   "outputs": [
    {
     "name": "stdout",
     "output_type": "stream",
     "text": [
      "500 loops\n",
      "\n",
      "\n",
      "=== Complex Moufang Condition test\n",
      "\n",
      "Given:\n",
      "\n",
      "       x = (0.028281880579039242+0.9430642840011506i)\n",
      "       y = (0.12021694254801363+0.7002695627681481i)\n",
      "       z = (0.03138225736100042+0.3142588545459136i)\n",
      "\n",
      "These should be equal...\n",
      "\n",
      "  z × (x × (z × y)) = (0.061610472891749646-0.025980096180586866i)\n",
      " ((z  × x) × z) × y = (0.061610472891749646-0.025980096180586866i)\n",
      "\n",
      "These should be equal...\n",
      "\n",
      " x × (z × (y × z )) = (0.061610472891749646-0.025980096180586866i)\n",
      " (( x × z) × y) × z = (0.06161047289174966-0.025980096180586873i)\n",
      "\n",
      "These should be equal...\n",
      "\n",
      " (z × x) × (y × z ) = (0.061610472891749646-0.025980096180586866i)\n",
      "   (z × (x × y))× z = (0.06161047289174966-0.025980096180586866i)\n",
      "\n",
      "These should be equal...\n",
      "\n",
      " (z × x) × (y × z ) = (0.061610472891749646-0.025980096180586866i)\n",
      "  z ×((x × y) × z ) = (0.06161047289174966-0.025980096180586866i)\n",
      "\n"
     ]
    }
   ],
   "source": [
    "mc.test_complex()"
   ]
  },
  {
   "cell_type": "markdown",
   "metadata": {},
   "source": [
    "## Power Associative"
   ]
  },
  {
   "cell_type": "code",
   "execution_count": 20,
   "metadata": {
    "collapsed": false
   },
   "outputs": [
    {
     "name": "stdout",
     "output_type": "stream",
     "text": [
      "8000 loops\n",
      "\n",
      "       x: 'Complex'([0.9563258031743036,0.2923028535321257], dp='3', ii='-')\n",
      "       y: 'Complex'([0.3179132594651912,0.9481198022698493], dp='3', ii='-')\n",
      "   x × y: 'Complex'([0.02689052950401799,0.9996383843285499], dp='3', ii='-')\n",
      "\n",
      "\n",
      "\n",
      "=== Power Associative tests\n",
      "\n",
      "Given random unit vectors...\n",
      "\n",
      "             x = (0.9563258031743036+0.2923028535321257i)\n",
      "             y = (0.3179132594651912+0.9481198022698493i)\n",
      "         x × y = (0.02689052950401799+0.9996383843285499i)\n",
      "\n",
      "Having a magnitude (abs) of 1...\n",
      "\n",
      "        abs(x) = 1.0\n",
      "        abs(y) = 1.0\n",
      "\n",
      "Produce a product of magnitude 1...\n",
      "\n",
      "    abs(x × y) = 1.0\n",
      "\n",
      "They should be in the same spot...\n",
      "\n",
      " distance to 1 = 0.0\n",
      "\n"
     ]
    }
   ],
   "source": [
    "pa.test_complex()"
   ]
  },
  {
   "cell_type": "markdown",
   "metadata": {},
   "source": [
    "## Two Square Identity"
   ]
  },
  {
   "cell_type": "code",
   "execution_count": 21,
   "metadata": {
    "collapsed": false
   },
   "outputs": [
    {
     "name": "stdout",
     "output_type": "stream",
     "text": [
      "\n",
      "\n",
      "=== Brahmagupta-Fibonacci's Two square identity test\n",
      "\n",
      "Given:\n",
      "\n",
      "       x: (0.6471564349888539+0.8216872270550629i)\n",
      "\n",
      "       y: (0.5720393156623598+0.036785417722048686i)\n",
      "\n",
      "These should be the same...\n",
      "\n",
      "Brahmagupta-Fibonacci's Two identity test product is:\n",
      "\n",
      "   formula(x × y):\n",
      "\n",
      "      (0.339972816313424+0.4938433188456571i)\n",
      "\n",
      "The involution product is:\n",
      "\n",
      "   code(x × y):\n",
      "\n",
      "      (0.339972816313424+0.4938433188456571i)\n",
      "            \n"
     ]
    }
   ],
   "source": [
    "TwoSquareIdentity().test_two_square_identity()"
   ]
  },
  {
   "cell_type": "markdown",
   "metadata": {},
   "source": [
    "## Four Square Identity"
   ]
  },
  {
   "cell_type": "code",
   "execution_count": 22,
   "metadata": {
    "collapsed": false
   },
   "outputs": [
    {
     "name": "stdout",
     "output_type": "stream",
     "text": [
      "\n",
      "\n",
      "=== Euler's Four square identity test\n",
      "\n",
      "Given:\n",
      "\n",
      "       x: (0.7321067554208271+0.17046910829150386i+0.7181284465364687j+0.45449195149980015k)\n",
      "\n",
      "       y: (0.010358584652513492+0.8409735922022862i+0.320697777884447j+0.9475735471053495k)\n",
      "\n",
      "These should be the same...\n",
      "\n",
      "Euler's Four identity test product is:\n",
      "\n",
      "   formula(x × y):\n",
      "\n",
      "      (-0.7967431762120764+1.152173227120154i+0.4629075154066255j+0.14917489332800546k)\n",
      "\n",
      "The involution product is:\n",
      "\n",
      "   code(x × y):\n",
      "\n",
      "      (-0.7967431762120762+1.1521732271201537i+0.4629075154066255j+0.1491748933280055k)\n",
      "            \n"
     ]
    }
   ],
   "source": [
    "FourSquareIdentity().test_four_square_identity()"
   ]
  },
  {
   "cell_type": "markdown",
   "metadata": {},
   "source": [
    "## Eight Square Identity"
   ]
  },
  {
   "cell_type": "code",
   "execution_count": 23,
   "metadata": {
    "collapsed": false
   },
   "outputs": [
    {
     "name": "stdout",
     "output_type": "stream",
     "text": [
      "\n",
      "\n",
      "=== Degen's Eight square identity test\n",
      "\n",
      "Given:\n",
      "\n",
      "       x: (0.33730850868877127+0.043103935540995786i+0.12275724061241278j+0.5417696779314038k+0.6218370395887447l+0.7032871712891574m+0.9881901376055433n+0.7459094360612817o)\n",
      "\n",
      "       y: (0.6720998811382924+0.0758237904240453i+0.80765160790487j+0.8712699984657581k+0.3590331684221807l+0.952869593311628m+0.1864343885675469n+0.09905973774361243o)\n",
      "\n",
      "These should be the same...\n",
      "\n",
      "Degen's Eight identity test product is:\n",
      "\n",
      "   formula(x × y):\n",
      "\n",
      "      (-1.4992593450640097+0.10513920833663042i-0.5214914551925071j+1.2878073701951676k+1.9227431460163613l+0.5927146812046462m+0.31312395953412836n-0.19668244352622166o)\n",
      "\n",
      "The involution product is:\n",
      "\n",
      "   code(x × y):\n",
      "\n",
      "      (-1.4992593450640097+0.10513920833663043i-0.5214914551925072j+1.2878073701951673k+1.9227431460163615l+0.5927146812046462m+0.31312395953412836n-0.1966824435262216o)\n",
      "            \n"
     ]
    }
   ],
   "source": [
    "EightSquareIdentity().test_eight_square_identity()"
   ]
  },
  {
   "cell_type": "markdown",
   "metadata": {},
   "source": [
    "## Sixteen Square Identity"
   ]
  },
  {
   "cell_type": "code",
   "execution_count": 24,
   "metadata": {
    "collapsed": false
   },
   "outputs": [
    {
     "name": "stdout",
     "output_type": "stream",
     "text": [
      "\n",
      "\n",
      "=== Pfister's Sixteen square identity test\n",
      "\n",
      "Given:\n",
      "\n",
      "       x: (0.731785026957899+0.2613363589385389i+0.2168555585375218j+0.17373428724515938k+0.9851468878067688l+0.6698417354322244m+0.3195304286962759n+0.8053109251339673o+0.5052753564669087p+0.9194355676833983q+0.18543730388935786r+0.5852921067879046s+0.6486360037901839t+0.5683971311234162u+0.8999256368217695v+0.7353065746240743w)\n",
      "\n",
      "       y: (0.7564147794842673+0.8004619031086087i+0.7584451010162152j+0.19355418748010167k+0.8770790656918195l+0.9197686397196332m+0.5442197514584344n+0.7342633231439211o+0.406933549123241p+0.5435491566197207q+0.21654249576270268r+0.13138345056212852s+0.8106752628062898t+0.9809241972887388u+0.7403769034158683v+0.5628594494245541w)\n",
      "\n",
      "These should be the same...\n",
      "\n",
      "Pfister's Sixteen identity test product is:\n",
      "\n",
      "   formula(x × y):\n",
      "\n",
      "      (-5.0850837516442855+1.005420210418587i+1.3018410431810543j-0.25695078952607187k+2.749319321014511l+0.606236864982386m-0.0202830652459563n+0.6418112097949149o+1.4338719908087807p+0.5351130481402462q+0.29095278256364804r-0.04474791144179374s+1.113705461773177t+0.28717614972977423u+2.159238205448152v+0.5182750740238482w)\n",
      "\n",
      "The involution product is:\n",
      "\n",
      "   code(x × y):\n",
      "\n",
      "      (-5.085083751644286+1.0054202104185868i+1.3018410431810545j-0.2569507895260718k+2.7493193210145113l+0.6062368649823862m-0.020283065245956355n+0.6418112097949149o+1.4338719908087803p+0.5351130481402462q+0.29095278256364804r-0.0447479114417938s+1.1137054617731768t+0.28717614972977445u+2.1592382054481516v+0.5182750740238481w)\n",
      "            \n"
     ]
    }
   ],
   "source": [
    "SixteenSquareIdentity().test_sixteen_square_identity()"
   ]
  }
 ],
 "metadata": {
  "kernelspec": {
   "display_name": "Python 3",
   "language": "python",
   "name": "python3"
  },
  "language_info": {
   "codemirror_mode": {
    "name": "ipython",
    "version": 3
   },
   "file_extension": ".py",
   "mimetype": "text/x-python",
   "name": "python",
   "nbconvert_exporter": "python",
   "pygments_lexer": "ipython3",
   "version": "3.5.3"
  }
 },
 "nbformat": 4,
 "nbformat_minor": 2
}
