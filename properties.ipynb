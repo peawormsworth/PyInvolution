{
 "cells": [
  {
   "cell_type": "markdown",
   "metadata": {},
   "source": [
    "# Algebraic Properties of Multi-dimensional numbers\n",
    "\n",
    "by Jeffrey B Anderson - <truejeffanderson@gmail.com>\n",
    "\n",
    "source: https://github.com/peawormsworth/PyInvolution"
   ]
  },
  {
   "cell_type": "markdown",
   "metadata": {},
   "source": [
    "### testing the algebraic properties of Cayley-Dickson constructions using involution\n",
    "\n",
    "The algebraic properties of multicomplex numbers are tested using <b>*involution*</b>.\n",
    "\n",
    "We can confirm the conjugate and conjugate properties of Quaternion, Octonion and their split cousins the Split Quaternion and Split Octonion.\n",
    "\n",
    "The Quaternion has an additional metric space and a well known dot product formula. While the Split Quaternions have interesting nilpotents and idempotents.\n",
    "\n",
    "Finally, the commutative property, power associativity, weak alternative property, Moufang conditions and the Diophantus identity are verified for common algebraic constructions."
   ]
  },
  {
   "cell_type": "markdown",
   "metadata": {},
   "source": [
    "## Quaternion Conjugation"
   ]
  },
  {
   "cell_type": "markdown",
   "metadata": {},
   "source": [
    "Quaternion conjugation is often achieved by reversing the sign of (negating) the imaginary components, while leaving the real component untouched. Alternatively, there is also a formula which can be used to achieve the same result. \n",
    "\n",
    "given the quaternion:\n",
    "\n",
    "$$q = (a,b,c,d)$$\n",
    "\n",
    "its conjugate is the negation of its imaginary components:\n",
    "\n",
    "$${\\displaystyle q^{*}=(a,-b,-c,-d)}$$\n",
    "\n",
    "But also, the quaternion conjugate is found using this formula:\n",
    "\n",
    "$${\\displaystyle q^{*}=-{\\frac {1}{2}}(q+iqi+jqj+kqk)}$$\n",
    "\n",
    "Below we test this property by creating both and comparing for equality...\n",
    "\n",
    "*=== begin code ===*"
   ]
  },
  {
   "cell_type": "code",
   "execution_count": 1,
   "metadata": {
    "collapsed": false
   },
   "outputs": [
    {
     "name": "stdout",
     "output_type": "stream",
     "text": [
      "given a random quaternion like... \n",
      "\n",
      "\n",
      "(0.7795021404065535+0.000987970225841961i+0.1838315213135705j+0.8706824438144586k)\n",
      "\n",
      "\n",
      "the calculated conjugate is...    \n",
      "\n",
      "\n",
      "0.7795021404065535-0.000987970225841961i-0.1838315213135705j-0.8706824438144586k\n",
      "\n",
      "\n",
      "and the conjugate formula gives...\n",
      "\n",
      "\n",
      "0.7795021404065535-0.000987970225841961i-0.1838315213135705j-0.8706824438144587k\n",
      "\n",
      "\n",
      "\n",
      "Success: conjugates are equal.\n"
     ]
    }
   ],
   "source": [
    "from involution.algebra import Quaternion\n",
    "from jupyter_test import unit_list, random_vector\n",
    "\n",
    "# from any random quaternion...\n",
    "q = random_vector(Quaternion)\n",
    "\n",
    "# calculate the conjugate using involution...\n",
    "calculate = q.conj()\n",
    "\n",
    "# and generate \"one\" and the quaternion imaginary units i,j and k...\n",
    "o,i,j,k = unit_list(Quaternion)\n",
    "\n",
    "# to find the conjugate using this formula...\n",
    "formula = -1/2*( q + (i*q)*i + (j*q)*j + (k*q)*k )\n",
    "\n",
    "# output the results...\n",
    "print('given a random quaternion like... ', q,\n",
    "      'the calculated conjugate is...    ', calculate,\n",
    "      'and the conjugate formula gives...', formula, \n",
    "      '',sep=\"\\n\\n\\n\")\n",
    "\n",
    "# print success or dump the fail...\n",
    "assert calculate == formula, 'involution did not calculate the conjugate and its formula in the same way'\n",
    "print('Success: conjugates are equal.')\n"
   ]
  },
  {
   "cell_type": "markdown",
   "metadata": {},
   "source": [
    "*=== end code===*"
   ]
  },
  {
   "cell_type": "markdown",
   "metadata": {},
   "source": [
    "## Quaternion Conjugate Product"
   ]
  },
  {
   "cell_type": "markdown",
   "metadata": {},
   "source": [
    "Quaternion conjugation product is defined here as the product of the quaternion with its conjugate.\n",
    "This product is equal to the square of the absolute magnitude (norm) of the Quaternion.\n",
    "It is also equal to the sum of the squares of the coefficients of the Quaternion.\n",
    "\n",
    "given the quaternion:\n",
    "\n",
    "$$q = (a,b,c,d)$$\n",
    "\n",
    "its conjugate product is:\n",
    "\n",
    "$$conjugate\\:product = q \\times conjugate(q)$$\n",
    "\n",
    "But also:\n",
    "\n",
    "$$conjugate\\:product = a^2+b^2+c^2+d^2$$\n",
    "\n",
    "And finally:\n",
    "\n",
    "$$conjugate\\:product = |q|^2$$\n",
    "\n",
    "Below we test this property by evaluating all three on a random quaternion and comparing for equality...\n",
    "\n",
    "*=== begin code ===*"
   ]
  },
  {
   "cell_type": "code",
   "execution_count": 2,
   "metadata": {
    "collapsed": false
   },
   "outputs": [
    {
     "name": "stdout",
     "output_type": "stream",
     "text": [
      "given a random quaternion like...\n",
      "\n",
      "\n",
      "(0.5012048153046809+0.7363019207422139i+0.095125825535462j+0.3333360698769424k)\n",
      "\n",
      "\n",
      "the calculated conjugate product is...\n",
      "\n",
      "\n",
      "0.9135086435380816\n",
      "\n",
      "\n",
      "while the conjugate product formula gives...\n",
      "\n",
      "\n",
      "0.9135086435380817\n",
      "\n",
      "\n",
      "and the square of its absolute magnite is...\n",
      "\n",
      "\n",
      "0.9135086435380818\n",
      "\n",
      "\n",
      "\n",
      "Success: the conjugate products equal the square of its absolute magnitude.\n"
     ]
    }
   ],
   "source": [
    "from involution.algebra import Quaternion\n",
    "from jupyter_test import *\n",
    "\n",
    "# from any random quaternion...\n",
    "q = random_vector(Quaternion)\n",
    "\n",
    "# calculate the product of itself with its conjugate...\n",
    "calculate = q * q.conj()\n",
    "\n",
    "# and find the sum of the square of its coefficients...\n",
    "a,b,c,d = q[:]\n",
    "formula = a**2 + b**2 + c**2 + d**2\n",
    "\n",
    "# equals the square of its absolute value...\n",
    "abs_square = abs(q) ** 2\n",
    "\n",
    "# output the results...\n",
    "print('given a random quaternion like...'           , q,\n",
    "      'the calculated conjugate product is...'      , calculate,\n",
    "      'while the conjugate product formula gives...', formula, \n",
    "      'and the square of its absolute magnite is...', abs_square, \n",
    "      '',sep=\"\\n\\n\\n\")\n",
    "\n",
    "# print success or dump the fail...\n",
    "assert calculate == formula, 'involution did not calculate the conjugate product and its formula in the same way'\n",
    "print('Success: the conjugate products equal the square of its absolute magnitude.')"
   ]
  },
  {
   "cell_type": "markdown",
   "metadata": {},
   "source": [
    "*=== end code===*"
   ]
  },
  {
   "cell_type": "markdown",
   "metadata": {},
   "source": [
    "## Quaternion Addition Metric Space"
   ]
  },
  {
   "cell_type": "markdown",
   "metadata": {},
   "source": [
    "The norm (absolute magnitude) of a quaternion has a square matrix determinant form.\n",
    "From the multiplicative property of determinants of square matrices, this norm makes it possible to define the distance between two quaternions, p and q, as the norm of their difference:\n",
    "\n",
    "$${\\displaystyle d(p,q)= | p-q | }$$\n",
    "\n",
    "This makes the quaternions a metric space, having addition and multiplication are continuous in the metric topology. And so, for any positive scalar, like <b>*a*</b>, it holds that...\n",
    "\n",
    "$${\\displaystyle | (p+ap_{1}+q+aq_{1})-(p+q) | =a | p_{1}+q_{1} | }$$\n",
    "\n",
    "Below we test this property by generating 4 quaternions and a scalar to test the formula for equality...\n",
    "\n",
    "*===begin code===*"
   ]
  },
  {
   "cell_type": "code",
   "execution_count": 3,
   "metadata": {
    "collapsed": false
   },
   "outputs": [
    {
     "name": "stdout",
     "output_type": "stream",
     "text": [
      "given four random quaternion like...\n",
      "\n",
      "\n",
      "(0.8639011936390139+0.833985068538742i+0.4998510320268378j+0.6982567920055796k)\n",
      "\n",
      "\n",
      "(0.8953540519320404+0.2978060731204294i+0.2485998758551239j+0.5825250530744115k)\n",
      "\n",
      "\n",
      "(0.0036330102093556915+0.29734834702148305i+0.7247817274861817j+0.5466368773183524k)\n",
      "\n",
      "\n",
      "(0.7736841703501274+0.44665691773374716i+0.6476511486192204j+0.9599754069781768k)\n",
      "\n",
      "\n",
      "and a scalar value like...\n",
      "\n",
      "\n",
      "7.042964423053473\n",
      "\n",
      "\n",
      "the left side of the formula becomes...\n",
      "\n",
      "\n",
      "17.987140031119143\n",
      "\n",
      "\n",
      "the right side of the formula becomes...\n",
      "\n",
      "\n",
      "17.98714003111914\n",
      "\n",
      "\n",
      "\n",
      "Success: the conjugate products equal the square of its absolute magnitude.\n"
     ]
    }
   ],
   "source": [
    "from involution.algebra import Quaternion\n",
    "from jupyter_test import *\n",
    "\n",
    "# from any four random quaternion...\n",
    "p1 = random_vector(Quaternion)\n",
    "p2 = random_vector(Quaternion)\n",
    "q1 = random_vector(Quaternion)\n",
    "q2 = random_vector(Quaternion)\n",
    "\n",
    "# and any random scalar value...\n",
    "a  = uniform(0,10)\n",
    "\n",
    "# calculate the left side of the equation...\n",
    "left_side = abs((p1 + a*p2 + q1 + a*q2) - (p1+q1))\n",
    "\n",
    "# to compare with the right side...\n",
    "right_side = a*abs(p2+q2)\n",
    "\n",
    "# output the results...\n",
    "print('given four random quaternion like...', p1, p2, q1, q2,\n",
    "      'and a scalar value like...'         , a,\n",
    "      'the left side of the formula becomes...' , left_side,\n",
    "      'the right side of the formula becomes...', right_side,\n",
    "      '',sep=\"\\n\\n\\n\")\n",
    "\n",
    "# print success or dump the fail...\n",
    "assert left_side - right_side < 10 ** -12, 'involution did not calculate the conjugate product and its formula in the same way'\n",
    "print('Success: the conjugate products equal the square of its absolute magnitude.')"
   ]
  },
  {
   "cell_type": "markdown",
   "metadata": {},
   "source": [
    "*===end code===*"
   ]
  },
  {
   "cell_type": "markdown",
   "metadata": {},
   "source": [
    "## Quaternion Dot Product"
   ]
  },
  {
   "cell_type": "markdown",
   "metadata": {},
   "source": [
    "Operations such as the vector dot and cross products can be defined in terms of quaternions, and this makes it possible to apply quaternion techniques wherever spatial vectors arise.\n",
    "\n",
    "For two vector quaternions p = b1i + c1j + d1k and q = b2i + c2j + d2k their dot product, by analogy to vectors in R3, is\n",
    "\n",
    "$${\\displaystyle p\\cdot q=b_{1}b_{2}+c_{1}c_{2}+d_{1}d_{2}.}p\\cdot q=b_{1}b_{2}+c_{1}c_{2}+d_{1}d_{2}$$\n",
    "\n",
    "The dot product of a quaternion can be expressed in a component-free manner as...\n",
    "\n",
    "$${\\displaystyle p\\cdot q=\\textstyle {\\frac {1}{2}}(p^{*}q+q^{*}p)=\\textstyle {\\frac {1}{2}}(pq^{*}+qp^{*}).}p\\cdot q=\\textstyle {\\frac {1}{2}}(p^{*}q+q^{*}p)=\\textstyle {\\frac {1}{2}}(pq^{*}+qp^{*})$$\n",
    "\n",
    "Below we test this property by generating 4 quaternions and a scalar to test the formula for equality...\n",
    "\n",
    "*===begin code===*"
   ]
  },
  {
   "cell_type": "code",
   "execution_count": 4,
   "metadata": {
    "collapsed": false
   },
   "outputs": [
    {
     "name": "stdout",
     "output_type": "stream",
     "text": [
      "given two random quaternion like...\n",
      "\n",
      "\n",
      "(0.6236773510945536i+0.7762091255571224j+0.8962884946446718k)\n",
      "\n",
      "\n",
      "(0.9830550459072049i+0.8668177253101067j+0.2132608105966497k)\n",
      "\n",
      "\n",
      "the first dot product result is...\n",
      "\n",
      "\n",
      "1.4770842064882859\n",
      "\n",
      "\n",
      "the second dot product result is...\n",
      "\n",
      "\n",
      "1.4770842064882859\n",
      "\n",
      "\n",
      "and the component dot product is...\n",
      "\n",
      "\n",
      "1.4770842064882856\n",
      "\n",
      "\n",
      "\n",
      "Success: the component and component free dot products match\n"
     ]
    }
   ],
   "source": [
    "from involution.algebra import Quaternion\n",
    "from jupyter_test import *\n",
    "\n",
    "# from any two random quaternion...\n",
    "p = random_imaginary_vector(Quaternion)\n",
    "q = random_imaginary_vector(Quaternion)\n",
    "\n",
    "# compute the component free dot product...\n",
    "c1_dot_prod = 1/2*(p.conj()*q + q.conj()*p)\n",
    "c2_dot_prod = 1/2*(p*q.conj() + q*p.conj())\n",
    "\n",
    "# then extract their imaginary components (their i,j and k values)\n",
    "b1,c1,d1 = p[1:]\n",
    "b2,c2,d2 = q[1:]\n",
    "\n",
    "# and calculate the dot product using their components...\n",
    "cf_dot_prod = b1 * b2 + c1 * c2 + d1 * d2\n",
    "\n",
    "# output the results...\n",
    "print('given two random quaternion like...', p, q,\n",
    "      'the first dot product result is...' , c1_dot_prod,\n",
    "      'the second dot product result is...', c2_dot_prod,\n",
    "      'and the component dot product is...', cf_dot_prod,\n",
    "      '',sep=\"\\n\\n\\n\")\n",
    "\n",
    "# print success or dump the fail...\n",
    "assert left_side - right_side < 10 ** -12, 'involution is unable to calculate the dot product correctly'\n",
    "print('Success: the component and component free dot products match')"
   ]
  },
  {
   "cell_type": "markdown",
   "metadata": {},
   "source": [
    "*===end code===*"
   ]
  },
  {
   "cell_type": "markdown",
   "metadata": {},
   "source": [
    "## Octonion Conjugation\n",
    "Like the quaternion, the Octonion conjugate is found by reversing the sign (negating) its imaginary components, while leaving the real component untouched. The Octonions have a second formula which can be used to achieve the same result.\n",
    "\n",
    "given the octonion:\n",
    "\n",
    "$$o = (a,b,c,d,e,f,g,h)$$\n",
    "\n",
    "its conjugate is the negation of its imaginary components:\n",
    "\n",
    "$${\\displaystyle o^{*}=(a,-b,-c,-d,-e,-f,-g,-h)}$$\n",
    "\n",
    "But also, the octonion conjugate is found using this equation:\n",
    "\n",
    "$${\\displaystyle x^{*}=-{\\frac {1}{6}}(x+(ix)\\,i+(jx)\\,j+(kx)\\,k+(lx)\\,l+(mx)\\,m+(nx)\\,n+(ox)\\,o)}$$\n",
    "\n",
    "where $i,j,k,l,m,n,o$ are the imaginary octonion units\n",
    "\n",
    "Below we test this property by creating both and comparing for equality...\n",
    "\n",
    "*=== begin code ===*"
   ]
  },
  {
   "cell_type": "code",
   "execution_count": 5,
   "metadata": {
    "collapsed": false
   },
   "outputs": [
    {
     "name": "stdout",
     "output_type": "stream",
     "text": [
      "given a random octonion like...     \n",
      "\n",
      "\n",
      "(0.4337037726760138+0.6602172396236561i+0.09578165662020066j+0.37373727795851397k+0.015794778771099804l+0.30545421668425166m+0.10994445504504768n+0.5512927028018704o)\n",
      "\n",
      "\n",
      "the calculated conjugate is...      \n",
      "\n",
      "\n",
      "0.4337037726760138-0.6602172396236561i-0.09578165662020066j-0.37373727795851397k-0.015794778771099804l-0.30545421668425166m-0.10994445504504768n-0.5512927028018704o\n",
      "\n",
      "\n",
      "while the conjugate formula gives...\n",
      "\n",
      "\n",
      "0.4337037726760138-0.6602172396236561i-0.09578165662020066j-0.37373727795851397k-0.015794778771099804l-0.3054542166842516m-0.10994445504504768n-0.5512927028018703o\n",
      "\n",
      "\n",
      "\n",
      "Success: octonion conjugates are equal.\n"
     ]
    }
   ],
   "source": [
    "from involution.algebra import Octonion\n",
    "from jupyter_test import unit_list, random_vector\n",
    "\n",
    "# from any random octonion...\n",
    "x = random_vector(Octonion)\n",
    "\n",
    "# calculate the conjugate using involution...\n",
    "calculate = x.conj()\n",
    "\n",
    "# and generate \"one\" and the quaternion imaginary units i,j and k...\n",
    "o,i,j,k,l,m,n,o = unit_list(Octonion)\n",
    "\n",
    "# to find the conjugate using this formula...\n",
    "formula = -1/6*( x + (i*x)*i + (j*x)*j + (k*x)*k + (l*x)*l + (m*x)*m + (n*x)*n + (o*x)*o )\n",
    "\n",
    "# output the results...\n",
    "print('given a random octonion like...     ', x,\n",
    "      'the calculated conjugate is...      ', calculate,\n",
    "      'while the conjugate formula gives...', formula, \n",
    "      '',sep=\"\\n\\n\\n\")\n",
    "\n",
    "# print success or dump the fail...\n",
    "assert calculate == formula, 'involution did not calculate the conjugate and its formula in the same way'\n",
    "print('Success: octonion conjugates are equal.')\n"
   ]
  },
  {
   "cell_type": "markdown",
   "metadata": {},
   "source": [
    "*=== end code ===*"
   ]
  },
  {
   "cell_type": "markdown",
   "metadata": {},
   "source": [
    "## Octonion Conjugate Product"
   ]
  },
  {
   "cell_type": "markdown",
   "metadata": {},
   "source": [
    "Octonion conjugation product is defined here as the product of the Octonion with its conjugate.\n",
    "This product is equal to the square of the absolute magnitude (norm) of the Octonion.\n",
    "It is also equal to the sum of the squares of the coefficients of the Octonion.\n",
    "\n",
    "given the octonion:\n",
    "\n",
    "$$o = (a,b,c,d,e,f,g,h)$$\n",
    "\n",
    "its conjugate product is:\n",
    "\n",
    "$$conjugate\\:product = q \\times conjugate(o)$$\n",
    "\n",
    "But also:\n",
    "\n",
    "$$conjugate\\:product = a^2+b^2+c^2+d^2+e^2+f^2+g^2+h^2$$\n",
    "\n",
    "And finally:\n",
    "\n",
    "$$conjugate\\:product = |o|^2$$\n",
    "\n",
    "Below we test this property by evaluating all three on a random quaternion and comparing for equality...\n",
    "\n",
    "*=== begin code ===*"
   ]
  },
  {
   "cell_type": "code",
   "execution_count": 6,
   "metadata": {
    "collapsed": false
   },
   "outputs": [
    {
     "name": "stdout",
     "output_type": "stream",
     "text": [
      "given a random octonion like...\n",
      "\n",
      "\n",
      "(0.20039431559665677+0.22516757859319292i+0.38826898294885903j+0.002835632099549179k+0.19145134027319277l+0.8414374602068617m+0.1198622208982596n+0.44808682329236915o)\n",
      "\n",
      "\n",
      "the calculated conjugate product is...\n",
      "\n",
      "\n",
      "1.2014385324412056\n",
      "\n",
      "\n",
      "while the conjugate product formula gives...\n",
      "\n",
      "\n",
      "1.2014385324412054\n",
      "\n",
      "\n",
      "and the square of its absolute magnite is...\n",
      "\n",
      "\n",
      "1.2014385324412054\n",
      "\n",
      "\n",
      "\n",
      "Success: the conjugate products equal the square of its absolute magnitude.\n"
     ]
    }
   ],
   "source": [
    "from involution.algebra import Octonion\n",
    "from jupyter_test import *\n",
    "\n",
    "# from any random quaternion...\n",
    "o = random_vector(Octonion)\n",
    "\n",
    "# calculate the product of itself with its conjugate...\n",
    "calculate = o * o.conj()\n",
    "\n",
    "# and find the sum of the square of its coefficients...\n",
    "formula = sum([coefficient ** 2 for coefficient in o])\n",
    "\n",
    "# equals the square of its absolute value...\n",
    "abs_square = abs(o) ** 2\n",
    "\n",
    "# output the results...\n",
    "print('given a random octonion like...'             , o,\n",
    "      'the calculated conjugate product is...'      , calculate,\n",
    "      'while the conjugate product formula gives...', formula, \n",
    "      'and the square of its absolute magnite is...', abs_square, \n",
    "      '',sep=\"\\n\\n\\n\")\n",
    "\n",
    "# print success or dump the fail...\n",
    "assert calculate == formula, 'involution did not calculate the conjugate product and its formula in the same way'\n",
    "print('Success: the conjugate products equal the square of its absolute magnitude.')"
   ]
  },
  {
   "cell_type": "markdown",
   "metadata": {},
   "source": [
    "*=== end code ===*"
   ]
  },
  {
   "cell_type": "markdown",
   "metadata": {},
   "source": [
    "## Split Quaternion Complex Generation"
   ]
  },
  {
   "cell_type": "markdown",
   "metadata": {},
   "source": [
    "The split quaternion conjugation product is defined here as the product of the quaternion with its conjugate.\n",
    "This product is equal to the square of the absolute magnitude (norm).\n",
    "It is also equal to the sum of the squares of the coefficients of the split quaternion.\n",
    "\n",
    "given the split quaternion:\n",
    "\n",
    "$$q = (a,b,c,d)$$\n",
    "\n",
    "its conjugate product is:\n",
    "\n",
    "$$conjugate\\:product = q \\times conjugate(q)$$\n",
    "\n",
    "But also:\n",
    "\n",
    "$$conjugate\\:product = a^2+b^2-c^2-d^2$$\n",
    "\n",
    "And finally:\n",
    "\n",
    "$$conjugate\\:product = |q|^2$$\n",
    "\n",
    "Below we test this property by evaluating all of these for a random split quaternion and comparing for equality...\n",
    "\n",
    "*=== begin code ===*\n"
   ]
  },
  {
   "cell_type": "code",
   "execution_count": 7,
   "metadata": {
    "collapsed": false
   },
   "outputs": [
    {
     "name": "stdout",
     "output_type": "stream",
     "text": [
      "given a random split quaternion like...\n",
      "\n",
      "\n",
      "(0.8322102239036894+0.32357479864684635i+0.2624939701064102j+0.015028609064047682k)\n",
      "\n",
      "\n",
      "the calculated conjugate product is...\n",
      "\n",
      "\n",
      "0.728145563656551\n",
      "\n",
      "\n",
      "while the conjugate product formula gives...\n",
      "\n",
      "\n",
      "0.728145563656551\n",
      "\n",
      "\n",
      "and the square of its absolute magnite is...\n",
      "\n",
      "\n",
      "0.7281455636565508\n",
      "\n",
      "\n",
      "\n",
      "Success: the conjugate products equal the square of its absolute magnitude.\n"
     ]
    }
   ],
   "source": [
    "from involution.algebra import SplitQuaternion\n",
    "from jupyter_test import *\n",
    "\n",
    "# from any random split quaternion...\n",
    "q = random_vector(SplitQuaternion)\n",
    "\n",
    "# calculate the product of itself with its conjugate...\n",
    "calculate = q * q.conj()\n",
    "\n",
    "# and find the sum of the square of its coefficients...\n",
    "a,b,c,d = q[:]\n",
    "formula = a**2 + b**2 - c**2 - d**2\n",
    "\n",
    "\n",
    "# equals the square of its absolute value...\n",
    "abs_square = abs(q) ** 2\n",
    "\n",
    "# output the results...\n",
    "print('given a random split quaternion like...'     , q,\n",
    "      'the calculated conjugate product is...'      , calculate,\n",
    "      'while the conjugate product formula gives...', formula, \n",
    "      'and the square of its absolute magnite is...', abs_square, \n",
    "      '',sep=\"\\n\\n\\n\")\n",
    "\n",
    "# print success or dump the fail...\n",
    "assert calculate == formula, 'involution did not calculate the conjugate product and its formula in the same way'\n",
    "print('Success: the conjugate products equal the square of its absolute magnitude.')"
   ]
  },
  {
   "cell_type": "markdown",
   "metadata": {},
   "source": [
    "*=== end code ===*"
   ]
  },
  {
   "cell_type": "markdown",
   "metadata": {},
   "source": [
    "## Split Quaternion Nilpotent\n",
    "A nilpotent is a number that squares to 0.\n",
    "The only real trivial nilpotent is zero, because its square is 0.\n",
    "\n",
    "The split-quaternions contain nontrivial nilpotent elements.\n",
    "\n",
    "Several split quaternion nilpotents are verified below.\n",
    "\n",
    "*=== begin code ===*"
   ]
  },
  {
   "cell_type": "code",
   "execution_count": 8,
   "metadata": {
    "collapsed": false
   },
   "outputs": [
    {
     "name": "stdout",
     "output_type": "stream",
     "text": [
      "verify (i+k) is a split quaternion nilpotent\n",
      "\n",
      "Success: (i+k) is nilpotent.\n",
      "\n",
      "\n",
      "verify (i+j) is a split quaternion nilpotent\n",
      "\n",
      "Success: (i+j) is nilpotent.\n",
      "\n",
      "\n",
      "verify i-k is a split quaternion nilpotent\n",
      "\n",
      "Success: i-k is nilpotent.\n",
      "\n",
      "\n",
      "verify i-j is a split quaternion nilpotent\n",
      "\n",
      "Success: i-j is nilpotent.\n",
      "\n",
      "\n"
     ]
    }
   ],
   "source": [
    "from involution.algebra import SplitQuaternion\n",
    "\n",
    "zero = SplitQuaternion([0,0,0,0])\n",
    "\n",
    "#Test Split Quaternion nilpotent - a number whose square is zero\n",
    "o,i,j,k = unit_list(SplitQuaternion)\n",
    "for unit in [-k, -j, k, j]:\n",
    "    q = i - unit\n",
    "    calc = q*q\n",
    "    expect = zero\n",
    "\n",
    "    # output the results...\n",
    "    print('verify {} is a split quaternion nilpotent\\n'.format(q))\n",
    "\n",
    "    # print success or dump the fail...\n",
    "    assert calculate == formula, '{} is not a splitquaternion nilpotent element' % q\n",
    "    print('Success: {} is nilpotent.\\n\\n'.format(q))"
   ]
  },
  {
   "cell_type": "markdown",
   "metadata": {},
   "source": [
    "*=== end code ===*"
   ]
  },
  {
   "cell_type": "markdown",
   "metadata": {},
   "source": [
    "## Split Quaternion Idempotent\n",
    "\n",
    "A number that squares to itself is idempotent.\n",
    "\n",
    "The only real trivial idempotent is one, because its square is itself ($1= 1^2$).\n",
    "\n",
    "The split-quaternions contain nontrivial nilpotent elements.\n",
    "\n",
    "Several split quaternion nilpotents are verified below.\n",
    "\n",
    "=== begin code ==="
   ]
  },
  {
   "cell_type": "code",
   "execution_count": 9,
   "metadata": {
    "collapsed": false
   },
   "outputs": [
    {
     "name": "stdout",
     "output_type": "stream",
     "text": [
      "verify that split quaternion (0.5+0.5j) is a nilpotent\n",
      "\n",
      "Success: (0.5+0.5j) is nilpotent.\n",
      "\n",
      "\n"
     ]
    }
   ],
   "source": [
    "from involution.algebra import SplitQuaternion    \n",
    "\n",
    "zero = SplitQuaternion([0,0,0,0])\n",
    "\n",
    "#Test Split Quaternion nilpotent - a number whose square is zero\n",
    "o,i,j,k = unit_list(SplitQuaternion)\n",
    "\n",
    "q = 1/2*(o+j)\n",
    "square = q*q\n",
    "original = q\n",
    "\n",
    "# output the results...\n",
    "print('verify that split quaternion {} is a nilpotent\\n'.format(q))\n",
    "\n",
    "# print success or dump the fail...\n",
    "assert square == original, '{} is not a splitquaternion nilpotent element' % q\n",
    "print('Success: {} is nilpotent.\\n\\n'.format(q))"
   ]
  },
  {
   "cell_type": "markdown",
   "metadata": {},
   "source": [
    "*=== end code ===*"
   ]
  },
  {
   "cell_type": "markdown",
   "metadata": {},
   "source": [
    "## Split Octonion Conjugation"
   ]
  },
  {
   "cell_type": "code",
   "execution_count": 10,
   "metadata": {
    "collapsed": false
   },
   "outputs": [
    {
     "name": "stdout",
     "output_type": "stream",
     "text": [
      "100 loops\n",
      " \n",
      "\n",
      "=== Split Octonion Conjugation test\n",
      "\n",
      "Comparing conjugate against this formula:\n",
      "\n",
      "  conjugate(x) = -1/6*( x + (i*x)*i + (j*x)*j + (k*x)*k + (l*x)*l + (m*x)*m + (n*x)*n + (o*x)*o )\n",
      "\n",
      "\n",
      "\n",
      "These should be equal...\n",
      "\n",
      "   calc = 0.1608763152212216-0.37860017488343534i-0.06743680912740235j-0.8948140185139938k-0.4794089507647832l-0.12960343340363212m-0.3253774358731858n-0.8407943764823719o\n",
      " expect = 0.1608763152212216-0.37860017488343534i-0.06743680912740235j-0.8948140185139938k-0.4794089507647832l-0.12960343340363212m-0.3253774358731858n-0.8407943764823719o\n",
      "\n",
      "    \n"
     ]
    }
   ],
   "source": [
    "so.test_conjugation()"
   ]
  },
  {
   "cell_type": "markdown",
   "metadata": {},
   "source": []
  },
  {
   "cell_type": "markdown",
   "metadata": {},
   "source": [
    "## Split Octonion Conjugate Product"
   ]
  },
  {
   "cell_type": "code",
   "execution_count": 11,
   "metadata": {
    "collapsed": false
   },
   "outputs": [
    {
     "name": "stdout",
     "output_type": "stream",
     "text": [
      "100 loops\n",
      "\n",
      "\n",
      "These should be equal...\n",
      "\n",
      "   calc = 0.07425566823580576\n",
      " expect = 0.07425566823580576\n",
      "\n",
      "    \n"
     ]
    }
   ],
   "source": [
    "so.test_conjugate_product()"
   ]
  },
  {
   "cell_type": "markdown",
   "metadata": {},
   "source": []
  },
  {
   "cell_type": "markdown",
   "metadata": {},
   "source": [
    "## Complex Commutative property"
   ]
  },
  {
   "cell_type": "code",
   "execution_count": 12,
   "metadata": {
    "collapsed": false
   },
   "outputs": [
    {
     "name": "stdout",
     "output_type": "stream",
     "text": [
      "5000 loops\n",
      "\n",
      "\n",
      "=== Complex Commutative Property test\n",
      "\n",
      "These should be equal...\n",
      "\n",
      "     x × y = (-0.5742922247357392+0.4433499456595825i)\n",
      "     y × x = (-0.5742922247357392+0.4433499456595825i)\n",
      "\n"
     ]
    }
   ],
   "source": [
    "cm.test_complex()"
   ]
  },
  {
   "cell_type": "markdown",
   "metadata": {},
   "source": []
  },
  {
   "cell_type": "markdown",
   "metadata": {},
   "source": [
    "## Quaternion Commutative property"
   ]
  },
  {
   "cell_type": "code",
   "execution_count": 13,
   "metadata": {
    "collapsed": false
   },
   "outputs": [
    {
     "name": "stdout",
     "output_type": "stream",
     "text": [
      "1000 loops\n",
      "\n",
      "\n",
      "=== Quaternion Commutative Property test\n",
      "\n",
      "These should NOT be equal...\n",
      "\n",
      "     x × y = (-0.39178140472761463+0.032041883928748544i+0.05646107575452583j+0.6771303306902005k)\n",
      "     y × x = (-0.39178140472761463+0.4271266712810875i+0.20797481145866661j-0.4868565544600914k)\n",
      "\n"
     ]
    }
   ],
   "source": [
    "cm.test_quaternion()"
   ]
  },
  {
   "cell_type": "markdown",
   "metadata": {},
   "source": []
  },
  {
   "cell_type": "markdown",
   "metadata": {},
   "source": [
    "## Octontion Commutative property"
   ]
  },
  {
   "cell_type": "code",
   "execution_count": 14,
   "metadata": {
    "collapsed": false
   },
   "outputs": [
    {
     "name": "stdout",
     "output_type": "stream",
     "text": [
      "300 loops\n",
      "\n",
      "\n",
      "=== Octonion Commutative Property test\n",
      "\n",
      "These should NOT be equal...\n",
      "\n",
      "     x × y = (-2.015296450504896+0.33284162023559904i-0.2692194092214192j-0.5823875804001111k+0.6497060273977731l+0.7362810329227194m+1.821983119877285n+1.3312246272800032o)\n",
      "     y × x = (-2.015296450504896+1.1267934210007517i+1.271274278201616j+0.9991739113447313k+0.6760032452989808l+0.9389645842155092m+0.6153513114886335n+0.9884355231293993o)\n",
      "\n"
     ]
    }
   ],
   "source": [
    "cm.test_octonion()"
   ]
  },
  {
   "cell_type": "markdown",
   "metadata": {},
   "source": []
  },
  {
   "cell_type": "markdown",
   "metadata": {},
   "source": [
    "## Non-commutative Sedenion"
   ]
  },
  {
   "cell_type": "code",
   "execution_count": 15,
   "metadata": {
    "collapsed": false
   },
   "outputs": [
    {
     "name": "stdout",
     "output_type": "stream",
     "text": [
      "100 loops\n",
      "\n",
      "\n",
      "=== Sedenion Commutative Property test\n",
      "\n",
      "These should NOT be equal...\n",
      "\n",
      "     x × y = (-3.765830375723468-0.44295209802325797i+1.0222650673185854j-0.007918302667268007k+1.2847528179217842l+1.2596742737123954m+1.475926708100384n+0.8931695241713501o+0.4233649732309255p+1.669023534097512q-1.1577478913325887r+0.10168529082381239s+2.7325737572732463t+0.2966419632234151u+0.7154207909805799v+1.5122489594571533w)\n",
      "     y × x = (-3.765830375723468+1.387746177559726i-0.30692163060754674j+1.2506869266460643k+0.4040593686682519l+0.26315718102968355m+0.4069043014452225n+0.2414087500100517o+1.8391373533110782p-0.5960251494117732q+2.681220005036439r+1.8986762795046772s-1.4831397677958371t+0.5737053811341898u+0.9761639992407697v-0.26477840947947395w)\n",
      "\n"
     ]
    }
   ],
   "source": [
    "cm.test_sedenion()"
   ]
  },
  {
   "cell_type": "markdown",
   "metadata": {},
   "source": []
  },
  {
   "cell_type": "markdown",
   "metadata": {},
   "source": [
    "## Non-Commutative in 32 dimensions"
   ]
  },
  {
   "cell_type": "code",
   "execution_count": 16,
   "metadata": {
    "collapsed": false
   },
   "outputs": [
    {
     "name": "stdout",
     "output_type": "stream",
     "text": [
      "50 loops\n",
      "\n",
      "\n",
      "=== Cd32 Commutative Property test\n",
      "\n",
      "These should NOT be equal...\n",
      "\n",
      "     x × y = (-5.407032612613028-1.1613142926052644b+0.39805237870761345c+2.063693249454311d+0.3197615889691146e+3.4740375463732476f-0.3830594577755035g+0.6433942116459569h+1.06151882503689i+0.46396908524018754j+0.42016244871596564k+3.394787836963726l+0.6652874832690678m+0.7811995356133725n-0.10975828572065682o+1.158963578449022p+1.8790933389394717q+0.7127372295839235r+0.7592298677118426s-0.40545072886881095t-0.27960531567346103u+1.5577510800237506v+2.216411696822473w+2.83640616491323x+1.305840835733983y-2.0374101197475833z-1.355797971915135A+0.6028335919894043B+0.1817076995259671C-1.012224041117885D+0.591188600802219E+1.077527717022325F)\n",
      "     y × x = (-5.407032612613028+2.801394038531824b+1.5165724674294774c+0.41339012993311697d+0.44211014992676373e-1.181126705886608f+1.7119102393373242g+1.3020676158554472h+0.21304274614218777i+0.5976648522358485j+1.755441086404019k-1.8000769332019106l+1.643351872741003m-0.5247226153033608n+2.0514136144139576o-0.13254861762050113p+0.23778090036631694q+1.3761050393384728r+0.8470035284722632s+2.6372713160536976t+1.4782001277898509u+0.6448396641962921v-0.5828380931675047w-1.4503480010131669x+0.7229488785089377y+2.532855830937464z+1.7584305348981029A+1.7468597354393967B+1.0393091881637115C+1.972260323400329D+1.216505318797706E+0.39693992640706927F)\n",
      "\n"
     ]
    }
   ],
   "source": [
    "cm.test_cd32()"
   ]
  },
  {
   "cell_type": "markdown",
   "metadata": {},
   "source": []
  },
  {
   "cell_type": "markdown",
   "metadata": {},
   "source": [
    "## Weak Alternative"
   ]
  },
  {
   "cell_type": "code",
   "execution_count": 17,
   "metadata": {
    "collapsed": false
   },
   "outputs": [
    {
     "name": "stdout",
     "output_type": "stream",
     "text": [
      "1000 loops\n",
      "\n",
      "\n",
      "=== Complex weak alternative condition test\n",
      "\n",
      "Given:\n",
      "\n",
      "           x  = (0.01510661490255516+0.022347133059968938i)\n",
      "           y  = (0.36571419913659486+0.6336003930519705i)\n",
      "\n",
      "These should be equal...\n",
      "\n",
      " (y × x) × x  = (-0.0005269697596585595+7.509993910642521e-05i)\n",
      " y ×(x  × x)  = (-0.0005269697596585594+7.509993910642519e-05i)\n",
      "\n",
      "These should be equal...\n",
      "\n",
      " (x × y) × x  = (-0.0005269697596585595+7.509993910642521e-05i)\n",
      "  x ×(y  × x  = (-0.0005269697596585595+7.509993910642521e-05i)\n",
      "\n",
      "These should be equal...\n",
      "\n",
      " (x × x) × y  = (-0.0005269697596585594+7.509993910642519e-05i)\n",
      "  x ×(x  × y) = (-0.0005269697596585595+7.509993910642521e-05i)\n",
      "\n",
      "These should be equal...\n",
      "\n",
      " (x × y) × y  = (-0.014400485904802283+0.0010185234734201723i)\n",
      "  x ×(y  × y) = (-0.014400485904802281+0.0010185234734201715i)\n",
      "\n",
      "These should be equal...\n",
      "\n",
      " (y × x) × y  = (-0.014400485904802283+0.0010185234734201723i)\n",
      "  y ×(x  × y) = (-0.014400485904802283+0.0010185234734201723i)\n",
      "\n",
      "These should be equal...\n",
      "\n",
      " (y × y) × x  = (-0.014400485904802281+0.0010185234734201715i)\n",
      "  y ×(y  × x) = (-0.014400485904802283+0.0010185234734201723i)\n",
      "\n"
     ]
    }
   ],
   "source": [
    "wa.test_complex()"
   ]
  },
  {
   "cell_type": "markdown",
   "metadata": {},
   "source": []
  },
  {
   "cell_type": "markdown",
   "metadata": {},
   "source": [
    "## Diophantus Identity"
   ]
  },
  {
   "cell_type": "code",
   "execution_count": 18,
   "metadata": {
    "collapsed": false
   },
   "outputs": [
    {
     "name": "stdout",
     "output_type": "stream",
     "text": [
      "20000 loops\n",
      "\n",
      "\n",
      "=== Diophantus (Brahmagupta-Fibonacci) Identity test\n",
      "\n",
      "Given:\n",
      "\n",
      "             x = (0.25138366641912746+0.020541625495618887i)\n",
      "             y = (0.2141084408037599+0.49799111539105134i)\n",
      "\n",
      "Having absolute values\n",
      "\n",
      "        abs(x) = 0.2522215417451995\n",
      "        abs(y) = 0.5420678697652542\n",
      "\n",
      "These should be equal...\n",
      "\n",
      " abs(x)×abs(y) = 0.13672119384272843\n",
      "      abs(x×y) = 0.1367211938427284\n",
      "\n",
      "\n"
     ]
    }
   ],
   "source": [
    "di.test_complex()"
   ]
  },
  {
   "cell_type": "markdown",
   "metadata": {},
   "source": []
  },
  {
   "cell_type": "markdown",
   "metadata": {},
   "source": [
    "## Moufang Condition"
   ]
  },
  {
   "cell_type": "code",
   "execution_count": 19,
   "metadata": {
    "collapsed": false
   },
   "outputs": [
    {
     "name": "stdout",
     "output_type": "stream",
     "text": [
      "500 loops\n",
      "\n",
      "\n",
      "=== Complex Moufang Condition test\n",
      "\n",
      "Given:\n",
      "\n",
      "       x = (0.20150519686163526+0.49919119940217116i)\n",
      "       y = (0.17886543209341876+0.12601474283023217i)\n",
      "       z = (0.5542127361012414+0.5732484119998847i)\n",
      "\n",
      "These should be equal...\n",
      "\n",
      "  z × (x × (z × y)) = -0.07229192505007773-0.019530196266072587i\n",
      " ((z  × x) × z) × y = -0.07229192505007774-0.0195301962660726i\n",
      "\n",
      "These should be equal...\n",
      "\n",
      " x × (z × (y × z )) = -0.07229192505007773-0.019530196266072584i\n",
      " (( x × z) × y) × z = -0.07229192505007774-0.019530196266072594i\n",
      "\n",
      "These should be equal...\n",
      "\n",
      " (z × x) × (y × z ) = -0.07229192505007773-0.019530196266072587i\n",
      "   (z × (x × y))× z = -0.07229192505007773-0.019530196266072587i\n",
      "\n",
      "These should be equal...\n",
      "\n",
      " (z × x) × (y × z ) = -0.07229192505007773-0.019530196266072587i\n",
      "  z ×((x × y) × z ) = -0.07229192505007773-0.019530196266072587i\n",
      "\n"
     ]
    }
   ],
   "source": [
    "mc.test_complex()"
   ]
  },
  {
   "cell_type": "markdown",
   "metadata": {},
   "source": []
  },
  {
   "cell_type": "markdown",
   "metadata": {},
   "source": [
    "## Power Associative"
   ]
  },
  {
   "cell_type": "code",
   "execution_count": 20,
   "metadata": {
    "collapsed": false
   },
   "outputs": [
    {
     "name": "stdout",
     "output_type": "stream",
     "text": [
      "8000 loops\n",
      "\n",
      "       x: 'Complex'([0.9726738843796798,0.23217561165149433], dp='3', ii='-')\n",
      "       y: 'Complex'([0.5121279457731224,0.8589091728222502], dp='3', ii='-')\n",
      "   x × y: 'Complex'([0.29871571576144396,0.9543421405120538], dp='3', ii='-')\n",
      "\n",
      "\n",
      "\n",
      "=== Power Associative tests\n",
      "\n",
      "Given random unit vectors...\n",
      "\n",
      "             x = (0.9726738843796798+0.23217561165149433i)\n",
      "             y = (0.5121279457731224+0.8589091728222502i)\n",
      "         x × y = (0.29871571576144396+0.9543421405120538i)\n",
      "\n",
      "Having a magnitude (abs) of 1...\n",
      "\n",
      "        abs(x) = 1.0\n",
      "        abs(y) = 1.0\n",
      "\n",
      "Produce a product of magnitude 1...\n",
      "\n",
      "    abs(x × y) = 1.0000000000000002\n",
      "\n",
      "They should be in the same spot...\n",
      "\n",
      " distance to 1 = 2.220446049250313e-16\n",
      "\n"
     ]
    }
   ],
   "source": [
    "pa.test_complex()"
   ]
  },
  {
   "cell_type": "markdown",
   "metadata": {},
   "source": []
  },
  {
   "cell_type": "markdown",
   "metadata": {},
   "source": [
    "## Two Square Identity"
   ]
  },
  {
   "cell_type": "code",
   "execution_count": 21,
   "metadata": {
    "collapsed": false
   },
   "outputs": [
    {
     "name": "stdout",
     "output_type": "stream",
     "text": [
      "\n",
      "\n",
      "=== Brahmagupta-Fibonacci's Two square identity test\n",
      "\n",
      "Given:\n",
      "\n",
      "       x: (0.8062107008203722+0.10581322770667201i)\n",
      "\n",
      "       y: (0.9071727616729378+0.48394430595270577i)\n",
      "\n",
      "These should be the same...\n",
      "\n",
      "Brahmagupta-Fibonacci's Two identity test product is:\n",
      "\n",
      "   formula(x × y):\n",
      "\n",
      "      (0.6801646789103707+0.4861519560603486i)\n",
      "\n",
      "The involution product is:\n",
      "\n",
      "   code(x × y):\n",
      "\n",
      "      (0.6801646789103707+0.4861519560603486i)\n",
      "            \n"
     ]
    }
   ],
   "source": [
    "TwoSquareIdentity().test_two_square_identity()"
   ]
  },
  {
   "cell_type": "markdown",
   "metadata": {},
   "source": []
  },
  {
   "cell_type": "markdown",
   "metadata": {},
   "source": [
    "## Four Square Identity"
   ]
  },
  {
   "cell_type": "code",
   "execution_count": 22,
   "metadata": {
    "collapsed": false
   },
   "outputs": [
    {
     "name": "stdout",
     "output_type": "stream",
     "text": [
      "\n",
      "\n",
      "=== Euler's Four square identity test\n",
      "\n",
      "Given:\n",
      "\n",
      "       x: (0.054304419168269+0.7196445949424063i+0.8749576640757206j+0.2970447416600628k)\n",
      "\n",
      "       y: (0.28832529935851203+0.025454492852274968i+0.8318122160514058j+0.775942380726272k)\n",
      "\n",
      "These should be the same...\n",
      "\n",
      "Euler's Four identity test product is:\n",
      "\n",
      "   formula(x × y):\n",
      "\n",
      "      (-0.9609509278168747+0.6407053227890083i-0.2533981073526136j+0.704120176037594k)\n",
      "\n",
      "The involution product is:\n",
      "\n",
      "   code(x × y):\n",
      "\n",
      "      (-0.9609509278168747+0.6407053227890083i-0.2533981073526136j+0.704120176037594k)\n",
      "            \n"
     ]
    }
   ],
   "source": [
    "FourSquareIdentity().test_four_square_identity()"
   ]
  },
  {
   "cell_type": "markdown",
   "metadata": {},
   "source": []
  },
  {
   "cell_type": "markdown",
   "metadata": {},
   "source": [
    "## Eight Square Identity"
   ]
  },
  {
   "cell_type": "code",
   "execution_count": 23,
   "metadata": {
    "collapsed": false
   },
   "outputs": [
    {
     "name": "stdout",
     "output_type": "stream",
     "text": [
      "\n",
      "\n",
      "=== Degen's Eight square identity test\n",
      "\n",
      "Given:\n",
      "\n",
      "       x: (0.2818198124141805+0.44670690926928747i+0.9486088460455216j+0.721817269776687k+0.6427417030195844l+0.5768454654242414m+0.600089803585673n+0.3609824880261191o)\n",
      "\n",
      "       y: (0.42903241612689513+0.9009499387619478i+0.6672399994267592j+0.270783478709109k+0.7011776128521541l+0.2264802392827414m+0.15604189558165693n+0.5542264955203731o)\n",
      "\n",
      "These should be the same...\n",
      "\n",
      "Degen's Eight identity test product is:\n",
      "\n",
      "   formula(x × y):\n",
      "\n",
      "      (-1.984982086508215-0.31436057295404707i+1.0418585090265329j-0.02158514266142486k+0.8419804038879419l-0.28928806214933606m+0.4527865169088436n+0.9440361412217748o)\n",
      "\n",
      "The involution product is:\n",
      "\n",
      "   code(x × y):\n",
      "\n",
      "      (-1.984982086508215-0.31436057295404707i+1.0418585090265333j-0.02158514266142486k+0.8419804038879422l-0.2892880621493361m+0.4527865169088436n+0.9440361412217748o)\n",
      "            \n"
     ]
    }
   ],
   "source": [
    "EightSquareIdentity().test_eight_square_identity()"
   ]
  },
  {
   "cell_type": "markdown",
   "metadata": {},
   "source": []
  },
  {
   "cell_type": "markdown",
   "metadata": {},
   "source": [
    "## Sixteen Square Identity"
   ]
  },
  {
   "cell_type": "code",
   "execution_count": 24,
   "metadata": {
    "collapsed": false
   },
   "outputs": [
    {
     "name": "stdout",
     "output_type": "stream",
     "text": [
      "\n",
      "\n",
      "=== Pfister's Sixteen square identity test\n",
      "\n",
      "Given:\n",
      "\n",
      "       x: (0.03730632623629082+0.8987220626637855i+0.7013959499784714j+0.3339580564676661k+0.13467728747643404l+0.5990119420174602m+0.9197174791580829n+0.4609603732790212o+0.968286200272433p+0.5559704911086911q+0.05769934767028362r+0.8849629561531545s+0.4245156048077027t+0.31824845033267946u+0.1836113702043437v+0.6124625865575436w)\n",
      "\n",
      "       y: (0.059902090480369874+0.4874404149940841i+0.945451283427079j+0.2196021065506356k+0.9651756475036083l+0.771044113157834m+0.47895807613949537n+0.7214680026321629o+0.5544747925283694p+0.18612750805142375q+0.6822395370325395r+0.5194603104602694s+0.9727502045098065t+0.7533052671975026u+0.04682898280282821v+0.4725668423093534w)\n",
      "\n",
      "These should be the same...\n",
      "\n",
      "Pfister's Sixteen identity test product is:\n",
      "\n",
      "   formula(x × y):\n",
      "\n",
      "      (-4.627391785838854-0.5131574311222644i+0.518677761798869j+0.525985226192477k+1.0805868314993485l+0.5086907258782283m+1.449980020241636n-0.017218677053192966o+0.12108681537122518p+1.4673437074948044q+0.7668052512546191r-0.9194956194703579s-0.2773426471674658t-1.988010719129265u-0.07441254321327562v-1.220105015007947w)\n",
      "\n",
      "The involution product is:\n",
      "\n",
      "   code(x × y):\n",
      "\n",
      "      (-4.627391785838855-0.5131574311222646i+0.518677761798869j+0.525985226192477k+1.0805868314993483l+0.5086907258782284m+1.449980020241636n-0.017218677053192966o+0.12108681537122479p+1.4673437074948041q+0.7668052512546188r-0.9194956194703579s-0.27734264716746576t-1.988010719129265u-0.07441254321327573v-1.2201050150079473w)\n",
      "            \n"
     ]
    }
   ],
   "source": [
    "SixteenSquareIdentity().test_sixteen_square_identity()"
   ]
  }
 ],
 "metadata": {
  "kernelspec": {
   "display_name": "Python 3",
   "language": "python",
   "name": "python3"
  },
  "language_info": {
   "codemirror_mode": {
    "name": "ipython",
    "version": 3
   },
   "file_extension": ".py",
   "mimetype": "text/x-python",
   "name": "python",
   "nbconvert_exporter": "python",
   "pygments_lexer": "ipython3",
   "version": "3.5.3"
  }
 },
 "nbformat": 4,
 "nbformat_minor": 2
}
