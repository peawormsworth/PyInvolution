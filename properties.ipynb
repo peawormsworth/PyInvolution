{
 "cells": [
  {
   "cell_type": "markdown",
   "metadata": {},
   "source": [
    "# Algebraic Properties of Multi-dimensional numbers\n",
    "\n",
    "by Jeffrey B Anderson - <truejeffanderson@gmail.com>\n",
    "\n",
    "source: https://github.com/peawormsworth/PyInvolution"
   ]
  },
  {
   "cell_type": "markdown",
   "metadata": {},
   "source": [
    "### confirm the algebraic properties of Cayley-Dickson constructions using involution\n",
    "\n",
    "Techniques for testing algebraic properties of multicomplex numbers using <b>*involution*</b> on python3.\n",
    "\n",
    "We can confirm the conjugate and conjugate properties of Quaternion, Octonion and their split cousins the Split Quaternion and Split Octonion.\n",
    "\n",
    "The Quaternion has an additional metric space and a well known dot product formula. While the Split Quaternions have interesting nilpotents and idempotents.\n",
    "\n",
    "Finally, the commutative property, power associativity, weak alternative property, Moufang conditions and the Diophantus identity are verified for common algebraic constructions."
   ]
  },
  {
   "cell_type": "markdown",
   "metadata": {},
   "source": [
    "## Quaternion Conjugate Product\n",
    "\n",
    "Quaternion conjugation is often achieved by reversing the sign of (negating) the imaginary components, while leaving the real component untouched. Alternatively, there is also a formula which can be used to achieve the same result. \n",
    "\n",
    "given the quaternion:\n",
    "\n",
    "$$q = (a,b,c,d)$$\n",
    "\n",
    "its conjugate is the negation of its imaginary components:\n",
    "\n",
    "$${\\displaystyle q^{*}=(a,-b,-c,-d)}$$\n",
    "\n",
    "But also, the quaternion conjugate is found using this formula:\n",
    "\n",
    "$${\\displaystyle q^{*}=-{\\frac {1}{2}}(q+iqi+jqj+kqk)}$$"
   ]
  },
  {
   "cell_type": "code",
   "execution_count": 1,
   "metadata": {
    "collapsed": false
   },
   "outputs": [
    {
     "name": "stdout",
     "output_type": "stream",
     "text": [
      "given a random quaternion like... \n",
      "\n",
      "\n",
      "(0.8307759400680761+0.40670033426187613i+0.7874929665185959j+0.8175260802411572k)\n",
      "\n",
      "\n",
      "the calculated conjugate is...    \n",
      "\n",
      "\n",
      "0.8307759400680761-0.40670033426187613i-0.7874929665185959j-0.8175260802411572k\n",
      "\n",
      "\n",
      "and the conjugate formula gives...\n",
      "\n",
      "\n",
      "0.8307759400680761-0.40670033426187613i-0.7874929665185959j-0.8175260802411572k\n",
      "\n",
      "\n",
      "\n",
      "Success: conjugates are equal.\n"
     ]
    }
   ],
   "source": [
    "from involution.algebra import Quaternion\n",
    "from jupyter_test import unit_list, random_vector\n",
    "\n",
    "# from any random quaternion...\n",
    "q = random_vector(Quaternion)\n",
    "\n",
    "# calculate the conjugate using involution...\n",
    "calculate = q.conj()\n",
    "\n",
    "# and generate \"one\" and the quaternion imaginary units i,j and k...\n",
    "o,i,j,k = unit_list(Quaternion)\n",
    "\n",
    "# to find the conjugate using this formula...\n",
    "formula = -1/2*( q + (i*q)*i + (j*q)*j + (k*q)*k )\n",
    "\n",
    "# output the results...\n",
    "print('given a random quaternion like... ', q,\n",
    "      'the calculated conjugate is...    ', calculate,\n",
    "      'and the conjugate formula gives...', formula, \n",
    "      '',sep=\"\\n\\n\\n\")\n",
    "\n",
    "# print success or dump the fail...\n",
    "assert calculate == formula, 'involution did not calculate the conjugate and its formula in the same way'\n",
    "print('Success: conjugates are equal.')\n"
   ]
  },
  {
   "cell_type": "markdown",
   "metadata": {},
   "source": [
    "*=== end code===*"
   ]
  },
  {
   "cell_type": "markdown",
   "metadata": {},
   "source": [
    "## Quaternion Conjugate Product\n",
    "\n",
    "Quaternion conjugation product is defined here as the product of the quaternion with its conjugate.\n",
    "This product is equal to the square of the absolute magnitude (norm) of the Quaternion.\n",
    "It is also equal to the sum of the squares of the coefficients of the Quaternion.\n",
    "\n",
    "given the quaternion:\n",
    "\n",
    "$$q = a + bi + cj + dk$$\n",
    "\n",
    "This equality holds:\n",
    "\n",
    "$$q \\times q^{*}=a^2+b^2+c^2+d^2$$\n",
    "\n",
    "Which is also:\n",
    "\n",
    "$$|q|^2$$"
   ]
  },
  {
   "cell_type": "code",
   "execution_count": 2,
   "metadata": {
    "collapsed": false
   },
   "outputs": [
    {
     "name": "stdout",
     "output_type": "stream",
     "text": [
      "given a random quaternion like...\n",
      "\n",
      "\n",
      "(0.22268288508782597+0.057981229934044975i+0.4350332140855738j+0.41180958821598423k)\n",
      "\n",
      "\n",
      "the calculated conjugate product is...\n",
      "\n",
      "\n",
      "0.4117905246399457\n",
      "\n",
      "\n",
      "while the conjugate product formula gives...\n",
      "\n",
      "\n",
      "0.4117905246399457\n",
      "\n",
      "\n",
      "and the square of its absolute magnite is...\n",
      "\n",
      "\n",
      "0.41179052463994575\n",
      "\n",
      "\n",
      "\n",
      "Success: the conjugate products equal the square of its absolute magnitude.\n"
     ]
    }
   ],
   "source": [
    "from involution.algebra import Quaternion\n",
    "from jupyter_test import *\n",
    "\n",
    "# from any random quaternion...\n",
    "q = random_vector(Quaternion)\n",
    "\n",
    "# calculate the product of itself with its conjugate...\n",
    "calculate = q * q.conj()\n",
    "\n",
    "# and find the sum of the square of its coefficients...\n",
    "a,b,c,d = q[:]\n",
    "formula = a**2 + b**2 + c**2 + d**2\n",
    "\n",
    "# equals the square of its absolute value...\n",
    "abs_square = abs(q) ** 2\n",
    "\n",
    "# output the results...\n",
    "print('given a random quaternion like...'           , q,\n",
    "      'the calculated conjugate product is...'      , calculate,\n",
    "      'while the conjugate product formula gives...', formula, \n",
    "      'and the square of its absolute magnite is...', abs_square, \n",
    "      '',sep=\"\\n\\n\\n\")\n",
    "\n",
    "# print success or dump the fail...\n",
    "assert calculate == formula, 'involution did not calculate the conjugate product and its formula in the same way'\n",
    "print('Success: the conjugate products equal the square of its absolute magnitude.')"
   ]
  },
  {
   "cell_type": "markdown",
   "metadata": {},
   "source": [
    "*=== end code===*"
   ]
  },
  {
   "cell_type": "markdown",
   "metadata": {},
   "source": [
    "## Quaternion Addition Metric Space\n",
    "\n",
    "The norm (absolute magnitude) of a quaternion has a square matrix determinant form.\n",
    "From the multiplicative property of determinants of square matrices, this norm makes it possible to define the distance between two quaternions, p and q, as the norm of their difference:\n",
    "\n",
    "$${\\displaystyle d(p,q)= | p-q | }$$\n",
    "\n",
    "This makes the quaternions a metric space, having addition and multiplication are continuous in the metric topology. And so, for any positive scalar, like <b>*a*</b>, it holds that...\n",
    "\n",
    "$${\\displaystyle | (p+ap_{1}+q+aq_{1})-(p+q) | =a | p_{1}+q_{1} | }$$"
   ]
  },
  {
   "cell_type": "code",
   "execution_count": 3,
   "metadata": {
    "collapsed": false
   },
   "outputs": [
    {
     "name": "stdout",
     "output_type": "stream",
     "text": [
      "given four random quaternion like...\n",
      "\n",
      "\n",
      "(0.16123159305957502+0.7487296380169285i+0.28400050377799513j+0.4208508952849047k)\n",
      "\n",
      "\n",
      "(0.5094967931927405+0.0983173747720758i+0.23898038584821946j+0.468555248217135k)\n",
      "\n",
      "\n",
      "(0.6768533724767796+0.6065205341890375i+0.45517277526396316j+0.7023935738616575k)\n",
      "\n",
      "\n",
      "(0.5525506612803167+0.9690182327974346i+0.3610060533384465j+0.3669950171652716k)\n",
      "\n",
      "\n",
      "and a scalar value like...\n",
      "\n",
      "\n",
      "3.993798645777824\n",
      "\n",
      "\n",
      "the left side of the formula becomes...\n",
      "\n",
      "\n",
      "7.282829611413026\n",
      "\n",
      "\n",
      "the right side of the formula becomes...\n",
      "\n",
      "\n",
      "7.2828296114130255\n",
      "\n",
      "\n",
      "\n",
      "Success: the conjugate products equal the square of its absolute magnitude.\n"
     ]
    }
   ],
   "source": [
    "from involution.algebra import Quaternion\n",
    "from jupyter_test import *\n",
    "\n",
    "# from any four random quaternion...\n",
    "p1 = random_vector(Quaternion)\n",
    "p2 = random_vector(Quaternion)\n",
    "q1 = random_vector(Quaternion)\n",
    "q2 = random_vector(Quaternion)\n",
    "\n",
    "# and any random scalar value...\n",
    "a  = uniform(0,10)\n",
    "\n",
    "# calculate the left side of the equation...\n",
    "left_side = abs((p1 + a*p2 + q1 + a*q2) - (p1+q1))\n",
    "\n",
    "# to compare with the right side...\n",
    "right_side = a*abs(p2+q2)\n",
    "\n",
    "# output the results...\n",
    "print('given four random quaternion like...', p1, p2, q1, q2,\n",
    "      'and a scalar value like...'         , a,\n",
    "      'the left side of the formula becomes...' , left_side,\n",
    "      'the right side of the formula becomes...', right_side,\n",
    "      '',sep=\"\\n\\n\\n\")\n",
    "\n",
    "# print success or dump the fail...\n",
    "assert left_side - right_side < 10 ** -12, \\\n",
    "    'involution did not calculate the conjugate product and its formula in the same way'\n",
    "print('Success: the conjugate products equal the square of its absolute magnitude.')"
   ]
  },
  {
   "cell_type": "markdown",
   "metadata": {},
   "source": [
    "*===end code===*"
   ]
  },
  {
   "cell_type": "markdown",
   "metadata": {},
   "source": [
    "## Quaternion Dot Product\n",
    "\n",
    "Operations such as the vector dot and cross products can be defined in terms of quaternions, and this makes it possible to apply quaternion techniques wherever spatial vectors arise.\n",
    "\n",
    "For two vector quaternions p = b1i + c1j + d1k and q = b2i + c2j + d2k their dot product, by analogy to vectors in R3, is\n",
    "\n",
    "$${\\displaystyle p\\cdot q=b_{1}b_{2}+c_{1}c_{2}+d_{1}d_{2}.}p\\cdot q=b_{1}b_{2}+c_{1}c_{2}+d_{1}d_{2}$$\n",
    "\n",
    "The dot product of a quaternion can be expressed in a component-free manner as...\n",
    "\n",
    "$${\\displaystyle p\\cdot q=\\textstyle {\\frac {1}{2}}(p^{*}q+q^{*}p)=\\textstyle {\\frac {1}{2}}(pq^{*}+qp^{*}).}p\\cdot q=\\textstyle {\\frac {1}{2}}(p^{*}q+q^{*}p)=\\textstyle {\\frac {1}{2}}(pq^{*}+qp^{*})$$"
   ]
  },
  {
   "cell_type": "code",
   "execution_count": 4,
   "metadata": {
    "collapsed": false
   },
   "outputs": [
    {
     "name": "stdout",
     "output_type": "stream",
     "text": [
      "given two random quaternion like...\n",
      "\n",
      "\n",
      "(0.07538138020566476i+0.4174851199716175j+0.48769362843129727k)\n",
      "\n",
      "\n",
      "(0.6058840355532494i+0.8992167503976891j+0.8243607912087032k)\n",
      "\n",
      "\n",
      "the first dot product result is...\n",
      "\n",
      "\n",
      "0.8231174931659169\n",
      "\n",
      "\n",
      "the second dot product result is...\n",
      "\n",
      "\n",
      "0.8231174931659169\n",
      "\n",
      "\n",
      "and the component dot product is...\n",
      "\n",
      "\n",
      "0.8231174931659169\n",
      "\n",
      "\n",
      "\n",
      "Success: the component and component free dot products match\n"
     ]
    }
   ],
   "source": [
    "from involution.algebra import Quaternion\n",
    "from jupyter_test import *\n",
    "\n",
    "# from any two random quaternion...\n",
    "p = random_imaginary_vector(Quaternion)\n",
    "q = random_imaginary_vector(Quaternion)\n",
    "\n",
    "# compute the component free dot product...\n",
    "c1_dot_prod = 1/2*(p.conj()*q + q.conj()*p)\n",
    "c2_dot_prod = 1/2*(p*q.conj() + q*p.conj())\n",
    "\n",
    "# then extract their imaginary components (their i,j and k values)\n",
    "b1,c1,d1 = p[1:]\n",
    "b2,c2,d2 = q[1:]\n",
    "\n",
    "# and calculate the dot product using their components...\n",
    "cf_dot_prod = b1 * b2 + c1 * c2 + d1 * d2\n",
    "\n",
    "# output the results...\n",
    "print('given two random quaternion like...', p, q,\n",
    "      'the first dot product result is...' , c1_dot_prod,\n",
    "      'the second dot product result is...', c2_dot_prod,\n",
    "      'and the component dot product is...', cf_dot_prod,\n",
    "      '',sep=\"\\n\\n\\n\")\n",
    "\n",
    "# print success or dump the fail...\n",
    "assert left_side - right_side < 10 ** -12, 'involution is unable to calculate the dot product correctly'\n",
    "print('Success: the component and component free dot products match')"
   ]
  },
  {
   "cell_type": "markdown",
   "metadata": {},
   "source": [
    "*===end code===*"
   ]
  },
  {
   "cell_type": "markdown",
   "metadata": {},
   "source": [
    "## Octonion Conjugation\n",
    "Like the quaternion, the Octonion conjugate is found by reversing the sign (negating) its imaginary components, while leaving the real component untouched. The Octonions have a second formula which can be used to achieve the same result.\n",
    "\n",
    "given the octonion:\n",
    "\n",
    "$$x = (a,b,c,d,e,f,g,h)$$\n",
    "\n",
    "its conjugate is the negation of its imaginary components:\n",
    "\n",
    "$${\\displaystyle x^{*}=(a,-b,-c,-d,-e,-f,-g,-h)}$$\n",
    "\n",
    "But also, the octonion conjugate is found using this equation:\n",
    "\n",
    "$${\\displaystyle x^{*}=-{\\frac {1}{6}}(x+(ix)\\,i+(jx)\\,j+(kx)\\,k+(lx)\\,l+(mx)\\,m+(nx)\\,n+(ox)\\,o)}$$\n",
    "\n",
    "*where $i,j,k,l,m,n,o$ are the imaginary octonion units*"
   ]
  },
  {
   "cell_type": "code",
   "execution_count": 5,
   "metadata": {
    "collapsed": false
   },
   "outputs": [
    {
     "name": "stdout",
     "output_type": "stream",
     "text": [
      "given a random octonion like...     \n",
      "\n",
      "\n",
      "(0.10581260915188195+0.10369995226548212i+0.9704513256400797j+0.5931982609164179k+0.10842312252906094l+0.9848938738681985m+0.7109843035000337n+0.21390780429906908o)\n",
      "\n",
      "\n",
      "the calculated conjugate is...      \n",
      "\n",
      "\n",
      "0.10581260915188195-0.10369995226548212i-0.9704513256400797j-0.5931982609164179k-0.10842312252906094l-0.9848938738681985m-0.7109843035000337n-0.21390780429906908o\n",
      "\n",
      "\n",
      "while the conjugate formula gives...\n",
      "\n",
      "\n",
      "0.10581260915188195-0.10369995226548212i-0.9704513256400797j-0.5931982609164179k-0.10842312252906094l-0.9848938738681985m-0.7109843035000336n-0.21390780429906903o\n",
      "\n",
      "\n",
      "\n",
      "Success: octonion conjugates are equal.\n"
     ]
    }
   ],
   "source": [
    "from involution.algebra import Octonion\n",
    "from jupyter_test import unit_list, random_vector\n",
    "\n",
    "# from any random octonion...\n",
    "x = random_vector(Octonion)\n",
    "\n",
    "# calculate the conjugate using involution...\n",
    "calculate = x.conj()\n",
    "\n",
    "# and generate \"one\" and the quaternion imaginary units i,j and k...\n",
    "o,i,j,k,l,m,n,o = unit_list(Octonion)\n",
    "\n",
    "# to find the conjugate using this formula...\n",
    "formula = -1/6*( x + (i*x)*i + (j*x)*j + (k*x)*k + (l*x)*l + (m*x)*m + (n*x)*n + (o*x)*o )\n",
    "\n",
    "# output the results...\n",
    "print('given a random octonion like...     ', x,\n",
    "      'the calculated conjugate is...      ', calculate,\n",
    "      'while the conjugate formula gives...', formula, \n",
    "      '',sep=\"\\n\\n\\n\")\n",
    "\n",
    "# print success or dump the fail...\n",
    "assert calculate == formula, 'involution did not calculate the conjugate and its formula in the same way'\n",
    "print('Success: octonion conjugates are equal.')\n"
   ]
  },
  {
   "cell_type": "markdown",
   "metadata": {},
   "source": [
    "*=== end code ===*"
   ]
  },
  {
   "cell_type": "markdown",
   "metadata": {},
   "source": [
    "## Octonion Conjugate Product"
   ]
  },
  {
   "cell_type": "markdown",
   "metadata": {},
   "source": [
    "Octonion conjugation product is defined here as the product of the Octonion with its conjugate.\n",
    "This product is equal to the square of the absolute magnitude (norm) of the Octonion.\n",
    "It is also equal to the sum of the squares of the coefficients of the Octonion.\n",
    "\n",
    "given the octonion:\n",
    "\n",
    "$$q=a+bi+cj+dk+el+fm+gn+ho$$\n",
    "\n",
    "This equality holds:\n",
    "\n",
    "$$q \\times q^{*}=a^2+b^2+c^2+d^2+e^2+f^2+g^2+h^2$$\n",
    "\n",
    "Which is also:\n",
    "\n",
    "$$|q|^2$$"
   ]
  },
  {
   "cell_type": "code",
   "execution_count": 6,
   "metadata": {
    "collapsed": false
   },
   "outputs": [
    {
     "name": "stdout",
     "output_type": "stream",
     "text": [
      "given a random octonion like...\n",
      "\n",
      "\n",
      "(0.6811950787827984+0.7946636490093538i+0.5941891560233711j+0.6034719816283546k+0.8924216423107038l+0.17468389102805404m+0.8732323198286314n+0.6774009529373538o)\n",
      "\n",
      "\n",
      "the calculated conjugate product is...\n",
      "\n",
      "\n",
      "3.8610938210439465\n",
      "\n",
      "\n",
      "while the conjugate product formula gives...\n",
      "\n",
      "\n",
      "3.861093821043946\n",
      "\n",
      "\n",
      "and the square of its absolute magnite is...\n",
      "\n",
      "\n",
      "3.861093821043947\n",
      "\n",
      "\n",
      "\n",
      "Success: the conjugate products equal the square of its absolute magnitude.\n"
     ]
    }
   ],
   "source": [
    "from involution.algebra import Octonion\n",
    "from jupyter_test import *\n",
    "\n",
    "# from any random quaternion...\n",
    "o = random_vector(Octonion)\n",
    "\n",
    "# calculate the product of itself with its conjugate...\n",
    "calculate = o * o.conj()\n",
    "\n",
    "# and find the sum of the square of its coefficients...\n",
    "a,b,c,d,e,f,g,h = o[:]\n",
    "formula = a**2 + b**2 + c**2 + d**2 + e**2 + f**2 + g**2 + h**2\n",
    "\n",
    "# equals the square of its absolute value...\n",
    "abs_square = abs(o) ** 2\n",
    "\n",
    "# output the results...\n",
    "print('given a random octonion like...'             , o,\n",
    "      'the calculated conjugate product is...'      , calculate,\n",
    "      'while the conjugate product formula gives...', formula, \n",
    "      'and the square of its absolute magnite is...', abs_square, \n",
    "      '',sep=\"\\n\\n\\n\")\n",
    "\n",
    "# print success or dump the fail...\n",
    "assert calculate == formula, 'involution did not calculate the conjugate product and its formula in the same way'\n",
    "print('Success: the conjugate products equal the square of its absolute magnitude.')"
   ]
  },
  {
   "cell_type": "markdown",
   "metadata": {},
   "source": [
    "*=== end code ===*"
   ]
  },
  {
   "cell_type": "markdown",
   "metadata": {},
   "source": [
    "## Split Quaternion Complex Generation\n",
    "\n",
    "The split quaternion conjugation product is defined here as the product of the quaternion with its conjugate.\n",
    "This product is equal to the square of the absolute magnitude (norm).\n",
    "It is also equal to the sum of the squares of the coefficients of the split quaternion.\n",
    "\n",
    "given the split quaternion:\n",
    "\n",
    "$$q = a + bi + cj + dk$$\n",
    "\n",
    "This equality holds:\n",
    "\n",
    "$$q \\times q^{*}=a^2+b^2-c^2-d^2$$\n",
    "\n",
    "Which is also:\n",
    "\n",
    "$$|q|^2$$"
   ]
  },
  {
   "cell_type": "code",
   "execution_count": 7,
   "metadata": {
    "collapsed": false
   },
   "outputs": [
    {
     "name": "stdout",
     "output_type": "stream",
     "text": [
      "given a random split quaternion like...\n",
      "\n",
      "\n",
      "(0.23208122599330816+0.8775483413206349i+0.054682575656619936j+0.7511655464117041k)\n",
      "\n",
      "\n",
      "the calculated conjugate product is...\n",
      "\n",
      "\n",
      "0.2567129246167186\n",
      "\n",
      "\n",
      "while the conjugate product formula gives...\n",
      "\n",
      "\n",
      "0.2567129246167186\n",
      "\n",
      "\n",
      "and the square of its absolute magnite is...\n",
      "\n",
      "\n",
      "0.25671292461671846\n",
      "\n",
      "\n",
      "\n",
      "Success: the conjugate products equal the square of its absolute magnitude.\n"
     ]
    }
   ],
   "source": [
    "from involution.algebra import SplitQuaternion\n",
    "from jupyter_test import *\n",
    "\n",
    "# from any random split quaternion...\n",
    "q = random_vector(SplitQuaternion)\n",
    "\n",
    "# calculate the product of itself with its conjugate...\n",
    "calculate = q * q.conj()\n",
    "\n",
    "# and find the sum of the square of its coefficients...\n",
    "a,b,c,d = q[:]\n",
    "formula = a**2 + b**2 - c**2 - d**2\n",
    "\n",
    "\n",
    "# equals the square of its absolute value...\n",
    "abs_square = abs(q) ** 2\n",
    "\n",
    "# output the results...\n",
    "print('given a random split quaternion like...'     , q,\n",
    "      'the calculated conjugate product is...'      , calculate,\n",
    "      'while the conjugate product formula gives...', formula, \n",
    "      'and the square of its absolute magnite is...', abs_square, \n",
    "      '',sep=\"\\n\\n\\n\")\n",
    "\n",
    "# print success or dump the fail...\n",
    "assert calculate == formula, 'involution did not calculate the conjugate product and its formula in the same way'\n",
    "print('Success: the conjugate products equal the square of its absolute magnitude.')"
   ]
  },
  {
   "cell_type": "markdown",
   "metadata": {},
   "source": [
    "*=== end code ===*"
   ]
  },
  {
   "cell_type": "markdown",
   "metadata": {},
   "source": [
    "## Split Quaternion Nilpotent\n",
    "A nilpotent is a number that squares to 0.\n",
    "The only real trivial nilpotent is zero, because its square is 0.\n",
    "\n",
    "The split-quaternions contain nontrivial nilpotent elements.\n",
    "\n",
    "Several split quaternion nilpotents are verified below.\n",
    "\n",
    "*=== begin code ===*"
   ]
  },
  {
   "cell_type": "code",
   "execution_count": 8,
   "metadata": {
    "collapsed": false
   },
   "outputs": [
    {
     "name": "stdout",
     "output_type": "stream",
     "text": [
      "verify (i+k) is a split quaternion nilpotent\n",
      "\n",
      "Success: (i+k) is nilpotent.\n",
      "\n",
      "\n",
      "verify (i+j) is a split quaternion nilpotent\n",
      "\n",
      "Success: (i+j) is nilpotent.\n",
      "\n",
      "\n",
      "verify i-k is a split quaternion nilpotent\n",
      "\n",
      "Success: i-k is nilpotent.\n",
      "\n",
      "\n",
      "verify i-j is a split quaternion nilpotent\n",
      "\n",
      "Success: i-j is nilpotent.\n",
      "\n",
      "\n"
     ]
    }
   ],
   "source": [
    "from involution.algebra import SplitQuaternion\n",
    "\n",
    "zero = SplitQuaternion([0,0,0,0])\n",
    "\n",
    "#Test Split Quaternion nilpotent - a number whose square is zero\n",
    "o,i,j,k = unit_list(SplitQuaternion)\n",
    "for unit in [-k, -j, k, j]:\n",
    "    q = i - unit\n",
    "    calc = q*q\n",
    "    expect = zero\n",
    "\n",
    "    # output the results...\n",
    "    print('verify {} is a split quaternion nilpotent\\n'.format(q))\n",
    "\n",
    "    # print success or dump the fail...\n",
    "    assert calculate == formula, '{} is not a splitquaternion nilpotent element' % q\n",
    "    print('Success: {} is nilpotent.\\n\\n'.format(q))"
   ]
  },
  {
   "cell_type": "markdown",
   "metadata": {},
   "source": [
    "*=== end code ===*"
   ]
  },
  {
   "cell_type": "markdown",
   "metadata": {},
   "source": [
    "## Split Quaternion Idempotent\n",
    "\n",
    "A number that squares to itself is idempotent.\n",
    "\n",
    "The only real trivial idempotent is one, because its square is itself ($1= 1^2$).\n",
    "\n",
    "The split-quaternions contain nontrivial nilpotent elements.\n",
    "\n",
    "Several split quaternion nilpotents are verified below.\n",
    "\n",
    "=== begin code ==="
   ]
  },
  {
   "cell_type": "code",
   "execution_count": 9,
   "metadata": {
    "collapsed": false
   },
   "outputs": [
    {
     "name": "stdout",
     "output_type": "stream",
     "text": [
      "verify that split quaternion (0.5+0.5j) is a nilpotent\n",
      "\n",
      "Success: (0.5+0.5j) is nilpotent.\n",
      "\n",
      "\n"
     ]
    }
   ],
   "source": [
    "from involution.algebra import SplitQuaternion    \n",
    "\n",
    "zero = SplitQuaternion([0,0,0,0])\n",
    "\n",
    "#Test Split Quaternion nilpotent - a number whose square is zero\n",
    "o,i,j,k = unit_list(SplitQuaternion)\n",
    "\n",
    "q = 1/2*(o+j)\n",
    "square = q*q\n",
    "original = q\n",
    "\n",
    "# output the results...\n",
    "print('verify that split quaternion {} is a nilpotent\\n'.format(q))\n",
    "\n",
    "# print success or dump the fail...\n",
    "assert square == original, '{} is not a splitquaternion nilpotent element' % q\n",
    "print('Success: {} is nilpotent.\\n\\n'.format(q))"
   ]
  },
  {
   "cell_type": "markdown",
   "metadata": {},
   "source": [
    "*=== end code ===*"
   ]
  },
  {
   "cell_type": "markdown",
   "metadata": {},
   "source": [
    "## Split Octonion Conjugation"
   ]
  },
  {
   "cell_type": "code",
   "execution_count": 10,
   "metadata": {
    "collapsed": false
   },
   "outputs": [
    {
     "name": "stdout",
     "output_type": "stream",
     "text": [
      "100 loops\n",
      " \n",
      "\n",
      "=== Split Octonion Conjugation test\n",
      "\n",
      "Comparing conjugate against this formula:\n",
      "\n",
      "  conjugate(x) = -1/6*( x + (i*x)*i + (j*x)*j + (k*x)*k + (l*x)*l + (m*x)*m + (n*x)*n + (o*x)*o )\n",
      "\n",
      "\n",
      "\n",
      "These should be equal...\n",
      "\n",
      "   calc = 0.7616342872412549-0.09378554552661222i-0.9844980286334838j-0.6071411408977596k-0.5605120663605575l-0.4694500219450083m-0.32688812159683134n-0.7698186705500638o\n",
      " expect = 0.7616342872412549-0.09378554552661222i-0.9844980286334838j-0.6071411408977596k-0.5605120663605575l-0.4694500219450083m-0.32688812159683134n-0.7698186705500638o\n",
      "\n",
      "    \n"
     ]
    }
   ],
   "source": [
    "so.test_conjugation()"
   ]
  },
  {
   "cell_type": "markdown",
   "metadata": {},
   "source": []
  },
  {
   "cell_type": "markdown",
   "metadata": {},
   "source": [
    "## Split Octonion Conjugate Product"
   ]
  },
  {
   "cell_type": "code",
   "execution_count": 11,
   "metadata": {
    "collapsed": false
   },
   "outputs": [
    {
     "name": "stdout",
     "output_type": "stream",
     "text": [
      "100 loops\n",
      "\n",
      "\n",
      "These should be equal...\n",
      "\n",
      "   calc = -0.6545497579801984\n",
      " expect = -0.654549757980198\n",
      "\n",
      "    \n"
     ]
    }
   ],
   "source": [
    "so.test_conjugate_product()"
   ]
  },
  {
   "cell_type": "markdown",
   "metadata": {},
   "source": []
  },
  {
   "cell_type": "markdown",
   "metadata": {},
   "source": [
    "## Complex Commutative property"
   ]
  },
  {
   "cell_type": "code",
   "execution_count": 12,
   "metadata": {
    "collapsed": false
   },
   "outputs": [
    {
     "name": "stdout",
     "output_type": "stream",
     "text": [
      "5000 loops\n",
      "\n",
      "\n",
      "=== Complex Commutative Property test\n",
      "\n",
      "These should be equal...\n",
      "\n",
      "     x × y = (-0.2895100663452854+0.46012582314757494i)\n",
      "     y × x = (-0.2895100663452854+0.46012582314757494i)\n",
      "\n"
     ]
    }
   ],
   "source": [
    "cm.test_complex()"
   ]
  },
  {
   "cell_type": "markdown",
   "metadata": {},
   "source": []
  },
  {
   "cell_type": "markdown",
   "metadata": {},
   "source": [
    "## Quaternion Commutative property"
   ]
  },
  {
   "cell_type": "code",
   "execution_count": 13,
   "metadata": {
    "collapsed": false
   },
   "outputs": [
    {
     "name": "stdout",
     "output_type": "stream",
     "text": [
      "1000 loops\n",
      "\n",
      "\n",
      "=== Quaternion Commutative Property test\n",
      "\n",
      "These should NOT be equal...\n",
      "\n",
      "     x × y = (-0.10339963851028888+0.6155274795368413i-0.014732216807525317j+0.08965916980745868k)\n",
      "     y × x = (-0.10339963851028888-0.3380883231501646i+0.48391853169390076j+0.19659354882684266k)\n",
      "\n"
     ]
    }
   ],
   "source": [
    "cm.test_quaternion()"
   ]
  },
  {
   "cell_type": "markdown",
   "metadata": {},
   "source": []
  },
  {
   "cell_type": "markdown",
   "metadata": {},
   "source": [
    "## Octontion Commutative property"
   ]
  },
  {
   "cell_type": "code",
   "execution_count": 14,
   "metadata": {
    "collapsed": false
   },
   "outputs": [
    {
     "name": "stdout",
     "output_type": "stream",
     "text": [
      "300 loops\n",
      "\n",
      "\n",
      "=== Octonion Commutative Property test\n",
      "\n",
      "These should NOT be equal...\n",
      "\n",
      "     x × y = (-1.2562614754570065+0.35111043342261605i+0.12424107898230041j+1.1059545774079056k-0.2060692087355015l-0.11622183099484007m+0.38387876633985385n+2.190542826564979o)\n",
      "     y × x = (-1.2562614754570065+0.6056623907638725i+0.5005357219465683j+0.19138450774584292k+1.4743826459132383l+1.4780451053299937m+0.37939581540599654n-1.09877615985323o)\n",
      "\n"
     ]
    }
   ],
   "source": [
    "cm.test_octonion()"
   ]
  },
  {
   "cell_type": "markdown",
   "metadata": {},
   "source": []
  },
  {
   "cell_type": "markdown",
   "metadata": {},
   "source": [
    "## Non-commutative Sedenion"
   ]
  },
  {
   "cell_type": "code",
   "execution_count": 15,
   "metadata": {
    "collapsed": false
   },
   "outputs": [
    {
     "name": "stdout",
     "output_type": "stream",
     "text": [
      "100 loops\n",
      "\n",
      "\n",
      "=== Sedenion Commutative Property test\n",
      "\n",
      "These should NOT be equal...\n",
      "\n",
      "     x × y = (-4.081874267131304+0.7572719369180532i-0.5571067371951866j+0.8967857434542288k-0.1097665860504865l+1.922691540673134m-0.35844688571590355n+0.5919352710336684o+1.0511987879700069p+0.8388034382366185q+0.691943516926019r+0.00544366490826953s+1.8152695578874518t+0.2208484108435923u-1.4596439086663338v+2.088103938977566w)\n",
      "     y × x = (-4.081874267131304-0.36988121005432384i+1.4094977702316602j+0.6001653004410392k+1.2574873421208226l-0.536942765887533m+1.471424036155638n-0.1054477571105118o+0.15803422113512156p-0.27953099885029464q-0.02740018599753169r+0.6455827131860439s-1.3882855931486984t+0.6026704867483568u+2.7871187305290777v-0.9429496080692925w)\n",
      "\n"
     ]
    }
   ],
   "source": [
    "cm.test_sedenion()"
   ]
  },
  {
   "cell_type": "markdown",
   "metadata": {},
   "source": []
  },
  {
   "cell_type": "markdown",
   "metadata": {},
   "source": [
    "## Non-Commutative in 32 dimensions"
   ]
  },
  {
   "cell_type": "code",
   "execution_count": 16,
   "metadata": {
    "collapsed": false
   },
   "outputs": [
    {
     "name": "stdout",
     "output_type": "stream",
     "text": [
      "50 loops\n",
      "\n",
      "\n",
      "=== Cd32 Commutative Property test\n",
      "\n",
      "These should NOT be equal...\n",
      "\n",
      "     x × y = (-8.61370210788477+1.9237252064654173b+0.45274413216834974c+1.9658238698068282d+0.6656112142813377e+2.1285929024778527f-0.2359528564134298g-0.6894422093825968h-0.24734173417714245i-1.3013055026302767j-0.2675631106795309k+1.371476319874204l+0.19427059518421674m-2.2570002465923826n+3.0231392956643965o+0.8303070977359239p+0.6821127338159076q-1.7786329379354693r-0.2858985552319788s-0.14840255199414687t+0.4375976462585696u+0.33401895711501683v-0.25343773094025807w-1.6013280822481222x-0.8277640156721167y+2.265833787527285z+1.6690138106539163A+0.9467655927952647B+0.15292436068204596C-0.6538152615610315D+0.5376875083535921E+1.0965449587782221F)\n",
      "     y × x = (-8.61370210788477-1.4888842555286892b+0.05463019853612286c-1.78263172331615d-0.422465988597981e-1.8563332060567397f+0.7073227195109179g+1.0728152688536063h+0.6300393223913494i+1.6449711234337947j+0.6788910673420858k-1.016879370651126l+0.48970209782338425m+2.8293543118436206n-2.7277553476527694o-0.4846736745573979p-0.16458442081563973q+2.132224693117477r+0.767396622050109s+0.45498486712480984t-0.26612436345844764u-0.2418981498022057v+0.7075232723000138w+1.9277846839049055x+1.3928181461135256y-1.8172871618216686z-1.2018690441735436A-0.8859945000457111B+0.35748900468026124C+1.0119160162242633D-0.10572438631906428E-0.7129128510219935F)\n",
      "\n"
     ]
    }
   ],
   "source": [
    "cm.test_cd32()"
   ]
  },
  {
   "cell_type": "markdown",
   "metadata": {},
   "source": []
  },
  {
   "cell_type": "markdown",
   "metadata": {},
   "source": [
    "## Weak Alternative"
   ]
  },
  {
   "cell_type": "code",
   "execution_count": 17,
   "metadata": {
    "collapsed": false
   },
   "outputs": [
    {
     "name": "stdout",
     "output_type": "stream",
     "text": [
      "1000 loops\n",
      "\n",
      "\n",
      "=== Complex weak alternative condition test\n",
      "\n",
      "Given:\n",
      "\n",
      "           x  = (0.30664764640406605+0.22555868862334438i)\n",
      "           y  = (0.8917025447205215+0.7766546727963144i)\n",
      "\n",
      "These should be equal...\n",
      "\n",
      " (y × x) × x  = (-0.06895544530513983+0.1568702062804205i)\n",
      " y ×(x  × x)  = (-0.06895544530513983+0.1568702062804205i)\n",
      "\n",
      "These should be equal...\n",
      "\n",
      " (x × y) × x  = (-0.06895544530513983+0.1568702062804205i)\n",
      "  x ×(y  × x  = (-0.06895544530513983+0.1568702062804205i)\n",
      "\n",
      "These should be equal...\n",
      "\n",
      " (x × x) × y  = (-0.06895544530513983+0.1568702062804205i)\n",
      "  x ×(x  × y) = (-0.06895544530513983+0.1568702062804205i)\n",
      "\n",
      "These should be equal...\n",
      "\n",
      " (x × y) × y  = (-0.2535608208182681+0.4680285051365093i)\n",
      "  x ×(y  × y) = (-0.2535608208182681+0.4680285051365093i)\n",
      "\n",
      "These should be equal...\n",
      "\n",
      " (y × x) × y  = (-0.2535608208182681+0.4680285051365093i)\n",
      "  y ×(x  × y) = (-0.2535608208182681+0.4680285051365093i)\n",
      "\n",
      "These should be equal...\n",
      "\n",
      " (y × y) × x  = (-0.2535608208182681+0.4680285051365093i)\n",
      "  y ×(y  × x) = (-0.2535608208182681+0.4680285051365093i)\n",
      "\n"
     ]
    }
   ],
   "source": [
    "wa.test_complex()"
   ]
  },
  {
   "cell_type": "markdown",
   "metadata": {},
   "source": []
  },
  {
   "cell_type": "markdown",
   "metadata": {},
   "source": [
    "## Diophantus Identity"
   ]
  },
  {
   "cell_type": "code",
   "execution_count": 18,
   "metadata": {
    "collapsed": false
   },
   "outputs": [
    {
     "name": "stdout",
     "output_type": "stream",
     "text": [
      "20000 loops\n",
      "\n",
      "\n",
      "=== Diophantus (Brahmagupta-Fibonacci) Identity test\n",
      "\n",
      "Given:\n",
      "\n",
      "             x = (0.5544125961680665+0.02912799913837283i)\n",
      "             y = (0.9895780151435353+0.39864030324642885i)\n",
      "\n",
      "Having absolute values\n",
      "\n",
      "        abs(x) = 0.5551772393782193\n",
      "        abs(y) = 1.066854600884218\n",
      "\n",
      "These should be equal...\n",
      "\n",
      " abs(x)×abs(y) = 0.5922933921368521\n",
      "      abs(x×y) = 0.592293392136852\n",
      "\n",
      "\n"
     ]
    }
   ],
   "source": [
    "di.test_complex()"
   ]
  },
  {
   "cell_type": "markdown",
   "metadata": {},
   "source": []
  },
  {
   "cell_type": "markdown",
   "metadata": {},
   "source": [
    "## Moufang Condition"
   ]
  },
  {
   "cell_type": "code",
   "execution_count": 19,
   "metadata": {
    "collapsed": false
   },
   "outputs": [
    {
     "name": "stdout",
     "output_type": "stream",
     "text": [
      "500 loops\n",
      "\n",
      "\n",
      "=== Complex Moufang Condition test\n",
      "\n",
      "Given:\n",
      "\n",
      "       x = (0.7626080295503579+0.02553387340984048i)\n",
      "       y = (0.2833321204935315+0.11593875675936238i)\n",
      "       z = (0.6706768920361279+0.826452555606945i)\n",
      "\n",
      "These should be equal...\n",
      "\n",
      "  z × (x × (z × y)) = (-0.15573566580930323+0.21394020063061595i)\n",
      " ((z  × x) × z) × y = (-0.15573566580930323+0.213940200630616i)\n",
      "\n",
      "These should be equal...\n",
      "\n",
      " x × (z × (y × z )) = (-0.1557356658093032+0.21394020063061595i)\n",
      " (( x × z) × y) × z = (-0.15573566580930323+0.21394020063061603i)\n",
      "\n",
      "These should be equal...\n",
      "\n",
      " (z × x) × (y × z ) = (-0.15573566580930323+0.21394020063061597i)\n",
      "   (z × (x × y))× z = (-0.1557356658093032+0.21394020063061592i)\n",
      "\n",
      "These should be equal...\n",
      "\n",
      " (z × x) × (y × z ) = (-0.15573566580930323+0.21394020063061597i)\n",
      "  z ×((x × y) × z ) = (-0.1557356658093032+0.21394020063061592i)\n",
      "\n"
     ]
    }
   ],
   "source": [
    "mc.test_complex()"
   ]
  },
  {
   "cell_type": "markdown",
   "metadata": {},
   "source": []
  },
  {
   "cell_type": "markdown",
   "metadata": {},
   "source": [
    "## Power Associative"
   ]
  },
  {
   "cell_type": "code",
   "execution_count": 20,
   "metadata": {
    "collapsed": false
   },
   "outputs": [
    {
     "name": "stdout",
     "output_type": "stream",
     "text": [
      "8000 loops\n",
      "\n",
      "       x: 'Complex'([0.915498134104167,0.40232221719883765], dp='3', ii='-')\n",
      "       y: 'Complex'([0.5769087846930944,0.8168085786424729], dp='3', ii='-')\n",
      "   x × y: 'Complex'([0.1995386775483597,0.9798899510466733], dp='3', ii='-')\n",
      "\n",
      "\n",
      "\n",
      "=== Power Associative tests\n",
      "\n",
      "Given random unit vectors...\n",
      "\n",
      "             x = (0.915498134104167+0.40232221719883765i)\n",
      "             y = (0.5769087846930944+0.8168085786424729i)\n",
      "         x × y = (0.1995386775483597+0.9798899510466733i)\n",
      "\n",
      "Having a magnitude (abs) of 1...\n",
      "\n",
      "        abs(x) = 1.0\n",
      "        abs(y) = 1.0\n",
      "\n",
      "Produce a product of magnitude 1...\n",
      "\n",
      "    abs(x × y) = 1.0\n",
      "\n",
      "They should be in the same spot...\n",
      "\n",
      " distance to 1 = 0.0\n",
      "\n"
     ]
    }
   ],
   "source": [
    "pa.test_complex()"
   ]
  },
  {
   "cell_type": "markdown",
   "metadata": {},
   "source": []
  },
  {
   "cell_type": "markdown",
   "metadata": {},
   "source": [
    "## Two Square Identity"
   ]
  },
  {
   "cell_type": "code",
   "execution_count": 21,
   "metadata": {
    "collapsed": false
   },
   "outputs": [
    {
     "name": "stdout",
     "output_type": "stream",
     "text": [
      "\n",
      "\n",
      "=== Brahmagupta-Fibonacci's Two square identity test\n",
      "\n",
      "Given:\n",
      "\n",
      "       x: (0.0353719134091498+0.5875762848839043i)\n",
      "\n",
      "       y: (0.4512621337771049+0.7756404225888299i)\n",
      "\n",
      "These should be the same...\n",
      "\n",
      "Brahmagupta-Fibonacci's Two identity test product is:\n",
      "\n",
      "   formula(x × y):\n",
      "\n",
      "      (-0.43978591278973433+0.2925868139379832i)\n",
      "\n",
      "The involution product is:\n",
      "\n",
      "   code(x × y):\n",
      "\n",
      "      (-0.43978591278973433+0.2925868139379832i)\n",
      "            \n"
     ]
    }
   ],
   "source": [
    "TwoSquareIdentity().test_two_square_identity()"
   ]
  },
  {
   "cell_type": "markdown",
   "metadata": {},
   "source": []
  },
  {
   "cell_type": "markdown",
   "metadata": {},
   "source": [
    "## Four Square Identity"
   ]
  },
  {
   "cell_type": "code",
   "execution_count": 22,
   "metadata": {
    "collapsed": false
   },
   "outputs": [
    {
     "name": "stdout",
     "output_type": "stream",
     "text": [
      "\n",
      "\n",
      "=== Euler's Four square identity test\n",
      "\n",
      "Given:\n",
      "\n",
      "       x: (0.4459074793884079+0.7634988076742447i+0.3663961700687963j+0.727610367123181k)\n",
      "\n",
      "       y: (0.1835057771417291+0.15090427030698905i+0.5362701132439457j+0.0877939651977041k)\n",
      "\n",
      "These should be the same...\n",
      "\n",
      "Euler's Four identity test product is:\n",
      "\n",
      "   formula(x × y):\n",
      "\n",
      "      (-0.2937557467775014-0.15063253652044284i+0.3491315921672543j+0.5268195369677175k)\n",
      "\n",
      "The involution product is:\n",
      "\n",
      "   code(x × y):\n",
      "\n",
      "      (-0.2937557467775014-0.15063253652044284i+0.3491315921672543j+0.5268195369677175k)\n",
      "            \n"
     ]
    }
   ],
   "source": [
    "FourSquareIdentity().test_four_square_identity()"
   ]
  },
  {
   "cell_type": "markdown",
   "metadata": {},
   "source": []
  },
  {
   "cell_type": "markdown",
   "metadata": {},
   "source": [
    "## Eight Square Identity"
   ]
  },
  {
   "cell_type": "code",
   "execution_count": 23,
   "metadata": {
    "collapsed": false
   },
   "outputs": [
    {
     "name": "stdout",
     "output_type": "stream",
     "text": [
      "\n",
      "\n",
      "=== Degen's Eight square identity test\n",
      "\n",
      "Given:\n",
      "\n",
      "       x: (0.5799221132119241+0.5049970203190025i+0.2656916765348525j+0.8680553888989785k+0.28551680972110516l+0.6427405269687486m+0.3531056905908423n+0.6153269224613127o)\n",
      "\n",
      "       y: (0.8246102849020832+0.9572966851330044i+0.33663616230375737j+0.9103221028865064k+0.1147269783120608l+0.314920291533494m+0.06942451193471799n+0.8889813571573579o)\n",
      "\n",
      "These should be the same...\n",
      "\n",
      "Degen's Eight identity test product is:\n",
      "\n",
      "   formula(x × y):\n",
      "\n",
      "      (-1.6915705357716995+0.6662191780176512i+1.1425079689394368j+1.4091805389876138k+0.6471156464250831l+0.20702293017821968m+0.4374172792219201n+1.0328916965451662o)\n",
      "\n",
      "The involution product is:\n",
      "\n",
      "   code(x × y):\n",
      "\n",
      "      (-1.6915705357716997+0.6662191780176512i+1.142507968939437j+1.4091805389876135k+0.6471156464250831l+0.20702293017821966m+0.4374172792219201n+1.0328916965451662o)\n",
      "            \n"
     ]
    }
   ],
   "source": [
    "EightSquareIdentity().test_eight_square_identity()"
   ]
  },
  {
   "cell_type": "markdown",
   "metadata": {},
   "source": []
  },
  {
   "cell_type": "markdown",
   "metadata": {},
   "source": [
    "## Sixteen Square Identity"
   ]
  },
  {
   "cell_type": "code",
   "execution_count": 24,
   "metadata": {
    "collapsed": false
   },
   "outputs": [
    {
     "name": "stdout",
     "output_type": "stream",
     "text": [
      "\n",
      "\n",
      "=== Pfister's Sixteen square identity test\n",
      "\n",
      "Given:\n",
      "\n",
      "       x: (0.7704812478932589+0.7260360492799725i+0.5984843786278154j+0.6055132665939862k+0.1819665759388177l+0.2609991702196217m+0.7718176497888382n+0.5427521332271811o+0.04110519395967527p+0.8559674706259309q+0.926056290521813r+0.4167636248939395s+0.7118261619721332t+0.044875256476745395u+0.0039907295632930495v+0.6811484312744409w)\n",
      "\n",
      "       y: (0.45239760025395237+0.43787797960277985i+0.47421142659901006j+0.6548611831508503k+0.6599088289967149l+0.27105331362867m+0.20476307370486369n+0.4841105446468775o+0.5302573820569157p+0.6550895471847278q+0.053788294257878344r+0.4194748758727629s+0.5811308606056073t+0.3513566826096659u+0.38971109968296125v+0.06672778041739558w)\n",
      "\n",
      "These should be the same...\n",
      "\n",
      "Pfister's Sixteen identity test product is:\n",
      "\n",
      "   formula(x × y):\n",
      "\n",
      "      (-2.5449070803390645-0.8970129886583513i-0.5085731969908643j+1.4676916067358357k+0.8345629452640191l+0.13649572188571782m+0.9669395173650785n+0.8326688255505168o+1.0302391816949021p+0.2585281710045924q+1.6148605629426174r+1.4052979761035607s+1.0835116438351107t+0.0034907029150872404u+0.46917711031979636v+0.06791523245545492w)\n",
      "\n",
      "The involution product is:\n",
      "\n",
      "   code(x × y):\n",
      "\n",
      "      (-2.544907080339064-0.8970129886583513i-0.5085731969908645j+1.467691606735836k+0.8345629452640189l+0.1364957218857179m+0.9669395173650785n+0.8326688255505166o+1.0302391816949021p+0.2585281710045924q+1.6148605629426172r+1.4052979761035607s+1.0835116438351102t+0.003490702915087185u+0.46917711031979636v+0.06791523245545489w)\n",
      "            \n"
     ]
    }
   ],
   "source": [
    "SixteenSquareIdentity().test_sixteen_square_identity()"
   ]
  }
 ],
 "metadata": {
  "kernelspec": {
   "display_name": "Python 3",
   "language": "python",
   "name": "python3"
  },
  "language_info": {
   "codemirror_mode": {
    "name": "ipython",
    "version": 3
   },
   "file_extension": ".py",
   "mimetype": "text/x-python",
   "name": "python",
   "nbconvert_exporter": "python",
   "pygments_lexer": "ipython3",
   "version": "3.5.3"
  }
 },
 "nbformat": 4,
 "nbformat_minor": 2
}
