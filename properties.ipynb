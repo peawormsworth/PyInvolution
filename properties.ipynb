{
 "cells": [
  {
   "cell_type": "markdown",
   "metadata": {},
   "source": [
    "# Algebraic Properties of Multi-dimensional numbers\n",
    "\n",
    "\n",
    "### testing the algebraic properties of Cayley-Dickson constructions using involution\n",
    "\n",
    "Jeffrey B Anderson - <truejeffanderson@gmail.com>\n",
    "\n",
    "source code: https://github.com/peawormsworth/PyInvolution\n",
    "\n",
    "license: "
   ]
  },
  {
   "cell_type": "markdown",
   "metadata": {},
   "source": [
    "The algebraic properties of multicomplex numbers are tested using <b>*involution*</b>.\n",
    "\n",
    "We can confirm the conjugate and conjugate properties of Quaternion, Octonion and their split cousins the Split Quaternion and Split Octonion.\n",
    "\n",
    "The Quaternion has an additional metric space and a well known dot product formula. While the Split Quaternions have interesting nilpotents and idempotents.\n",
    "\n",
    "Finally, the commutative property, power associativity, weak alternative property, Moufang conditions and the Diophantus identity are verified for common algebraic constructions."
   ]
  },
  {
   "cell_type": "markdown",
   "metadata": {},
   "source": [
    "# Quaternion Properties\n",
    "\n",
    "The quaternion is the most common 4 dimensional Cayley-Dickson construction studied by mathematicians.\n",
    "Quaternions have several practical applications including tracing rotational motions and movement in 3 dimensional space.\n",
    "Using involution we can easily test several algebraic aspects of the Quaternions."
   ]
  },
  {
   "cell_type": "markdown",
   "metadata": {},
   "source": [
    "## Quaternion Conjugation"
   ]
  },
  {
   "cell_type": "markdown",
   "metadata": {},
   "source": [
    "Quaternion conjugation is often achieved by reversing the sign of (negating) the imaginary components, while leaving the real component untouched. Alternatively, there is also a formula which can be used to achieve the same result. \n",
    "\n",
    "given the quaternion:\n",
    "\n",
    "$$q = (a,b,c,d)$$\n",
    "\n",
    "its conjugate is the negation of its imaginary components:\n",
    "\n",
    "$${\\displaystyle q^{*}=(a,-b,-c,-d)}$$\n",
    "\n",
    "But also, the quaternion conjugate is found using this formula:\n",
    "\n",
    "$${\\displaystyle q^{*}=-{\\frac {1}{2}}(q+iqi+jqj+kqk)}$$\n",
    "\n",
    "Below we test this property by creating both and comparing for equality...\n",
    "\n",
    "*=== begin code ===*"
   ]
  },
  {
   "cell_type": "code",
   "execution_count": null,
   "metadata": {
    "collapsed": false
   },
   "outputs": [],
   "source": [
    "from involution.algebra import Quaternion\n",
    "from jupyter_test import unit_list, random_vector\n",
    "\n",
    "# from any random quaternion...\n",
    "q = random_vector(Quaternion)\n",
    "\n",
    "# calculate the conjugate using involution...\n",
    "calculate = q.conj()\n",
    "\n",
    "# and generate \"one\" and the quaternion imaginary units i,j and k...\n",
    "o,i,j,k = unit_list(Quaternion)\n",
    "\n",
    "# to find the conjugate using this formula...\n",
    "formula = -1/2*( q + (i*q)*i + (j*q)*j + (k*q)*k )\n",
    "\n",
    "# output the results...\n",
    "print('given a random quaternion like... ', q,\n",
    "      'the calculated conjugate is...    ', calculate,\n",
    "      'and the conjugate formula gives...', formula, \n",
    "      '',sep=\"\\n\\n\\n\")\n",
    "\n",
    "# print success or dump the fail...\n",
    "assert calculate == formula, 'involution did not calculate the conjugate and its formula in the same way'\n",
    "print('Success: conjugates are equal.')\n"
   ]
  },
  {
   "cell_type": "markdown",
   "metadata": {},
   "source": [
    "*=== end code===*"
   ]
  },
  {
   "cell_type": "markdown",
   "metadata": {},
   "source": [
    "## Quaternion Conjugate Product"
   ]
  },
  {
   "cell_type": "markdown",
   "metadata": {},
   "source": [
    "Quaternion conjugation product is defined here as the product of the quaternion with its conjugate.\n",
    "This product is equal to the square of the absolute magnitude (norm) of the Quaternion.\n",
    "It is also equal to the sum of the squares of the coefficients of the Quaternion.\n",
    "\n",
    "given the quaternion:\n",
    "\n",
    "$$q = (a,b,c,d)$$\n",
    "\n",
    "its conjugate product is:\n",
    "\n",
    "$$conjugate\\:product = q \\times conjugate(q)$$\n",
    "\n",
    "But also:\n",
    "\n",
    "$$conjugate\\:product = a^2+b^2+c^2+d^2$$\n",
    "\n",
    "And finally:\n",
    "\n",
    "$$conjugate\\:product = |a|^2$$\n",
    "\n",
    "Below we test this property by evaluating all three on a random quaternion and comparing for equality...\n",
    "\n",
    "*=== begin code ===*"
   ]
  },
  {
   "cell_type": "code",
   "execution_count": null,
   "metadata": {
    "collapsed": false
   },
   "outputs": [],
   "source": [
    "from involution.algebra import Quaternion\n",
    "from jupyter_test import *\n",
    "\n",
    "# from any random quaternion...\n",
    "q = random_vector(Quaternion)\n",
    "\n",
    "# calculate the product of itself with its conjugate...\n",
    "calculate = q * q.conj()\n",
    "\n",
    "# and find the sum of the square of its coefficients...\n",
    "formula = sum([coefficient ** 2 for coefficient in q])\n",
    "\n",
    "# equals the square of its absolute value...\n",
    "abs_square = abs(q) ** 2\n",
    "\n",
    "# output the results...\n",
    "print('given a random quaternion like...'           , q,\n",
    "      'the calculated conjugate product is...'      , calculate,\n",
    "      'while the conjugate product formula gives...', formula, \n",
    "      'and the square of its absolute magnite is...', abs_square, \n",
    "      '',sep=\"\\n\\n\\n\")\n",
    "\n",
    "# print success or dump the fail...\n",
    "assert calculate == formula, 'involution did not calculate the conjugate product and its formula in the same way'\n",
    "print('Success: the conjugate products equal the square of its absolute magnitude.')"
   ]
  },
  {
   "cell_type": "markdown",
   "metadata": {},
   "source": [
    "*=== end code===*"
   ]
  },
  {
   "cell_type": "markdown",
   "metadata": {},
   "source": [
    "## Quaternion Addition Metric Space"
   ]
  },
  {
   "cell_type": "markdown",
   "metadata": {},
   "source": [
    "The norm (absolute magnitude) of a quaternion has a square matrix determinant form.\n",
    "From the multiplicative property of determinants of square matrices, this norm makes it possible to define the distance between two quaternions, p and q, as the norm of their difference:\n",
    "\n",
    "$${\\displaystyle d(p,q)=\\lVert p-q\\rVert}$$\n",
    "\n",
    "This makes the quaternions a metric space, having addition and multiplication are continuous in the metric topology. And so, for any positive scalar, like <b>*a*</b>, it holds that...\n",
    "\n",
    "$${\\displaystyle \\lVert (p+ap_{1}+q+aq_{1})-(p+q)\\rVert =a\\lVert p_{1}+q_{1}\\rVert}$$\n",
    "\n",
    "Below we test this property by generating 4 quaternions and a scalar to test the formula for equality...\n",
    "\n",
    "*===begin code===*"
   ]
  },
  {
   "cell_type": "code",
   "execution_count": null,
   "metadata": {
    "collapsed": false
   },
   "outputs": [],
   "source": [
    "from involution.algebra import Quaternion\n",
    "from jupyter_test import *\n",
    "\n",
    "# from any four random quaternion...\n",
    "p1 = random_vector(Quaternion)\n",
    "p2 = random_vector(Quaternion)\n",
    "q1 = random_vector(Quaternion)\n",
    "q2 = random_vector(Quaternion)\n",
    "\n",
    "# and any random scalar value...\n",
    "a  = uniform(0,10)\n",
    "\n",
    "# calculate the left side of the equation...\n",
    "left_side = abs((p1 + a*p2 + q1 + a*q2) - (p1+q1))\n",
    "\n",
    "# to compare with the right side...\n",
    "right_side = a*abs(p2+q2)\n",
    "\n",
    "# output the results...\n",
    "print('given four random quaternion like...', p1, p2, q1, q2,\n",
    "      'and a scalar value like...'         , a,\n",
    "      'the left side of the formula becomes...' , left_side,\n",
    "      'the right side of the formula becomes...', right_side,\n",
    "      '',sep=\"\\n\\n\\n\")\n",
    "\n",
    "# print success or dump the fail...\n",
    "assert left_side - right_side < 10 ** -12, 'involution did not calculate the conjugate product and its formula in the same way'\n",
    "print('Success: the conjugate products equal the square of its absolute magnitude.')"
   ]
  },
  {
   "cell_type": "markdown",
   "metadata": {},
   "source": [
    "*===end code===*"
   ]
  },
  {
   "cell_type": "markdown",
   "metadata": {},
   "source": [
    "## Quaternion Dot Product"
   ]
  },
  {
   "cell_type": "markdown",
   "metadata": {},
   "source": [
    "Operations such as the vector dot and cross products can be defined in terms of quaternions, and this makes it possible to apply quaternion techniques wherever spatial vectors arise.\n",
    "\n",
    "For two vector quaternions p = b1i + c1j + d1k and q = b2i + c2j + d2k their dot product, by analogy to vectors in R3, is\n",
    "\n",
    "$${\\displaystyle p\\cdot q=b_{1}b_{2}+c_{1}c_{2}+d_{1}d_{2}.}p\\cdot q=b_{1}b_{2}+c_{1}c_{2}+d_{1}d_{2}$$\n",
    "\n",
    "The dot product of a quaternion can be expressed in a component-free manner as...\n",
    "\n",
    "$${\\displaystyle p\\cdot q=\\textstyle {\\frac {1}{2}}(p^{*}q+q^{*}p)=\\textstyle {\\frac {1}{2}}(pq^{*}+qp^{*}).}p\\cdot q=\\textstyle {\\frac {1}{2}}(p^{*}q+q^{*}p)=\\textstyle {\\frac {1}{2}}(pq^{*}+qp^{*})$$\n",
    "\n",
    "Below we test this property by generating 4 quaternions and a scalar to test the formula for equality...\n",
    "\n",
    "*===begin code===*"
   ]
  },
  {
   "cell_type": "code",
   "execution_count": null,
   "metadata": {
    "collapsed": false
   },
   "outputs": [],
   "source": [
    "from involution.algebra import Quaternion\n",
    "from jupyter_test import *\n",
    "\n",
    "# from any two random quaternion...\n",
    "p = random_imaginary_vector(Quaternion)\n",
    "q = random_imaginary_vector(Quaternion)\n",
    "\n",
    "# compute the component free dot product...\n",
    "c1_dot_prod = 1/2*(p.conj()*q + q.conj()*p)\n",
    "c2_dot_prod = 1/2*(p*q.conj() + q*p.conj())\n",
    "\n",
    "# then extract their imaginary components (their i,j and k values)\n",
    "b1,c1,d1 = p[1:]\n",
    "b2,c2,d2 = q[1:]\n",
    "\n",
    "# and calculate the dot product using their components...\n",
    "cf_dot_prod = b1 * b2 + c1 * c2 + d1 * d2\n",
    "\n",
    "# output the results...\n",
    "print('given two random quaternion like...', p, q,\n",
    "      'the first dot product result is...' , c1_dot_prod,\n",
    "      'the second dot product result is...', c2_dot_prod,\n",
    "      'and the component dot product is...', cf_dot_prod,\n",
    "      '',sep=\"\\n\\n\\n\")\n",
    "\n",
    "# print success or dump the fail...\n",
    "assert left_side - right_side < 10 ** -12, 'involution is unable to calculate the dot product correctly'\n",
    "print('Success: the component and component free dot products match')"
   ]
  },
  {
   "cell_type": "markdown",
   "metadata": {},
   "source": [
    "*===end code===*"
   ]
  },
  {
   "cell_type": "markdown",
   "metadata": {},
   "source": [
    "## Quaternion Conjugation"
   ]
  },
  {
   "cell_type": "code",
   "execution_count": null,
   "metadata": {
    "collapsed": false
   },
   "outputs": [],
   "source": [
    "TestQuaternion().test_conjugation()"
   ]
  },
  {
   "cell_type": "markdown",
   "metadata": {},
   "source": [
    "explaination"
   ]
  },
  {
   "cell_type": "markdown",
   "metadata": {},
   "source": [
    "## Quaternion Conjugate Product"
   ]
  },
  {
   "cell_type": "code",
   "execution_count": null,
   "metadata": {
    "collapsed": false
   },
   "outputs": [],
   "source": [
    "tq.test_conjugate_product()"
   ]
  },
  {
   "cell_type": "markdown",
   "metadata": {},
   "source": [
    "explaination"
   ]
  },
  {
   "cell_type": "markdown",
   "metadata": {},
   "source": [
    "## Split Quaternion Complex Generation"
   ]
  },
  {
   "cell_type": "code",
   "execution_count": null,
   "metadata": {
    "collapsed": false
   },
   "outputs": [],
   "source": [
    "sq.test_split_complex_generation()"
   ]
  },
  {
   "cell_type": "markdown",
   "metadata": {},
   "source": [
    "## Split Quaternion Nilpotent"
   ]
  },
  {
   "cell_type": "markdown",
   "metadata": {},
   "source": [
    "A nilpotent is a number that squares to 0.\n",
    "\n",
    "The Quaternions have several of these points test below.\n",
    "\n",
    "Other algebras have nilpotents that will be tested here as well."
   ]
  },
  {
   "cell_type": "code",
   "execution_count": null,
   "metadata": {
    "collapsed": false
   },
   "outputs": [],
   "source": [
    "sq.test_nilpotent()"
   ]
  },
  {
   "cell_type": "markdown",
   "metadata": {},
   "source": [
    "## Split Quaternion Idempotent"
   ]
  },
  {
   "cell_type": "markdown",
   "metadata": {},
   "source": [
    "A number that squares to itself is idempotent.\n",
    "\n",
    "The number 1 is an idempotent since $1= 1^2$\n",
    "\n",
    "The quaternions have serval of these points."
   ]
  },
  {
   "cell_type": "code",
   "execution_count": null,
   "metadata": {
    "collapsed": false
   },
   "outputs": [],
   "source": [
    "sq.test_idempotent()"
   ]
  },
  {
   "cell_type": "markdown",
   "metadata": {},
   "source": []
  },
  {
   "cell_type": "markdown",
   "metadata": {},
   "source": [
    "## Split Octonion Conjugation"
   ]
  },
  {
   "cell_type": "code",
   "execution_count": null,
   "metadata": {
    "collapsed": false
   },
   "outputs": [],
   "source": [
    "so.test_conjugation()"
   ]
  },
  {
   "cell_type": "markdown",
   "metadata": {},
   "source": []
  },
  {
   "cell_type": "markdown",
   "metadata": {},
   "source": [
    "## Split Octonion Conjugate Product"
   ]
  },
  {
   "cell_type": "code",
   "execution_count": null,
   "metadata": {
    "collapsed": false
   },
   "outputs": [],
   "source": [
    "so.test_conjugate_product()"
   ]
  },
  {
   "cell_type": "markdown",
   "metadata": {},
   "source": []
  },
  {
   "cell_type": "markdown",
   "metadata": {},
   "source": [
    "## Complex Commutative property"
   ]
  },
  {
   "cell_type": "code",
   "execution_count": null,
   "metadata": {
    "collapsed": false
   },
   "outputs": [],
   "source": [
    "cm.test_complex()"
   ]
  },
  {
   "cell_type": "markdown",
   "metadata": {},
   "source": []
  },
  {
   "cell_type": "markdown",
   "metadata": {},
   "source": [
    "## Quaternion Commutative property"
   ]
  },
  {
   "cell_type": "code",
   "execution_count": null,
   "metadata": {
    "collapsed": false
   },
   "outputs": [],
   "source": [
    "cm.test_quaternion()"
   ]
  },
  {
   "cell_type": "markdown",
   "metadata": {},
   "source": []
  },
  {
   "cell_type": "markdown",
   "metadata": {},
   "source": [
    "## Octontion Commutative property"
   ]
  },
  {
   "cell_type": "code",
   "execution_count": null,
   "metadata": {
    "collapsed": false
   },
   "outputs": [],
   "source": [
    "cm.test_octonion()"
   ]
  },
  {
   "cell_type": "markdown",
   "metadata": {},
   "source": []
  },
  {
   "cell_type": "markdown",
   "metadata": {},
   "source": [
    "## Non-commutative Sedenion"
   ]
  },
  {
   "cell_type": "code",
   "execution_count": null,
   "metadata": {
    "collapsed": false
   },
   "outputs": [],
   "source": [
    "cm.test_sedenion()"
   ]
  },
  {
   "cell_type": "markdown",
   "metadata": {},
   "source": []
  },
  {
   "cell_type": "markdown",
   "metadata": {},
   "source": [
    "## Non-Commutative in 32 dimensions"
   ]
  },
  {
   "cell_type": "code",
   "execution_count": null,
   "metadata": {
    "collapsed": false
   },
   "outputs": [],
   "source": [
    "cm.test_cd32()"
   ]
  },
  {
   "cell_type": "markdown",
   "metadata": {},
   "source": []
  },
  {
   "cell_type": "markdown",
   "metadata": {},
   "source": [
    "## Weak Alternative"
   ]
  },
  {
   "cell_type": "code",
   "execution_count": null,
   "metadata": {
    "collapsed": false
   },
   "outputs": [],
   "source": [
    "wa.test_complex()"
   ]
  },
  {
   "cell_type": "markdown",
   "metadata": {},
   "source": []
  },
  {
   "cell_type": "markdown",
   "metadata": {},
   "source": [
    "## Diophantus Identity"
   ]
  },
  {
   "cell_type": "code",
   "execution_count": null,
   "metadata": {
    "collapsed": false
   },
   "outputs": [],
   "source": [
    "di.test_complex()"
   ]
  },
  {
   "cell_type": "markdown",
   "metadata": {},
   "source": []
  },
  {
   "cell_type": "markdown",
   "metadata": {},
   "source": [
    "## Moufang Condition"
   ]
  },
  {
   "cell_type": "code",
   "execution_count": null,
   "metadata": {
    "collapsed": false
   },
   "outputs": [],
   "source": [
    "mc.test_complex()"
   ]
  },
  {
   "cell_type": "markdown",
   "metadata": {},
   "source": []
  },
  {
   "cell_type": "markdown",
   "metadata": {},
   "source": [
    "## Power Associative"
   ]
  },
  {
   "cell_type": "code",
   "execution_count": null,
   "metadata": {
    "collapsed": false
   },
   "outputs": [],
   "source": [
    "pa.test_complex()"
   ]
  },
  {
   "cell_type": "markdown",
   "metadata": {},
   "source": []
  },
  {
   "cell_type": "markdown",
   "metadata": {},
   "source": [
    "## Two Square Identity"
   ]
  },
  {
   "cell_type": "code",
   "execution_count": null,
   "metadata": {
    "collapsed": false
   },
   "outputs": [],
   "source": [
    "TwoSquareIdentity().test_two_square_identity()"
   ]
  },
  {
   "cell_type": "markdown",
   "metadata": {},
   "source": []
  },
  {
   "cell_type": "markdown",
   "metadata": {},
   "source": [
    "## Four Square Identity"
   ]
  },
  {
   "cell_type": "code",
   "execution_count": null,
   "metadata": {
    "collapsed": false
   },
   "outputs": [],
   "source": [
    "FourSquareIdentity().test_four_square_identity()"
   ]
  },
  {
   "cell_type": "markdown",
   "metadata": {},
   "source": []
  },
  {
   "cell_type": "markdown",
   "metadata": {},
   "source": [
    "## Eight Square Identity"
   ]
  },
  {
   "cell_type": "code",
   "execution_count": null,
   "metadata": {
    "collapsed": false
   },
   "outputs": [],
   "source": [
    "EightSquareIdentity().test_eight_square_identity()"
   ]
  },
  {
   "cell_type": "markdown",
   "metadata": {},
   "source": []
  },
  {
   "cell_type": "markdown",
   "metadata": {},
   "source": [
    "## Sixteen Square Identity"
   ]
  },
  {
   "cell_type": "code",
   "execution_count": null,
   "metadata": {
    "collapsed": false
   },
   "outputs": [],
   "source": [
    "SixteenSquareIdentity().test_sixteen_square_identity()"
   ]
  }
 ],
 "metadata": {
  "kernelspec": {
   "display_name": "Python 3",
   "language": "python",
   "name": "python3"
  },
  "language_info": {
   "codemirror_mode": {
    "name": "ipython",
    "version": 3
   },
   "file_extension": ".py",
   "mimetype": "text/x-python",
   "name": "python",
   "nbconvert_exporter": "python",
   "pygments_lexer": "ipython3",
   "version": "3.5.3"
  }
 },
 "nbformat": 4,
 "nbformat_minor": 2
}
