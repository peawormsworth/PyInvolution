{
 "cells": [
  {
   "cell_type": "markdown",
   "metadata": {},
   "source": [
    "# Algebraic Properties of Multi-dimensional numbers\n",
    "\n",
    "by Jeffrey B Anderson - <truejeffanderson@gmail.com>\n",
    "\n",
    "source: https://github.com/peawormsworth/PyInvolution"
   ]
  },
  {
   "cell_type": "markdown",
   "metadata": {},
   "source": [
    "### confirm the algebraic properties of Cayley-Dickson constructions using involution\n",
    "\n",
    "Techniques for testing algebraic properties of multicomplex numbers using <b>*involution*</b> on python3.\n",
    "\n",
    "We can confirm the conjugate and conjugate properties of Quaternion, Octonion and their split cousins the Split Quaternion and Split Octonion.\n",
    "\n",
    "The Quaternion has an additional metric space and a well known dot product formula. While the Split Quaternions have interesting nilpotents and idempotents.\n",
    "\n",
    "Finally, the commutative property, power associativity, weak alternative property, Moufang conditions and the Diophantus identity are verified for common algebraic constructions."
   ]
  },
  {
   "cell_type": "markdown",
   "metadata": {},
   "source": [
    "## Quaternion Conjugate Product\n",
    "\n",
    "Quaternion conjugation is often achieved by reversing the sign of (negating) the imaginary components, while leaving the real component untouched. Alternatively, there is also a formula which can be used to achieve the same result. \n",
    "\n",
    "given the quaternion:\n",
    "\n",
    "$$q = a+bi+cj+dk)$$\n",
    "\n",
    "its conjugate is the negation of its imaginary components:\n",
    "\n",
    "$$q^{*}=a-bi-cj-dk)$$\n",
    "\n",
    "But also, the quaternion conjugate is found using this formula:\n",
    "\n",
    "$$q^{*}=-{\\frac {1}{2}}(q+iqi+jqj+kqk)$$"
   ]
  },
  {
   "cell_type": "code",
   "execution_count": 1,
   "metadata": {
    "collapsed": false
   },
   "outputs": [
    {
     "name": "stdout",
     "output_type": "stream",
     "text": [
      "given a random quaternion like... \n",
      "\n",
      "\n",
      "(0.3240857478588045+0.6911268113203983i+0.5730322029445596j+0.3479758790455979k)\n",
      "\n",
      "\n",
      "the calculated conjugate is...    \n",
      "\n",
      "\n",
      "(0.3240857478588045-0.6911268113203983i-0.5730322029445596j-0.3479758790455979k)\n",
      "\n",
      "\n",
      "and the conjugate formula gives...\n",
      "\n",
      "\n",
      "(0.3240857478588045-0.6911268113203983i-0.5730322029445596j-0.34797587904559785k)\n",
      "\n",
      "\n",
      "\n",
      "Success: conjugates are equal.\n"
     ]
    }
   ],
   "source": [
    "from involution.algebra import Quaternion\n",
    "from jupyter_test import unit_list, random_vector\n",
    "\n",
    "# from any random quaternion...\n",
    "q = random_vector(Quaternion)\n",
    "\n",
    "# calculate the conjugate using involution...\n",
    "calculate = q.conj()\n",
    "\n",
    "# and generate \"one\" and the quaternion imaginary units i,j and k...\n",
    "o,i,j,k = unit_list(Quaternion)\n",
    "\n",
    "# to find the conjugate using this formula...\n",
    "formula = -1/2*( q + (i*q)*i + (j*q)*j + (k*q)*k )\n",
    "\n",
    "# output the results...\n",
    "print('given a random quaternion like... ', q,\n",
    "      'the calculated conjugate is...    ', calculate,\n",
    "      'and the conjugate formula gives...', formula, \n",
    "      '',sep=\"\\n\\n\\n\")\n",
    "\n",
    "# print success or dump the fail...\n",
    "assert calculate == formula, 'involution did not calculate the conjugate and its formula in the same way'\n",
    "print('Success: conjugates are equal.')\n"
   ]
  },
  {
   "cell_type": "markdown",
   "metadata": {},
   "source": [
    "*=== end code===*"
   ]
  },
  {
   "cell_type": "markdown",
   "metadata": {},
   "source": [
    "## Quaternion Conjugate Product\n",
    "\n",
    "Quaternion conjugation product is defined here as the product of the quaternion with its conjugate.\n",
    "This product is equal to the square of the absolute magnitude (norm) of the Quaternion.\n",
    "It is also equal to the sum of the squares of the coefficients of the Quaternion.\n",
    "\n",
    "given the quaternion:\n",
    "\n",
    "$$q = a + bi + cj + dk$$\n",
    "\n",
    "This equality holds:\n",
    "\n",
    "$$q \\times q^{*}=a^2+b^2+c^2+d^2$$\n",
    "\n",
    "Which is also:\n",
    "\n",
    "$$|q|^2$$"
   ]
  },
  {
   "cell_type": "code",
   "execution_count": 2,
   "metadata": {
    "collapsed": false
   },
   "outputs": [
    {
     "name": "stdout",
     "output_type": "stream",
     "text": [
      "given a random quaternion like...\n",
      "\n",
      "\n",
      "(0.549768099515013+0.7603189757981755i+0.7735294022794127j+0.6254055198867865k)\n",
      "\n",
      "\n",
      "the calculated conjugate product is...\n",
      "\n",
      "\n",
      "1.869809708698743\n",
      "\n",
      "\n",
      "while the conjugate product formula gives...\n",
      "\n",
      "\n",
      "1.869809708698743\n",
      "\n",
      "\n",
      "and the square of its absolute magnitude is...\n",
      "\n",
      "\n",
      "1.8698097086987433\n",
      "\n",
      "\n",
      "\n",
      "Success: the conjugate products equal the square of its absolute magnitude.\n"
     ]
    }
   ],
   "source": [
    "from involution.algebra import Quaternion\n",
    "from jupyter_test import *\n",
    "\n",
    "# from any random quaternion...\n",
    "q = random_vector(Quaternion)\n",
    "\n",
    "# calculate the product of itself with its conjugate...\n",
    "calculate = q * q.conj()\n",
    "\n",
    "# and find the sum of the square of its coefficients...\n",
    "a,b,c,d = q[:]\n",
    "formula = a**2 + b**2 + c**2 + d**2\n",
    "\n",
    "# equals the square of its absolute value...\n",
    "abs_square = abs(q) ** 2\n",
    "\n",
    "# output the results...\n",
    "print('given a random quaternion like...'           , q,\n",
    "      'the calculated conjugate product is...'      , calculate,\n",
    "      'while the conjugate product formula gives...', formula, \n",
    "      'and the square of its absolute magnitude is...', abs_square, \n",
    "      '',sep=\"\\n\\n\\n\")\n",
    "\n",
    "# print success or dump the fail...\n",
    "assert calculate == formula, 'involution did not calculate the conjugate product and its formula in the same way'\n",
    "print('Success: the conjugate products equal the square of its absolute magnitude.')"
   ]
  },
  {
   "cell_type": "markdown",
   "metadata": {},
   "source": [
    "*=== end code===*"
   ]
  },
  {
   "cell_type": "markdown",
   "metadata": {},
   "source": [
    "## Quaternion Addition Metric Space\n",
    "\n",
    "The norm (absolute magnitude) of a quaternion has a square matrix determinant form.\n",
    "From the multiplicative property of determinants of square matrices, this norm makes it possible to define the distance between two quaternions, p and q, as the norm of their difference:\n",
    "\n",
    "$${\\displaystyle d(p,q)= | p-q | }$$\n",
    "\n",
    "This makes the quaternions a metric space, having addition and multiplication are continuous in the metric topology. And so, for any positive scalar, like <b>*a*</b>, it holds that...\n",
    "\n",
    "$${\\displaystyle | (p+ap_{1}+q+aq_{1})-(p+q) | =a | p_{1}+q_{1} | }$$"
   ]
  },
  {
   "cell_type": "code",
   "execution_count": 3,
   "metadata": {
    "collapsed": false
   },
   "outputs": [
    {
     "name": "stdout",
     "output_type": "stream",
     "text": [
      "given four random quaternion like...\n",
      "\n",
      "\n",
      "(0.4212989747664323+0.3458309582455561i+0.7448930337167844j+0.3971980502249365k)\n",
      "\n",
      "\n",
      "(0.12476161551783183+0.061341911892017875i+0.7186278863120282j+0.8558251383877702k)\n",
      "\n",
      "\n",
      "(0.21119185467251522+0.2789619636131131i+0.034564980745874996j+0.21340689360694476k)\n",
      "\n",
      "\n",
      "(0.08324714961095614+0.8028926119118422i+0.8112422281793911j+0.13195484594297002k)\n",
      "\n",
      "\n",
      "and a scalar value like...\n",
      "\n",
      "\n",
      "1.2770420990872822\n",
      "\n",
      "\n",
      "the left side of the formula becomes...\n",
      "\n",
      "\n",
      "2.587824534838028\n",
      "\n",
      "\n",
      "the right side of the formula becomes...\n",
      "\n",
      "\n",
      "2.587824534838028\n",
      "\n",
      "\n",
      "\n",
      "Success: the conjugate products equal the square of its absolute magnitude.\n"
     ]
    }
   ],
   "source": [
    "from involution.algebra import Quaternion\n",
    "from jupyter_test import *\n",
    "\n",
    "# from any four random quaternion...\n",
    "p1 = random_vector(Quaternion)\n",
    "p2 = random_vector(Quaternion)\n",
    "q1 = random_vector(Quaternion)\n",
    "q2 = random_vector(Quaternion)\n",
    "\n",
    "# and any random scalar value...\n",
    "a  = uniform(0,10)\n",
    "\n",
    "# calculate the left side of the equation...\n",
    "left_side = abs((p1 + a*p2 + q1 + a*q2) - (p1+q1))\n",
    "\n",
    "# to compare with the right side...\n",
    "right_side = a*abs(p2+q2)\n",
    "\n",
    "# output the results...\n",
    "print('given four random quaternion like...', p1, p2, q1, q2,\n",
    "      'and a scalar value like...'         , a,\n",
    "      'the left side of the formula becomes...' , left_side,\n",
    "      'the right side of the formula becomes...', right_side,\n",
    "      '',sep=\"\\n\\n\\n\")\n",
    "\n",
    "# print success or dump the fail...\n",
    "assert left_side - right_side < 10 ** -12, \\\n",
    "    'involution did not calculate the conjugate product and its formula in the same way'\n",
    "print('Success: the conjugate products equal the square of its absolute magnitude.')"
   ]
  },
  {
   "cell_type": "markdown",
   "metadata": {},
   "source": [
    "*===end code===*"
   ]
  },
  {
   "cell_type": "markdown",
   "metadata": {},
   "source": [
    "## Quaternion Dot Product\n",
    "\n",
    "Operations such as the vector dot and cross products can be defined in terms of quaternions, and this makes it possible to apply quaternion techniques wherever spatial vectors arise.\n",
    "\n",
    "For two vector quaternions $p = b_{1}i + c_{1}j + d_{1}k$ and $q = b_{2}i + c_{2}j + d_{2}k$ their dot product is\n",
    "\n",
    "$$p\\cdot q=b_{1}b_{2}+c_{1}c_{2}+d_{1}d_{2}$$\n",
    "\n",
    "The dot product of a quaternion can be expressed in a component free manner as...\n",
    "\n",
    "$$q=\\textstyle {\\frac {1}{2}}(p^{*}q+q^{*}p)=\\textstyle {\\frac {1}{2}}(pq^{*}+qp^{*})$$"
   ]
  },
  {
   "cell_type": "code",
   "execution_count": 4,
   "metadata": {
    "collapsed": false
   },
   "outputs": [
    {
     "name": "stdout",
     "output_type": "stream",
     "text": [
      "given two random quaternion like...\n",
      "\n",
      "\n",
      "(0.7976250760971577i+0.8746088064447816j+0.3819157047186308k)\n",
      "\n",
      "\n",
      "(0.632625462638729i+0.6645646848588316j+0.009286241034773268k)\n",
      "\n",
      "\n",
      "the first dot product result is...\n",
      "\n",
      "\n",
      "1.0893786198969333\n",
      "\n",
      "\n",
      "the second dot product result is...\n",
      "\n",
      "\n",
      "1.0893786198969333\n",
      "\n",
      "\n",
      "and the component dot product is...\n",
      "\n",
      "\n",
      "1.0893786198969333\n",
      "\n",
      "\n",
      "\n",
      "Success: the component and component free dot products match\n"
     ]
    }
   ],
   "source": [
    "from involution.algebra import Quaternion\n",
    "from jupyter_test import *\n",
    "\n",
    "# from any two random quaternion...\n",
    "p = random_imaginary_vector(Quaternion)\n",
    "q = random_imaginary_vector(Quaternion)\n",
    "\n",
    "# compute the component free dot product...\n",
    "c1_dot_prod = 1/2*(p.conj()*q + q.conj()*p)\n",
    "c2_dot_prod = 1/2*(p*q.conj() + q*p.conj())\n",
    "\n",
    "# then extract their imaginary components (their i,j and k values)\n",
    "b1,c1,d1 = p[1:]\n",
    "b2,c2,d2 = q[1:]\n",
    "\n",
    "# and calculate the dot product using their components...\n",
    "cf_dot_prod = b1 * b2 + c1 * c2 + d1 * d2\n",
    "\n",
    "# output the results...\n",
    "print('given two random quaternion like...', p, q,\n",
    "      'the first dot product result is...' , c1_dot_prod,\n",
    "      'the second dot product result is...', c2_dot_prod,\n",
    "      'and the component dot product is...', cf_dot_prod,\n",
    "      '',sep=\"\\n\\n\\n\")\n",
    "\n",
    "# print success or dump the fail...\n",
    "assert left_side - right_side < 10 ** -12, 'involution is unable to calculate the dot product correctly'\n",
    "print('Success: the component and component free dot products match')"
   ]
  },
  {
   "cell_type": "markdown",
   "metadata": {},
   "source": [
    "*===end code===*"
   ]
  },
  {
   "cell_type": "markdown",
   "metadata": {},
   "source": [
    "## Octonion Conjugation\n",
    "Like the quaternion, the Octonion conjugate is found by reversing the sign (negating) its imaginary components, while leaving the real component untouched. The Octonions have a second formula which can be used to achieve the same result.\n",
    "\n",
    "given the octonion:\n",
    "\n",
    "$$x = (a,b,c,d,e,f,g,h)$$\n",
    "\n",
    "its conjugate is the negation of its imaginary components:\n",
    "\n",
    "$${\\displaystyle x^{*}=(a,-b,-c,-d,-e,-f,-g,-h)}$$\n",
    "\n",
    "But also, the octonion conjugate is found using this equation:\n",
    "\n",
    "$${\\displaystyle x^{*}=-{\\frac {1}{6}}(x+(ix)\\,i+(jx)\\,j+(kx)\\,k+(lx)\\,l+(mx)\\,m+(nx)\\,n+(ox)\\,o)}$$\n",
    "\n",
    "*where $i,j,k,l,m,n,o$ are the imaginary octonion units*"
   ]
  },
  {
   "cell_type": "code",
   "execution_count": 5,
   "metadata": {
    "collapsed": false
   },
   "outputs": [
    {
     "name": "stdout",
     "output_type": "stream",
     "text": [
      "given a random octonion like...     \n",
      "\n",
      "\n",
      "(0.010214911022070727+0.9783275603660306i+0.689934577581061j+0.18923066357535634k+0.7120648236024338l+0.424338048930605m+0.27974788138120676n+0.4354801719140565o)\n",
      "\n",
      "\n",
      "the calculated conjugate is...      \n",
      "\n",
      "\n",
      "(0.010214911022070727-0.9783275603660306i-0.689934577581061j-0.18923066357535634k-0.7120648236024338l-0.424338048930605m-0.27974788138120676n-0.4354801719140565o)\n",
      "\n",
      "\n",
      "while the conjugate formula gives...\n",
      "\n",
      "\n",
      "(0.010214911022070727-0.9783275603660307i-0.689934577581061j-0.18923066357535634k-0.7120648236024338l-0.424338048930605m-0.2797478813812067n-0.43548017191405647o)\n",
      "\n",
      "\n",
      "\n",
      "Success: octonion conjugates are equal.\n"
     ]
    }
   ],
   "source": [
    "from involution.algebra import Octonion\n",
    "from jupyter_test import unit_list, random_vector\n",
    "\n",
    "# from any random octonion...\n",
    "x = random_vector(Octonion)\n",
    "\n",
    "# calculate the conjugate using involution...\n",
    "calculate = x.conj()\n",
    "\n",
    "# and generate \"one\" and the quaternion imaginary units i,j and k...\n",
    "o,i,j,k,l,m,n,o = unit_list(Octonion)\n",
    "\n",
    "# to find the conjugate using this formula...\n",
    "formula = -1/6*( x + (i*x)*i + (j*x)*j + (k*x)*k + (l*x)*l + (m*x)*m + (n*x)*n + (o*x)*o )\n",
    "\n",
    "# output the results...\n",
    "print('given a random octonion like...     ', x,\n",
    "      'the calculated conjugate is...      ', calculate,\n",
    "      'while the conjugate formula gives...', formula, \n",
    "      '',sep=\"\\n\\n\\n\")\n",
    "\n",
    "# print success or dump the fail...\n",
    "assert calculate == formula, 'involution did not calculate the conjugate and its formula in the same way'\n",
    "print('Success: octonion conjugates are equal.')\n"
   ]
  },
  {
   "cell_type": "markdown",
   "metadata": {},
   "source": [
    "*=== end code ===*"
   ]
  },
  {
   "cell_type": "markdown",
   "metadata": {},
   "source": [
    "## Octonion Conjugate Product"
   ]
  },
  {
   "cell_type": "markdown",
   "metadata": {},
   "source": [
    "Octonion conjugation product is defined here as the product of the Octonion with its conjugate.\n",
    "This product is equal to the square of the absolute magnitude (norm) of the Octonion.\n",
    "It is also equal to the sum of the squares of the coefficients of the Octonion.\n",
    "\n",
    "given the octonion:\n",
    "\n",
    "$$q=a+bi+cj+dk+el+fm+gn+ho$$\n",
    "\n",
    "This equality holds:\n",
    "\n",
    "$$q \\times q^{*}=a^2+b^2+c^2+d^2+e^2+f^2+g^2+h^2$$\n",
    "\n",
    "Which is also:\n",
    "\n",
    "$$|q|^2$$"
   ]
  },
  {
   "cell_type": "code",
   "execution_count": 6,
   "metadata": {
    "collapsed": false
   },
   "outputs": [
    {
     "name": "stdout",
     "output_type": "stream",
     "text": [
      "given a random octonion like...\n",
      "\n",
      "\n",
      "(0.046746403254013136+0.6084415275068837i+0.1893081741339525j+0.4142932025491074k+0.22257176943497292l+0.06893818266653728m+0.3494886600376417n+0.15460112533525971o)\n",
      "\n",
      "\n",
      "the calculated conjugate product is...\n",
      "\n",
      "\n",
      "0.7801972581130379\n",
      "\n",
      "\n",
      "while the conjugate product formula gives...\n",
      "\n",
      "\n",
      "0.780197258113038\n",
      "\n",
      "\n",
      "and the square of its absolute magnitude is...\n",
      "\n",
      "\n",
      "0.780197258113038\n",
      "\n",
      "\n",
      "\n",
      "Success: the conjugate products equal the square of its absolute magnitude.\n"
     ]
    }
   ],
   "source": [
    "from involution.algebra import Octonion\n",
    "from jupyter_test import *\n",
    "\n",
    "# from any random quaternion...\n",
    "o = random_vector(Octonion)\n",
    "\n",
    "# calculate the product of itself with its conjugate...\n",
    "calculate = o * o.conj()\n",
    "\n",
    "# and find the sum of the square of its coefficients...\n",
    "a,b,c,d,e,f,g,h = o[:]\n",
    "formula = a**2 + b**2 + c**2 + d**2 + e**2 + f**2 + g**2 + h**2\n",
    "\n",
    "# equals the square of its absolute value...\n",
    "abs_square = abs(o) ** 2\n",
    "\n",
    "# output the results...\n",
    "print('given a random octonion like...'             , o,\n",
    "      'the calculated conjugate product is...'      , calculate,\n",
    "      'while the conjugate product formula gives...', formula, \n",
    "      'and the square of its absolute magnitude is...', abs_square, \n",
    "      '',sep=\"\\n\\n\\n\")\n",
    "\n",
    "# print success or dump the fail...\n",
    "assert calculate == formula, 'involution did not calculate the conjugate product and its formula in the same way'\n",
    "print('Success: the conjugate products equal the square of its absolute magnitude.')"
   ]
  },
  {
   "cell_type": "markdown",
   "metadata": {},
   "source": [
    "*=== end code ===*"
   ]
  },
  {
   "cell_type": "markdown",
   "metadata": {},
   "source": [
    "## Split Quaternion Complex Generation\n",
    "\n",
    "The split quaternion conjugation product is defined here as the product of the quaternion with its conjugate.\n",
    "This product is equal to the square of the absolute magnitude (norm).\n",
    "It is also equal to the sum of the squares of the coefficients of the split quaternion.\n",
    "\n",
    "given the split quaternion:\n",
    "\n",
    "$$q = a + bi + cj + dk$$\n",
    "\n",
    "This equality holds:\n",
    "\n",
    "$$q \\times q^{*}=a^2+b^2-c^2-d^2$$\n",
    "\n",
    "Which is also:\n",
    "\n",
    "$$|q|^2$$"
   ]
  },
  {
   "cell_type": "code",
   "execution_count": 7,
   "metadata": {
    "collapsed": false
   },
   "outputs": [
    {
     "name": "stdout",
     "output_type": "stream",
     "text": [
      "given a random split quaternion like...\n",
      "\n",
      "\n",
      "(0.5535416499681812+0.9118125113629405i+0.9920509410559084j+0.28742924285742255k)\n",
      "\n",
      "\n",
      "the calculated conjugate product is...\n",
      "\n",
      "\n",
      "0.07102977482798423\n",
      "\n",
      "\n",
      "while the conjugate product formula gives...\n",
      "\n",
      "\n",
      "0.07102977482798431\n",
      "\n",
      "\n",
      "and the square of its absolute magnitude is...\n",
      "\n",
      "\n",
      "0.07102977482798466\n",
      "\n",
      "\n",
      "\n",
      "1st success: split quaterion conjugate product is equat to the sum of the square of its coefficients.\n",
      "\n",
      "2nd success: the conjugate products equal the square of its absolute magnitude.\n",
      "\n"
     ]
    }
   ],
   "source": [
    "from involution.algebra import SplitQuaternion\n",
    "from jupyter_test import *\n",
    "\n",
    "# from any random split quaternion...\n",
    "q = random_vector(SplitQuaternion)\n",
    "\n",
    "# calculate the product of itself with its conjugate...\n",
    "calculate = q * q.conj()\n",
    "\n",
    "# and find the sum of the square of its coefficients...\n",
    "a,b,c,d = q[:]\n",
    "formula = a**2 + b**2 - c**2 - d**2\n",
    "\n",
    "\n",
    "# equals the square of its absolute value...\n",
    "try:\n",
    "    abs_square = abs(q) ** 2\n",
    "except ValueError:\n",
    "    print(\"Some split quaternions do not have an absolute value\")\n",
    "\n",
    "# output the results...\n",
    "print('given a random split quaternion like...'     , q,\n",
    "      'the calculated conjugate product is...'      , calculate,\n",
    "      'while the conjugate product formula gives...', formula, \n",
    "      'and the square of its absolute magnitude is...', abs_square, \n",
    "      '',sep=\"\\n\\n\\n\")\n",
    "\n",
    "# print success or dump the fail...\n",
    "assert calculate == formula, 'involution did not match the '\n",
    "print('1st success: split quaterion conjugate product is equat to the sum of the square of its coefficients.\\n')\n",
    "\n",
    "try:\n",
    "    assert abs(formula - abs_square) < 10**-9, 'involution did not match the conjugate products to square of its absolute value.'\n",
    "    print('2nd success: the conjugate products equal the square of its absolute magnitude.\\n')\n",
    "except AssertionError as e:\n",
    "    print('\\n2nd error: {}\\n'.format(e))\n",
    "    print('This happens when the imaginary products are greater than its real product and so the absolute value is \\\n",
    "          the root of a negative number and is not considered to be the answer.')"
   ]
  },
  {
   "cell_type": "markdown",
   "metadata": {},
   "source": [
    "*=== end code ===*"
   ]
  },
  {
   "cell_type": "markdown",
   "metadata": {},
   "source": [
    "## Split Quaternion Nilpotent\n",
    "\n",
    "A nilpotent is a number that squares to zero.\n",
    "Zero itself is a trivial nilpotent because its square is also 0.\n",
    "\n",
    "Split-quaternions contain nontrivial nilpotent elements.\n",
    "\n",
    "Several split quaternion nilpotents are verified below."
   ]
  },
  {
   "cell_type": "code",
   "execution_count": 8,
   "metadata": {
    "collapsed": false
   },
   "outputs": [
    {
     "name": "stdout",
     "output_type": "stream",
     "text": [
      "confirm the split quaternion (i+k) is a nilpotent\n",
      "\n",
      "Success: (i+k)² = 0\n",
      "\n",
      "\n",
      "confirm the split quaternion (i+j) is a nilpotent\n",
      "\n",
      "Success: (i+j)² = 0\n",
      "\n",
      "\n",
      "confirm the split quaternion (i-k) is a nilpotent\n",
      "\n",
      "Success: (i-k)² = 0\n",
      "\n",
      "\n",
      "confirm the split quaternion (i-j) is a nilpotent\n",
      "\n",
      "Success: (i-j)² = 0\n",
      "\n",
      "\n"
     ]
    }
   ],
   "source": [
    "from involution.algebra import SplitQuaternion\n",
    "from jupyter_test import *\n",
    "\n",
    "zero = SplitQuaternion([0,0,0,0])\n",
    "\n",
    "#Test Split Quaternion nilpotent - a number whose square is zero\n",
    "o,i,j,k = unit_list(SplitQuaternion)\n",
    "for unit in [-k, -j, k, j]:\n",
    "    q = i - unit\n",
    "    calculate = q*q\n",
    "    formula = zero\n",
    "\n",
    "    # output the results...\n",
    "    print('confirm the split quaternion {} is a nilpotent\\n'.format(q))\n",
    "\n",
    "    # print success or dump the fail...\n",
    "    assert calculate == formula, '{} is not a splitquaternion nilpotent element' % q\n",
    "    print('Success: {}² = {}\\n\\n'.format(q,q*q))\n"
   ]
  },
  {
   "cell_type": "markdown",
   "metadata": {},
   "source": [
    "*=== end code ===*"
   ]
  },
  {
   "cell_type": "markdown",
   "metadata": {},
   "source": [
    "## Split Quaternion Idempotent\n",
    "\n",
    "A number that squares to itself is idempotent.\n",
    "\n",
    "One is a trivial idempotent because it squares to itself ($1= 1^2$).\n",
    "\n",
    "The split-quaternions contain nontrivial nilpotent elements.\n",
    "\n",
    "Several split quaternion nilpotents are verified below."
   ]
  },
  {
   "cell_type": "code",
   "execution_count": 9,
   "metadata": {
    "collapsed": false
   },
   "outputs": [
    {
     "name": "stdout",
     "output_type": "stream",
     "text": [
      "verify that split quaternion (0.5+0.5j) is a nilpotent\n",
      "\n",
      "Success: (0.5+0.5j)² = (0.5+0.5j)\n",
      "\n",
      "\n"
     ]
    }
   ],
   "source": [
    "from involution.algebra import SplitQuaternion    \n",
    "\n",
    "zero = SplitQuaternion([0,0,0,0])\n",
    "\n",
    "#Test Split Quaternion nilpotent - a number whose square is zero\n",
    "o,i,j,k = unit_list(SplitQuaternion)\n",
    "\n",
    "q = 1/2*(o+j)\n",
    "square = q*q\n",
    "original = q\n",
    "\n",
    "# output the results...\n",
    "print('verify that split quaternion {} is a nilpotent\\n'.format(q))\n",
    "\n",
    "# print success or dump the fail...\n",
    "assert square == original, '{} is not a splitquaternion nilpotent element' % q\n",
    "print('Success: {}² = {}\\n\\n'.format(q,q*q))"
   ]
  },
  {
   "cell_type": "markdown",
   "metadata": {},
   "source": [
    "*=== end code ===*"
   ]
  },
  {
   "cell_type": "markdown",
   "metadata": {},
   "source": [
    "## Split Octonion Conjugation"
   ]
  },
  {
   "cell_type": "code",
   "execution_count": 10,
   "metadata": {
    "collapsed": false
   },
   "outputs": [
    {
     "name": "stdout",
     "output_type": "stream",
     "text": [
      "100 loops\n",
      " \n",
      "\n",
      "=== Split Octonion Conjugation test\n",
      "\n",
      "Comparing conjugate against this formula:\n",
      "\n",
      "  conjugate(x) = -1/6*( x + (i*x)*i + (j*x)*j + (k*x)*k + (l*x)*l + (m*x)*m + (n*x)*n + (o*x)*o )\n",
      "\n",
      "\n",
      "\n",
      "These should be equal...\n",
      "\n",
      "   calc = (0.18839465803067812-0.35230217786881035i-0.3912817736316967j-0.41967188138890976k-0.25568268713625497l-0.09249816742921646m-0.43476174440154025n-0.10468903958110864o)\n",
      " expect = (0.18839465803067812-0.35230217786881035i-0.3912817736316967j-0.41967188138890976k-0.25568268713625497l-0.09249816742921646m-0.43476174440154025n-0.10468903958110864o)\n",
      "\n",
      "    \n"
     ]
    }
   ],
   "source": [
    "so.test_conjugation()"
   ]
  },
  {
   "cell_type": "markdown",
   "metadata": {},
   "source": []
  },
  {
   "cell_type": "markdown",
   "metadata": {},
   "source": [
    "## Split Octonion Conjugate Product"
   ]
  },
  {
   "cell_type": "code",
   "execution_count": 11,
   "metadata": {
    "collapsed": false
   },
   "outputs": [
    {
     "name": "stdout",
     "output_type": "stream",
     "text": [
      "100 loops\n",
      "\n",
      "\n",
      "These should be equal...\n",
      "\n",
      "   calc = (-1.4203491421867778)\n",
      " expect = -1.4203491421867778\n",
      "\n",
      "    \n"
     ]
    }
   ],
   "source": [
    "so.test_conjugate_product()"
   ]
  },
  {
   "cell_type": "markdown",
   "metadata": {},
   "source": []
  },
  {
   "cell_type": "markdown",
   "metadata": {},
   "source": [
    "## Complex Commutative property"
   ]
  },
  {
   "cell_type": "code",
   "execution_count": 12,
   "metadata": {
    "collapsed": false
   },
   "outputs": [
    {
     "name": "stdout",
     "output_type": "stream",
     "text": [
      "5000 loops\n",
      "\n",
      "\n",
      "=== Complex Commutative Property test\n",
      "\n",
      "These should be equal...\n",
      "\n",
      "     x × y = (0.08016347001862212+0.9647877143654383i)\n",
      "     y × x = (0.08016347001862212+0.9647877143654383i)\n",
      "\n"
     ]
    }
   ],
   "source": [
    "cm.test_complex()"
   ]
  },
  {
   "cell_type": "markdown",
   "metadata": {},
   "source": []
  },
  {
   "cell_type": "markdown",
   "metadata": {},
   "source": [
    "## Quaternion Commutative property"
   ]
  },
  {
   "cell_type": "code",
   "execution_count": 13,
   "metadata": {
    "collapsed": false
   },
   "outputs": [
    {
     "name": "stdout",
     "output_type": "stream",
     "text": [
      "1000 loops\n",
      "\n",
      "\n",
      "=== Quaternion Commutative Property test\n",
      "\n",
      "These should NOT be equal...\n",
      "\n",
      "     x × y = (-0.8823228707840447+0.4269327711901626i+0.2079894016974512j+0.7086886566516655k)\n",
      "     y × x = (-0.8823228707840447-0.005310345267325239i+0.8530320198453952j-0.00888638019356991k)\n",
      "\n"
     ]
    }
   ],
   "source": [
    "cm.test_quaternion()"
   ]
  },
  {
   "cell_type": "markdown",
   "metadata": {},
   "source": []
  },
  {
   "cell_type": "markdown",
   "metadata": {},
   "source": [
    "## Octontion Commutative property"
   ]
  },
  {
   "cell_type": "code",
   "execution_count": 14,
   "metadata": {
    "collapsed": false
   },
   "outputs": [
    {
     "name": "stdout",
     "output_type": "stream",
     "text": [
      "300 loops\n",
      "\n",
      "\n",
      "=== Octonion Commutative Property test\n",
      "\n",
      "These should NOT be equal...\n",
      "\n",
      "     x × y = (-1.8865718601943526-0.37944613625520174i+0.888312265088579j+0.3234226049909357k+0.03947950186974425l-0.37974990000096454m-0.11293537359739095n+1.7801262783805274o)\n",
      "     y × x = (-1.8865718601943526+0.7441564466606643i-0.370711784432582j+0.8465856436397772k+0.6720903680303043l+1.0405743419739948m+0.9608648974987825n-0.7066737180581876o)\n",
      "\n"
     ]
    }
   ],
   "source": [
    "cm.test_octonion()"
   ]
  },
  {
   "cell_type": "markdown",
   "metadata": {},
   "source": []
  },
  {
   "cell_type": "markdown",
   "metadata": {},
   "source": [
    "## Non-commutative Sedenion"
   ]
  },
  {
   "cell_type": "code",
   "execution_count": 15,
   "metadata": {
    "collapsed": false
   },
   "outputs": [
    {
     "name": "stdout",
     "output_type": "stream",
     "text": [
      "100 loops\n",
      "\n",
      "\n",
      "=== Sedenion Commutative Property test\n",
      "\n",
      "These should NOT be equal...\n",
      "\n",
      "     x × y = (-3.919862233300465+0.6623235778696253i+0.5367688879951533j+0.25330534757034917k+1.2329821988358498l+0.8598427703743063m-1.818265243112673n-0.4785973131834647o+0.8462653661682524p+0.10169982303337077q-0.06385981914500555r-0.12092042222013877s-0.7408099842700892t+0.4954223549002398u+1.7335594414211344v+0.9914469816996105w)\n",
      "     y × x = (-3.919862233300465+0.10833698782441237i-0.09698974172522307j+0.7240173905878178k-0.007006412506270765l+0.4003908321562772m+1.993521918102446n+1.6765631589735415o+0.6056446559246123p+1.2184921156877264q+0.4585482021679588r+0.9057455040990148s+1.1824276722431142t+0.12525284671922576u-0.564571915254108v-0.08880334172839621w)\n",
      "\n"
     ]
    }
   ],
   "source": [
    "cm.test_sedenion()"
   ]
  },
  {
   "cell_type": "markdown",
   "metadata": {},
   "source": []
  },
  {
   "cell_type": "markdown",
   "metadata": {},
   "source": [
    "## Non-Commutative in 32 dimensions"
   ]
  },
  {
   "cell_type": "code",
   "execution_count": 16,
   "metadata": {
    "collapsed": false
   },
   "outputs": [
    {
     "name": "stdout",
     "output_type": "stream",
     "text": [
      "50 loops\n",
      "\n",
      "\n",
      "=== Cd32 Commutative Property test\n",
      "\n",
      "These should NOT be equal...\n",
      "\n",
      "     x × y = (-6.311496973660446-0.3164668701854095b-0.016927989431449186c-1.2640247872224033d+2.498007974041106e-0.565877289397706f+2.3339740226515566g+0.773590394784715h+0.49348763876041435i+0.5202422744548769j+0.5421480736680786k+3.5050655598234597l+0.9134465216396954m+1.0730638408190942n+0.05001777176096134o+0.3323360344817535p+1.7372470676516767q+0.008816416341391131r+0.132340860067783s+0.4566056796178555t+0.832030430424841u+0.9750614953435597v+0.5338952780210514w+1.3033210794356471x-2.2198992908921813y+0.8833291739328522z+0.471842454372303A+0.17872246573135242B-1.2152437883536011C-0.7982623725875532D+2.434327307406928E+0.8438902351070776F)\n",
      "     y × x = (-6.311496973660446+1.551766978783542b+0.4324215434282419c+2.604557958389007d-0.9589169928678801e+1.5851875617651463f-1.2064916415195257g+0.6242132884412688h+1.5028706693167382i+0.658109488744334j+0.7276695542939309k-1.697286631164301l+0.6313283305198262m+0.3804613663017025n+1.349141515849998o+1.3938613228305168p-0.18318648988498776q+0.7600195943789986r+0.8077445183836883s+1.0490784094432015t+0.4691384988835592u+0.4065851556964064v+1.110752408856w+0.35382925606362403x+3.3344041496297554y-0.5184549990065916z+0.8651852291912818A+1.5857312729490256B+1.625160733280141C+1.349020823392789D-0.5474327106748127E+1.5806388986970779F)\n",
      "\n"
     ]
    }
   ],
   "source": [
    "cm.test_cd32()"
   ]
  },
  {
   "cell_type": "markdown",
   "metadata": {},
   "source": []
  },
  {
   "cell_type": "markdown",
   "metadata": {},
   "source": [
    "## Weak Alternative"
   ]
  },
  {
   "cell_type": "code",
   "execution_count": 17,
   "metadata": {
    "collapsed": false
   },
   "outputs": [
    {
     "name": "stdout",
     "output_type": "stream",
     "text": [
      "1000 loops\n",
      "\n",
      "\n",
      "=== Complex weak alternative condition test\n",
      "\n",
      "Given:\n",
      "\n",
      "           x  = (0.8764371276781376+0.8764406314600443i)\n",
      "           y  = (0.06609157235496588+0.22735149805342203i)\n",
      "\n",
      "These should be equal...\n",
      "\n",
      " (y × x) × x  = (-0.3492782887024867+0.10153443985775527i)\n",
      " y ×(x  × x)  = (-0.3492782887024867+0.10153443985775529i)\n",
      "\n",
      "These should be equal...\n",
      "\n",
      " (x × y) × x  = (-0.3492782887024867+0.10153443985775527i)\n",
      "  x ×(y  × x  = (-0.3492782887024867+0.10153443985775527i)\n",
      "\n",
      "These should be equal...\n",
      "\n",
      " (x × x) × y  = (-0.3492782887024867+0.10153443985775529i)\n",
      "  x ×(x  × y) = (-0.3492782887024867+0.10153443985775527i)\n",
      "\n",
      "These should be equal...\n",
      "\n",
      " (x × y) × y  = (-0.06781236289931784-0.0151349832366547i)\n",
      "  x ×(y  × y) = (-0.06781236289931784-0.015134983236654707i)\n",
      "\n",
      "These should be equal...\n",
      "\n",
      " (y × x) × y  = (-0.06781236289931784-0.0151349832366547i)\n",
      "  y ×(x  × y) = (-0.06781236289931784-0.0151349832366547i)\n",
      "\n",
      "These should be equal...\n",
      "\n",
      " (y × y) × x  = (-0.06781236289931784-0.015134983236654707i)\n",
      "  y ×(y  × x) = (-0.06781236289931784-0.0151349832366547i)\n",
      "\n"
     ]
    }
   ],
   "source": [
    "wa.test_complex()"
   ]
  },
  {
   "cell_type": "markdown",
   "metadata": {},
   "source": []
  },
  {
   "cell_type": "markdown",
   "metadata": {},
   "source": [
    "## Diophantus Identity"
   ]
  },
  {
   "cell_type": "code",
   "execution_count": 18,
   "metadata": {
    "collapsed": false
   },
   "outputs": [
    {
     "name": "stdout",
     "output_type": "stream",
     "text": [
      "20000 loops\n",
      "\n",
      "\n",
      "=== Diophantus (Brahmagupta-Fibonacci) Identity test\n",
      "\n",
      "Given:\n",
      "\n",
      "             x = (0.39332225978033497+0.00646952747897489i)\n",
      "             y = (0.1411603178580454+0.70240175968145i)\n",
      "\n",
      "Having absolute values\n",
      "\n",
      "        abs(x) = 0.3933754629161693\n",
      "        abs(y) = 0.7164457183495354\n",
      "\n",
      "These should be equal...\n",
      "\n",
      " abs(x)×abs(y) = 0.28183216611005596\n",
      "      abs(x×y) = 0.28183216611005596\n",
      "\n",
      "\n"
     ]
    }
   ],
   "source": [
    "di.test_complex()"
   ]
  },
  {
   "cell_type": "markdown",
   "metadata": {},
   "source": []
  },
  {
   "cell_type": "markdown",
   "metadata": {},
   "source": [
    "## Moufang Condition"
   ]
  },
  {
   "cell_type": "code",
   "execution_count": 19,
   "metadata": {
    "collapsed": false
   },
   "outputs": [
    {
     "name": "stdout",
     "output_type": "stream",
     "text": [
      "500 loops\n",
      "\n",
      "\n",
      "=== Complex Moufang Condition test\n",
      "\n",
      "Given:\n",
      "\n",
      "       x = (0.5188528261345577+0.9563470457476473i)\n",
      "       y = (0.0054265261855602764+0.49920890570190735i)\n",
      "       z = (0.34709232787846045+0.7114977233002724i)\n",
      "\n",
      "These should be equal...\n",
      "\n",
      "  z × (x × (z × y)) = (0.05258630343067805-0.336329628622298i)\n",
      " ((z  × x) × z) × y = (0.05258630343067802-0.3363296286222979i)\n",
      "\n",
      "These should be equal...\n",
      "\n",
      " x × (z × (y × z )) = (0.05258630343067802-0.336329628622298i)\n",
      " (( x × z) × y) × z = (0.05258630343067802-0.3363296286222979i)\n",
      "\n",
      "These should be equal...\n",
      "\n",
      " (z × x) × (y × z ) = (0.05258630343067801-0.3363296286222979i)\n",
      "   (z × (x × y))× z = (0.052586303430678036-0.336329628622298i)\n",
      "\n",
      "These should be equal...\n",
      "\n",
      " (z × x) × (y × z ) = (0.05258630343067801-0.3363296286222979i)\n",
      "  z ×((x × y) × z ) = (0.052586303430678036-0.336329628622298i)\n",
      "\n"
     ]
    }
   ],
   "source": [
    "mc.test_complex()"
   ]
  },
  {
   "cell_type": "markdown",
   "metadata": {},
   "source": []
  },
  {
   "cell_type": "markdown",
   "metadata": {},
   "source": [
    "## Power Associative"
   ]
  },
  {
   "cell_type": "code",
   "execution_count": 20,
   "metadata": {
    "collapsed": false
   },
   "outputs": [
    {
     "name": "stdout",
     "output_type": "stream",
     "text": [
      "8000 loops\n",
      "\n",
      "       x: 'Complex'([0.898152957770594,0.43968314096396016], dp='3', ii='-')\n",
      "       y: 'Complex'([0.15399237649143624,0.9880720358265989], dp='3', ii='-')\n",
      "   x × y: 'Complex'([-0.29612990779098725,0.9551476732483315], dp='3', ii='-')\n",
      "\n",
      "\n",
      "\n",
      "=== Power Associative tests\n",
      "\n",
      "Given random unit vectors...\n",
      "\n",
      "             x = (0.898152957770594+0.43968314096396016i)\n",
      "             y = (0.15399237649143624+0.9880720358265989i)\n",
      "         x × y = (-0.29612990779098725+0.9551476732483315i)\n",
      "\n",
      "Having a magnitude (abs) of 1...\n",
      "\n",
      "        abs(x) = 1.0\n",
      "        abs(y) = 0.9999999999999999\n",
      "\n",
      "Produce a product of magnitude 1...\n",
      "\n",
      "    abs(x × y) = 1.0\n",
      "\n",
      "They should be in the same spot...\n",
      "\n",
      " distance to 1 = 0.0\n",
      "\n"
     ]
    }
   ],
   "source": [
    "pa.test_complex()"
   ]
  },
  {
   "cell_type": "markdown",
   "metadata": {},
   "source": []
  },
  {
   "cell_type": "markdown",
   "metadata": {},
   "source": [
    "## Two Square Identity"
   ]
  },
  {
   "cell_type": "code",
   "execution_count": 21,
   "metadata": {
    "collapsed": false
   },
   "outputs": [
    {
     "name": "stdout",
     "output_type": "stream",
     "text": [
      "\n",
      "\n",
      "=== Brahmagupta-Fibonacci's Two square identity test\n",
      "\n",
      "Given:\n",
      "\n",
      "       x: (0.678763409510561+0.5619041916509139i)\n",
      "\n",
      "       y: (0.508280831087283+0.39195061015668475i)\n",
      "\n",
      "These should be the same...\n",
      "\n",
      "Brahmagupta-Fibonacci's Two identity test product is:\n",
      "\n",
      "   formula(x × y):\n",
      "\n",
      "      (0.1247637391304913+0.5516468620334505i)\n",
      "\n",
      "The involution product is:\n",
      "\n",
      "   code(x × y):\n",
      "\n",
      "      (0.1247637391304913+0.5516468620334505i)\n",
      "            \n"
     ]
    }
   ],
   "source": [
    "TwoSquareIdentity().test_two_square_identity()"
   ]
  },
  {
   "cell_type": "markdown",
   "metadata": {},
   "source": []
  },
  {
   "cell_type": "markdown",
   "metadata": {},
   "source": [
    "## Four Square Identity"
   ]
  },
  {
   "cell_type": "code",
   "execution_count": 22,
   "metadata": {
    "collapsed": false
   },
   "outputs": [
    {
     "name": "stdout",
     "output_type": "stream",
     "text": [
      "\n",
      "\n",
      "=== Euler's Four square identity test\n",
      "\n",
      "Given:\n",
      "\n",
      "       x: (0.4997129483718339+0.46029542612104346i+0.5684185231259197j+0.7718935582077266k)\n",
      "\n",
      "       y: (0.4387560109059765+0.006942288952032638i+0.8060651798495201j+0.9997970669393638k)\n",
      "\n",
      "These should be the same...\n",
      "\n",
      "Euler's Four identity test product is:\n",
      "\n",
      "   formula(x × y):\n",
      "\n",
      "      (-1.0138627385845085+0.1515331890777072i+0.19735494249413807j+1.205366468343966k)\n",
      "\n",
      "The involution product is:\n",
      "\n",
      "   code(x × y):\n",
      "\n",
      "      (-1.0138627385845085+0.15153318907770721i+0.1973549424941381j+1.2053664683439662k)\n",
      "            \n"
     ]
    }
   ],
   "source": [
    "FourSquareIdentity().test_four_square_identity()"
   ]
  },
  {
   "cell_type": "markdown",
   "metadata": {},
   "source": []
  },
  {
   "cell_type": "markdown",
   "metadata": {},
   "source": [
    "## Eight Square Identity"
   ]
  },
  {
   "cell_type": "code",
   "execution_count": 23,
   "metadata": {
    "collapsed": false
   },
   "outputs": [
    {
     "name": "stdout",
     "output_type": "stream",
     "text": [
      "\n",
      "\n",
      "=== Degen's Eight square identity test\n",
      "\n",
      "Given:\n",
      "\n",
      "       x: (0.2073181075735563+0.9468633977996317i+0.14600084249648038j+0.15746600411417178k+0.9883135197534711l+0.32565237569736805m+0.7280170324047046n+0.019727402834601948o)\n",
      "\n",
      "       y: (0.5577034906663629+0.5726426301221832i+0.31427043016795153j+0.8567781263313128k+0.9698809387997346l+0.5488981729500045m+0.3134744550457582n+0.5846231564263235o)\n",
      "\n",
      "These should be the same...\n",
      "\n",
      "Degen's Eight identity test product is:\n",
      "\n",
      "   formula(x × y):\n",
      "\n",
      "      (-1.9844337671667962+0.5295995028243039i-0.7912241871852677j+1.335591076239839k+0.5268810507708844l-0.005734928166463455m+1.0368528370285346n-0.46396433784455005o)\n",
      "\n",
      "The involution product is:\n",
      "\n",
      "   code(x × y):\n",
      "\n",
      "      (-1.9844337671667964+0.5295995028243039i-0.7912241871852677j+1.335591076239839k+0.5268810507708844l-0.005734928166463371m+1.0368528370285346n-0.46396433784455005o)\n",
      "            \n"
     ]
    }
   ],
   "source": [
    "EightSquareIdentity().test_eight_square_identity()"
   ]
  },
  {
   "cell_type": "markdown",
   "metadata": {},
   "source": []
  },
  {
   "cell_type": "markdown",
   "metadata": {},
   "source": [
    "## Sixteen Square Identity"
   ]
  },
  {
   "cell_type": "code",
   "execution_count": 24,
   "metadata": {
    "collapsed": false
   },
   "outputs": [
    {
     "name": "stdout",
     "output_type": "stream",
     "text": [
      "\n",
      "\n",
      "=== Pfister's Sixteen square identity test\n",
      "\n",
      "Given:\n",
      "\n",
      "       x: (0.663680461901646+0.5335353010540337i+0.09759706054815132j+0.7211788588758791k+0.6310346657751549l+0.3382858223104491m+0.11821180051346358n+0.7715365007039131o+0.2026341154854464p+0.11160779386919151q+0.5232098023068588r+0.5939911466968133s+0.7482444168306004t+0.47692250235673594u+0.2624822763057387v+0.7023963162253754w)\n",
      "\n",
      "       y: (0.7617742955323431+0.6745513640314045i+0.49146416764278356j+0.11601055885829081k+0.9418228085802378l+0.26277207715775686m+0.05225328544958552n+0.9055328853666557o+0.7451251570596574p+0.8226007456159492q+0.22304993733294953r+0.0074148445566581955s+0.9635500036221221t+0.6243196407615896u+0.7440069852650999v+0.9118558520800899w)\n",
      "\n",
      "These should be the same...\n",
      "\n",
      "Pfister's Sixteen identity test product is:\n",
      "\n",
      "   formula(x × y):\n",
      "\n",
      "      (-3.5923941389966805+0.21278098733104533i-0.28226999377611245j+0.8307740647236816k+0.8654464048731285l+0.9832433001473724m+0.1802118887587801n+0.44744267675695315o+0.45329847244855337p+1.2024842969970064q-0.6788387985701455r+1.5164352533334822s+2.3041461580175313t+0.8903023951145805u+1.7622975380346177v+0.6087199836658336w)\n",
      "\n",
      "The involution product is:\n",
      "\n",
      "   code(x × y):\n",
      "\n",
      "      (-3.5923941389966805+0.21278098733104542i-0.2822699937761125j+0.8307740647236814k+0.8654464048731285l+0.9832433001473719m+0.18021188875878008n+0.44744267675695326o+0.45329847244855337p+1.2024842969970067q-0.6788387985701455r+1.5164352533334826s+2.3041461580175318t+0.8903023951145806u+1.762297538034618v+0.6087199836658337w)\n",
      "            \n"
     ]
    }
   ],
   "source": [
    "SixteenSquareIdentity().test_sixteen_square_identity()"
   ]
  }
 ],
 "metadata": {
  "kernelspec": {
   "display_name": "Python 3",
   "language": "python",
   "name": "python3"
  },
  "language_info": {
   "codemirror_mode": {
    "name": "ipython",
    "version": 3
   },
   "file_extension": ".py",
   "mimetype": "text/x-python",
   "name": "python",
   "nbconvert_exporter": "python",
   "pygments_lexer": "ipython3",
   "version": "3.5.3"
  }
 },
 "nbformat": 4,
 "nbformat_minor": 2
}
