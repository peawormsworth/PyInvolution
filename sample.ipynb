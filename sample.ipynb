{
 "cells": [
  {
   "cell_type": "markdown",
   "metadata": {},
   "source": [
    "# Hypercomplex Computations\n",
    "\n",
    "### Standard mathematical operations using the involution\n",
    "\n",
    "Jeffrey B Anderson - <truejeffanderson@gmail.com>\n",
    "\n",
    "involution source: https://github.com/peawormsworth/PyInvolution"
   ]
  },
  {
   "cell_type": "markdown",
   "metadata": {},
   "source": [
    "Add, subtract, divide and multiply using Cayley-Dickson algebraic constructions with the involution module."
   ]
  },
  {
   "cell_type": "code",
   "execution_count": 2,
   "metadata": {
    "collapsed": false,
    "slideshow": {
     "slide_type": "-"
    }
   },
   "outputs": [],
   "source": [
    "from involution.algebra import *\n",
    "from jupyter_test import random_int_vector,print_multiply"
   ]
  },
  {
   "cell_type": "markdown",
   "metadata": {},
   "source": [
    "### basic hypercomplex math"
   ]
  },
  {
   "cell_type": "markdown",
   "metadata": {},
   "source": [
    "multiplication works as expected..."
   ]
  },
  {
   "cell_type": "code",
   "execution_count": 3,
   "metadata": {
    "collapsed": false,
    "slideshow": {
     "slide_type": "-"
    }
   },
   "outputs": [
    {
     "name": "stdout",
     "output_type": "stream",
     "text": [
      "\n",
      "    a = 0\n",
      "    b = 0\n",
      "a × b = 0\n",
      "\n",
      "\n",
      "    a = 0\n",
      "    b = 0\n",
      "a × b = 0\n",
      "\n",
      "\n",
      "    a = 0\n",
      "    b = 0\n",
      "a + b = 0\n",
      "\n"
     ]
    }
   ],
   "source": [
    "# multiply two complex values...\n",
    "a = random_int_vector(Complex)\n",
    "b = random_int_vector(Complex)\n",
    "print_multiply(a,b,'×',a*b)\n",
    "\n",
    "# multiply two quaternions...\n",
    "q = random_int_vector(Quaternion)\n",
    "r = random_int_vector(Quaternion)\n",
    "print_multiply(q,r,'×',q*r)\n",
    "\n",
    "# add some Octonions...\n",
    "o1 = random_int_vector(Octonion)\n",
    "o2 = random_int_vector(Octonion)\n",
    "print_multiply(o1,o2,'+',o1+o2)"
   ]
  },
  {
   "cell_type": "markdown",
   "metadata": {},
   "source": [
    "multiply 4 dimensional Quaternions..."
   ]
  },
  {
   "cell_type": "markdown",
   "metadata": {},
   "source": [
    "### full format Octonion example\n",
    "notice that the ii and dp values are automatically set for us..."
   ]
  },
  {
   "cell_type": "code",
   "execution_count": null,
   "metadata": {
    "collapsed": false
   },
   "outputs": [],
   "source": [
    "z = Octonion([1,2,3,4,5,6,7,8])\n",
    "print(\"%r\" % z)"
   ]
  }
 ],
 "metadata": {
  "kernelspec": {
   "display_name": "Python 3",
   "language": "python",
   "name": "python3"
  },
  "language_info": {
   "codemirror_mode": {
    "name": "ipython",
    "version": 3
   },
   "file_extension": ".py",
   "mimetype": "text/x-python",
   "name": "python",
   "nbconvert_exporter": "python",
   "pygments_lexer": "ipython3",
   "version": "3.5.3"
  }
 },
 "nbformat": 4,
 "nbformat_minor": 2
}
