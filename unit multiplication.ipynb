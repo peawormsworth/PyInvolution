{
 "cells": [
  {
   "cell_type": "markdown",
   "metadata": {},
   "source": [
    "# Hypercomplex Multiplication Tables\n",
    "\n",
    "### Multiplication Tables for Quaternions, Octonions, Sedenions and Beyond\n",
    "\n",
    "Jeffrey B Anderson - <truejeffanderson@gmail.com>\n",
    "\n",
    "involution source: https://github.com/peawormsworth/PyInvolution"
   ]
  },
  {
   "cell_type": "markdown",
   "metadata": {},
   "source": [
    "Unit multiplication tables over a range of Cayley-Dickson algebraic constructions using the involution python package."
   ]
  },
  {
   "cell_type": "code",
   "execution_count": 1,
   "metadata": {
    "collapsed": true,
    "slideshow": {
     "slide_type": "-"
    }
   },
   "outputs": [],
   "source": [
    "from involution.algebra import *"
   ]
  },
  {
   "cell_type": "markdown",
   "metadata": {},
   "source": [
    "### multiplication tables\n",
    "from the imaginary values of an Algebra, record their products into a table..."
   ]
  },
  {
   "cell_type": "code",
   "execution_count": 2,
   "metadata": {
    "collapsed": false
   },
   "outputs": [],
   "source": [
    "import pandas as pd\n",
    "imaginaries = '1ijklmnopqrstuvwxyzabcdefgABCDEFGHIJKLMNOPQRSTUVWXYZ0123456789@&'\n",
    "\n",
    "def generate_str (obj):\n",
    "    \"\"\"create a multiplication table for a given Algebra object and return the elements in string format\"\"\"\n",
    "    d = obj.dim(obj)\n",
    "    units = [ obj( ( [0]*i + [1] + [0]*(d-i-1) )) for i in range(d) ]\n",
    "    return [ [str(j*i) for i in units] for j in units]\n",
    "\n",
    "def _template ():\n",
    "   return \"\"\"\n",
    "\n",
    "=== {object} multiplication table ===\n",
    "\n",
    "{calculated_table}\n",
    "\n",
    "\"\"\"\n",
    "\n",
    "def print_multiplication_table(*o):\n",
    "    for obj in o:\n",
    "        n = obj.dim(obj)\n",
    "        il = list(imaginaries[:n])\n",
    "        calc = generate_str(obj)\n",
    "        print(_template().format(\n",
    "          object = obj.__name__,\n",
    "            calculated_table = pd.DataFrame(calc, index=il, columns=il)\n",
    "        ))"
   ]
  },
  {
   "cell_type": "markdown",
   "metadata": {},
   "source": [
    "### multiplication table array\n",
    "create an array for the multiplation table using: *generate_str(Object)*"
   ]
  },
  {
   "cell_type": "code",
   "execution_count": 3,
   "metadata": {
    "collapsed": false
   },
   "outputs": [
    {
     "data": {
      "text/plain": [
       "[['1', 'i', 'j', 'k'],\n",
       " ['i', '-1', 'k', '-j'],\n",
       " ['j', '-k', '-1', 'i'],\n",
       " ['k', 'j', '-i', '-1']]"
      ]
     },
     "execution_count": 3,
     "metadata": {},
     "output_type": "execute_result"
    }
   ],
   "source": [
    "generate_str(Quaternion)"
   ]
  },
  {
   "cell_type": "markdown",
   "metadata": {},
   "source": [
    "### common algebras\n",
    "Display multiplication tables for more common algebras: Complex, Quaternion, Octonion and Sedenion algebras..."
   ]
  },
  {
   "cell_type": "code",
   "execution_count": 4,
   "metadata": {
    "collapsed": false
   },
   "outputs": [
    {
     "name": "stdout",
     "output_type": "stream",
     "text": [
      "\n",
      "\n",
      "=== Complex multiplication table ===\n",
      "\n",
      "   1   i\n",
      "1  1   i\n",
      "i  i  -1\n",
      "\n",
      "\n",
      "\n",
      "\n",
      "=== Quaternion multiplication table ===\n",
      "\n",
      "   1   i   j   k\n",
      "1  1   i   j   k\n",
      "i  i  -1   k  -j\n",
      "j  j  -k  -1   i\n",
      "k  k   j  -i  -1\n",
      "\n",
      "\n",
      "\n",
      "\n",
      "=== Octonion multiplication table ===\n",
      "\n",
      "   1   i   j   k   l   m   n   o\n",
      "1  1   i   j   k   l   m   n   o\n",
      "i  i  -1   k  -j   m  -l  -o   n\n",
      "j  j  -k  -1   i   n   o  -l  -m\n",
      "k  k   j  -i  -1   o  -n   m  -l\n",
      "l  l  -m  -n  -o  -1   i   j   k\n",
      "m  m   l  -o   n  -i  -1  -k   j\n",
      "n  n   o   l  -m  -j   k  -1  -i\n",
      "o  o  -n   m   l  -k  -j   i  -1\n",
      "\n",
      "\n",
      "\n",
      "\n",
      "=== Sedenion multiplication table ===\n",
      "\n",
      "   1   i   j   k   l   m   n   o   p   q   r   s   t   u   v   w\n",
      "1  1   i   j   k   l   m   n   o   p   q   r   s   t   u   v   w\n",
      "i  i  -1   k  -j   m  -l  -o   n   q  -p  -s   r  -u   t   w  -v\n",
      "j  j  -k  -1   i   n   o  -l  -m   r   s  -p  -q  -v  -w   t   u\n",
      "k  k   j  -i  -1   o  -n   m  -l   s  -r   q  -p  -w   v  -u   t\n",
      "l  l  -m  -n  -o  -1   i   j   k   t   u   v   w  -p  -q  -r  -s\n",
      "m  m   l  -o   n  -i  -1  -k   j   u  -t   w  -v   q  -p   s  -r\n",
      "n  n   o   l  -m  -j   k  -1  -i   v  -w  -t   u   r  -s  -p   q\n",
      "o  o  -n   m   l  -k  -j   i  -1   w   v  -u  -t   s   r  -q  -p\n",
      "p  p  -q  -r  -s  -t  -u  -v  -w  -1   i   j   k   l   m   n   o\n",
      "q  q   p  -s   r  -u   t   w  -v  -i  -1  -k   j  -m   l   o  -n\n",
      "r  r   s   p  -q  -v  -w   t   u  -j   k  -1  -i  -n  -o   l   m\n",
      "s  s  -r   q   p  -w   v  -u   t  -k  -j   i  -1  -o   n  -m   l\n",
      "t  t   u   v   w   p  -q  -r  -s  -l   m   n   o  -1  -i  -j  -k\n",
      "u  u  -t   w  -v   q   p   s  -r  -m  -l   o  -n   i  -1   k  -j\n",
      "v  v  -w  -t   u   r  -s   p   q  -n  -o  -l   m   j  -k  -1   i\n",
      "w  w   v  -u  -t   s   r  -q   p  -o   n  -m  -l   k   j  -i  -1\n",
      "\n",
      "\n"
     ]
    }
   ],
   "source": [
    "print_multiplication_table(Complex,Quaternion,Octonion,Sedenion)"
   ]
  },
  {
   "cell_type": "markdown",
   "metadata": {},
   "source": [
    "### uncommon algebras\n",
    "Display multiplication tables for some less common algebras..."
   ]
  },
  {
   "cell_type": "code",
   "execution_count": 5,
   "metadata": {
    "collapsed": false
   },
   "outputs": [
    {
     "name": "stdout",
     "output_type": "stream",
     "text": [
      "\n",
      "\n",
      "=== Dual multiplication table ===\n",
      "\n",
      "   1  i\n",
      "1  1  i\n",
      "i  i  0\n",
      "\n",
      "\n",
      "\n",
      "\n",
      "=== Split multiplication table ===\n",
      "\n",
      "   1  i\n",
      "1  1  i\n",
      "i  i  1\n",
      "\n",
      "\n",
      "\n",
      "\n",
      "=== SplitQuaternion multiplication table ===\n",
      "\n",
      "   1   i  j   k\n",
      "1  1   i  j   k\n",
      "i  i  -1  k  -j\n",
      "j  j  -k  1  -i\n",
      "k  k   j  i   1\n",
      "\n",
      "\n",
      "\n",
      "\n",
      "=== SplitOctonion multiplication table ===\n",
      "\n",
      "   1   i   j   k   l   m   n   o\n",
      "1  1   i   j   k   l   m   n   o\n",
      "i  i  -1   k  -j  -m   l  -o   n\n",
      "j  j  -k  -1   i  -n   o   l  -m\n",
      "k  k   j  -i  -1  -o  -n   m   l\n",
      "l  l   m   n   o   1   i   j   k\n",
      "m  m  -l  -o   n  -i   1   k  -j\n",
      "n  n   o  -l  -m  -j  -k   1   i\n",
      "o  o  -n   m  -l  -k   j  -i   1\n",
      "\n",
      "\n",
      "\n",
      "\n",
      "=== DualComplex multiplication table ===\n",
      "\n",
      "   1   i  j   k\n",
      "1  1   i  j   k\n",
      "i  i  -1  k  -j\n",
      "j  j  -k  0   0\n",
      "k  k   j  0   0\n",
      "\n",
      "\n",
      "\n",
      "\n",
      "=== HyperbolicQuaternion multiplication table ===\n",
      "\n",
      "   1   i  j   k\n",
      "1  1   i  j   k\n",
      "i  i   1  k   j\n",
      "j  j  -k  1  -i\n",
      "k  k  -j  i  -1\n",
      "\n",
      "\n",
      "\n",
      "\n",
      "=== DualQuaternion multiplication table ===\n",
      "\n",
      "   1   i   j   k  l   m   n   o\n",
      "1  1   i   j   k  l   m   n   o\n",
      "i  i  -1   k  -j  m  -l   o  -n\n",
      "j  j  -k  -1   i  n  -o  -l   m\n",
      "k  k   j  -i  -1  o   n  -m  -l\n",
      "l  l  -m  -n  -o  0   0   0   0\n",
      "m  m   l   o  -n  0   0   0   0\n",
      "n  n  -o   l   m  0   0   0   0\n",
      "o  o   n  -m   l  0   0   0   0\n",
      "\n",
      "\n"
     ]
    }
   ],
   "source": [
    "print_multiplication_table(Dual,Split,SplitQuaternion,SplitOctonion,DualComplex,HyperbolicQuaternion,DualQuaternion)"
   ]
  },
  {
   "cell_type": "markdown",
   "metadata": {},
   "source": [
    "### 32 dimensional table\n",
    "\n",
    "Cd32 is the construction after the Sedenions and has 32 dimensions\n",
    "\n",
    "*Warning: it takes a minute to produce the results.*"
   ]
  },
  {
   "cell_type": "code",
   "execution_count": 6,
   "metadata": {
    "collapsed": false
   },
   "outputs": [
    {
     "name": "stdout",
     "output_type": "stream",
     "text": [
      "\n",
      "\n",
      "=== Cd32 multiplication table ===\n",
      "\n",
      "   1   i   j   k   l   m   n   o   p   q  ...   d   e   f   g   A   B   C   D  \\\n",
      "1  1   b   c   d   e   f   g   h   i   j  ...   w   x   y   z   A   B   C   D   \n",
      "i  b  -1   d  -c   f  -e  -h   g   j  -i  ...   x  -w  -z   y   B  -A   D  -C   \n",
      "j  c  -d  -1   b   g   h  -e  -f   k   l  ...   u   v  -A  -B   y   z   E   F   \n",
      "k  d   c  -b  -1   h  -g   f  -e   l  -k  ...  -v   u  -B   A  -z   y   F  -E   \n",
      "l  e  -f  -g  -h  -1   b   c   d   m   n  ...  -s  -t  -C  -D  -E  -F   y   z   \n",
      "m  f   e  -h   g  -b  -1  -d   c   n  -m  ...   t  -s  -D   C  -F   E  -z   y   \n",
      "n  g   h   e  -f  -c   d  -1  -b   o  -p  ...  -q   r  -E   F   C  -D  -A   B   \n",
      "o  h  -g   f   e  -d  -c   b  -1   p   o  ...  -r  -q  -F  -E   D   C  -B  -A   \n",
      "p  i  -j  -k  -l  -m  -n  -o  -p  -1   b  ...   E   F  -q  -r  -s  -t  -u  -v   \n",
      "q  j   i  -l   k  -n   m   p  -o  -b  -1  ...  -F   E   r  -q   t  -s   v  -u   \n",
      "r  k   l   i  -j  -o  -p   m   n  -c   d  ...  -C  -D   s  -t  -q   r   w   x   \n",
      "s  l  -k   j   i  -p   o  -n   m  -d  -c  ...   D  -C   t   s  -r  -q   x  -w   \n",
      "t  m   n   o   p   i  -j  -k  -l  -e   f  ...   A   B   u  -v  -w  -x  -q   r   \n",
      "u  n  -m   p  -o   j   i   l  -k  -f  -e  ...  -B   A   v   u  -x   w  -r  -q   \n",
      "v  o  -p  -m   n   k  -l   i   j  -g  -h  ...  -y  -z   w   x   u  -v  -s   t   \n",
      "w  p   o  -n  -m   l   k  -j   i  -h   g  ...   z  -y   x  -w   v   u  -t  -s   \n",
      "x  q  -r  -s  -t  -u  -v  -w  -x  -y  -z  ...   g   h   i   j   k   l   m   n   \n",
      "y  r   q  -t   s  -v   u   x  -w  -z   y  ...   h  -g  -j   i   l  -k   n  -m   \n",
      "z  s   t   q  -r  -w  -x   u   v  -A  -B  ...   e   f  -k  -l   i   j   o   p   \n",
      "a  t  -s   r   q  -x   w  -v   u  -B   A  ...  -f   e  -l   k  -j   i   p  -o   \n",
      "b  u   v   w   x   q  -r  -s  -t  -C  -D  ...  -c  -d  -m  -n  -o  -p   i   j   \n",
      "c  v  -u   x  -w   r   q   t  -s  -D   C  ...   d  -c  -n   m  -p   o  -j   i   \n",
      "d  w  -x  -u   v   s  -t   q   r  -E   F  ...  -1   b  -o   p   m  -n  -k   l   \n",
      "e  x   w  -v  -u   t   s  -r   q  -F  -E  ...  -b  -1  -p  -o   n   m  -l  -k   \n",
      "f  y   z   A   B   C   D   E   F   q  -r  ...   o   p  -1  -b  -c  -d  -e  -f   \n",
      "g  z  -y   B  -A   D  -C  -F   E   r   q  ...  -p   o   b  -1   d  -c   f  -e   \n",
      "A  A  -B  -y   z   E   F  -C  -D   s  -t  ...  -m  -n   c  -d  -1   b   g   h   \n",
      "B  B   A  -z  -y   F  -E   D  -C   t   s  ...   n  -m   d   c  -b  -1   h  -g   \n",
      "C  C  -D  -E  -F  -y   z   A   B   u  -v  ...   k   l   e  -f  -g  -h  -1   b   \n",
      "D  D   C  -F   E  -z  -y  -B   A   v   u  ...  -l   k   f   e  -h   g  -b  -1   \n",
      "E  E   F   C  -D  -A   B  -y  -z   w   x  ...  -i  -j   g   h   e  -f  -c   d   \n",
      "F  F  -E   D   C  -B  -A   z  -y   x  -w  ...   j  -i   h  -g   f   e  -d  -c   \n",
      "\n",
      "    E   F  \n",
      "1   E   F  \n",
      "i  -F   E  \n",
      "j  -C  -D  \n",
      "k   D  -C  \n",
      "l   A   B  \n",
      "m  -B   A  \n",
      "n   y  -z  \n",
      "o   z   y  \n",
      "p  -w  -x  \n",
      "q  -x   w  \n",
      "r  -u  -v  \n",
      "s   v  -u  \n",
      "t   s   t  \n",
      "u  -t   s  \n",
      "v  -q  -r  \n",
      "w   r  -q  \n",
      "x   o   p  \n",
      "y  -p   o  \n",
      "z  -m  -n  \n",
      "a   n  -m  \n",
      "b   k   l  \n",
      "c  -l   k  \n",
      "d   i  -j  \n",
      "e   j   i  \n",
      "f  -g  -h  \n",
      "g  -h   g  \n",
      "A  -e  -f  \n",
      "B   f  -e  \n",
      "C   c   d  \n",
      "D  -d   c  \n",
      "E  -1  -b  \n",
      "F   b  -1  \n",
      "\n",
      "[32 rows x 32 columns]\n",
      "\n",
      "\n"
     ]
    }
   ],
   "source": [
    "print_multiplication_table(Cd32,) # patience. it takes a minute."
   ]
  },
  {
   "cell_type": "markdown",
   "metadata": {},
   "source": [
    "### Generate multiplication tables for other algebras\n",
    "Subclass involution.Algebra to generate a new algebra."
   ]
  },
  {
   "cell_type": "code",
   "execution_count": 7,
   "metadata": {
    "collapsed": false
   },
   "outputs": [
    {
     "name": "stdout",
     "output_type": "stream",
     "text": [
      "There are 8 dimensions in this 'NewAlgebra'\n",
      "\n",
      "\n",
      "=== NewAlgebra multiplication table ===\n",
      "\n",
      "   1   i   j   k   l   m   n   o\n",
      "1  1   i   j   k   l   m   n   o\n",
      "i  i   1   k   j  -m  -l  -o  -n\n",
      "j  j  -k  -1   i  -n   o   l  -m\n",
      "k  k  -j  -i   1  -o   n   m  -l\n",
      "l  l   m   n   o   1   i   j   k\n",
      "m  m   l  -o  -n  -i  -1   k   j\n",
      "n  n   o  -l  -m  -j  -k   1   i\n",
      "o  o   n   m   l  -k  -j  -i  -1\n",
      "\n",
      "\n"
     ]
    }
   ],
   "source": [
    "import involution\n",
    "class NewAlgebra (involution.algebra.Algebra):\n",
    "    dp = '563'\n",
    "    ii = '+-+'\n",
    "    \n",
    "obj = NewAlgebra\n",
    "print(\"\"\"There are {} dimensions in this '{}'\"\"\".format(obj.dim(obj), obj.__name__))\n",
    "print_multiplication_table(obj)"
   ]
  }
 ],
 "metadata": {
  "kernelspec": {
   "display_name": "Python 3",
   "language": "python",
   "name": "python3"
  },
  "language_info": {
   "codemirror_mode": {
    "name": "ipython",
    "version": 3
   },
   "file_extension": ".py",
   "mimetype": "text/x-python",
   "name": "python",
   "nbconvert_exporter": "python",
   "pygments_lexer": "ipython3",
   "version": "3.5.3"
  }
 },
 "nbformat": 4,
 "nbformat_minor": 2
}
